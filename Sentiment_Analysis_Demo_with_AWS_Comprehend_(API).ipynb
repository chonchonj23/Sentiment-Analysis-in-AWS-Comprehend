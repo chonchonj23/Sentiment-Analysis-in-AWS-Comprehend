{
  "nbformat": 4,
  "nbformat_minor": 0,
  "metadata": {
    "kernelspec": {
      "display_name": "Python 3",
      "language": "python",
      "name": "python3"
    },
    "language_info": {
      "codemirror_mode": {
        "name": "ipython",
        "version": 3
      },
      "file_extension": ".py",
      "mimetype": "text/x-python",
      "name": "python",
      "nbconvert_exporter": "python",
      "pygments_lexer": "ipython3",
      "version": "3.7.9"
    },
    "colab": {
      "name": "Sentiment_Analysis_Demo_with_AWS_Comprehend_(API).ipynb",
      "provenance": [],
      "collapsed_sections": []
    }
  },
  "cells": [
    {
      "cell_type": "markdown",
      "metadata": {
        "id": "Hzy1z5dEM99i"
      },
      "source": [
        "# AWS Comprehend Sentiment Analysis Using Python"
      ]
    },
    {
      "cell_type": "markdown",
      "metadata": {
        "id": "65fRGbDRM99m"
      },
      "source": [
        "This notebook shows how to use boto3 Amazon API to use Amazon Comprehend for real time analysis as well as scheduling analysis jobs.\n",
        "1. For boto3 to work you need to create an IAM User, receive `aws_access_key_id` and `aws_secret_access_key` and configure your credentials using AWS Command Line Interface (AWS CLI)\n",
        "2. Cost. If you are using free AWS tier, you can analyze 50K units a month free.  Every unit is 100 characters. In my example, every tweet is ~2 units. In the scheduled job I am analyzing 10K tweets at once, so the free tier runs out pretty fast, and then it's \\$1 per 10K. Be sure to check pricing before you proceed. https://aws.amazon.com/comprehend/pricing/\n",
        "3. Reference. Boto3 S3: https://boto3.amazonaws.com/v1/documentation/api/latest/reference/services/comprehend.html  Boto3 Comprehend: https://boto3.amazonaws.com/v1/documentation/api/latest/reference/services/s3.html"
      ]
    },
    {
      "cell_type": "code",
      "metadata": {
        "colab": {
          "base_uri": "https://localhost:8080/"
        },
        "id": "w_jz0rwwNWDa",
        "outputId": "9a9cbe8b-ccfb-4fcc-a778-7a1a91454bbe"
      },
      "source": [
        "pip install boto3 langdetect textblob"
      ],
      "execution_count": 1,
      "outputs": [
        {
          "output_type": "stream",
          "name": "stdout",
          "text": [
            "Collecting boto3\n",
            "  Downloading boto3-1.20.24-py3-none-any.whl (131 kB)\n",
            "\u001b[?25l\r\u001b[K     |██▌                             | 10 kB 20.1 MB/s eta 0:00:01\r\u001b[K     |█████                           | 20 kB 25.1 MB/s eta 0:00:01\r\u001b[K     |███████▌                        | 30 kB 30.8 MB/s eta 0:00:01\r\u001b[K     |██████████                      | 40 kB 25.0 MB/s eta 0:00:01\r\u001b[K     |████████████▍                   | 51 kB 9.7 MB/s eta 0:00:01\r\u001b[K     |███████████████                 | 61 kB 10.2 MB/s eta 0:00:01\r\u001b[K     |█████████████████▍              | 71 kB 8.5 MB/s eta 0:00:01\r\u001b[K     |███████████████████▉            | 81 kB 9.4 MB/s eta 0:00:01\r\u001b[K     |██████████████████████▍         | 92 kB 9.4 MB/s eta 0:00:01\r\u001b[K     |████████████████████████▉       | 102 kB 8.5 MB/s eta 0:00:01\r\u001b[K     |███████████████████████████▍    | 112 kB 8.5 MB/s eta 0:00:01\r\u001b[K     |█████████████████████████████▉  | 122 kB 8.5 MB/s eta 0:00:01\r\u001b[K     |████████████████████████████████| 131 kB 8.5 MB/s \n",
            "\u001b[?25hCollecting langdetect\n",
            "  Downloading langdetect-1.0.9.tar.gz (981 kB)\n",
            "\u001b[K     |████████████████████████████████| 981 kB 44.4 MB/s \n",
            "\u001b[?25hRequirement already satisfied: textblob in /usr/local/lib/python3.7/dist-packages (0.15.3)\n",
            "Collecting botocore<1.24.0,>=1.23.24\n",
            "  Downloading botocore-1.23.24-py3-none-any.whl (8.4 MB)\n",
            "\u001b[K     |████████████████████████████████| 8.4 MB 45.1 MB/s \n",
            "\u001b[?25hCollecting s3transfer<0.6.0,>=0.5.0\n",
            "  Downloading s3transfer-0.5.0-py3-none-any.whl (79 kB)\n",
            "\u001b[K     |████████████████████████████████| 79 kB 6.3 MB/s \n",
            "\u001b[?25hCollecting jmespath<1.0.0,>=0.7.1\n",
            "  Downloading jmespath-0.10.0-py2.py3-none-any.whl (24 kB)\n",
            "Collecting urllib3<1.27,>=1.25.4\n",
            "  Downloading urllib3-1.26.7-py2.py3-none-any.whl (138 kB)\n",
            "\u001b[K     |████████████████████████████████| 138 kB 35.5 MB/s \n",
            "\u001b[?25hRequirement already satisfied: python-dateutil<3.0.0,>=2.1 in /usr/local/lib/python3.7/dist-packages (from botocore<1.24.0,>=1.23.24->boto3) (2.8.2)\n",
            "Requirement already satisfied: six>=1.5 in /usr/local/lib/python3.7/dist-packages (from python-dateutil<3.0.0,>=2.1->botocore<1.24.0,>=1.23.24->boto3) (1.15.0)\n",
            "Requirement already satisfied: nltk>=3.1 in /usr/local/lib/python3.7/dist-packages (from textblob) (3.2.5)\n",
            "Building wheels for collected packages: langdetect\n",
            "  Building wheel for langdetect (setup.py) ... \u001b[?25l\u001b[?25hdone\n",
            "  Created wheel for langdetect: filename=langdetect-1.0.9-py3-none-any.whl size=993242 sha256=baafcda3dc40928998f45b0a4463de0e39d0f99ad2b9d9716f2ba35974babc7f\n",
            "  Stored in directory: /root/.cache/pip/wheels/c5/96/8a/f90c59ed25d75e50a8c10a1b1c2d4c402e4dacfa87f3aff36a\n",
            "Successfully built langdetect\n",
            "Installing collected packages: urllib3, jmespath, botocore, s3transfer, langdetect, boto3\n",
            "  Attempting uninstall: urllib3\n",
            "    Found existing installation: urllib3 1.24.3\n",
            "    Uninstalling urllib3-1.24.3:\n",
            "      Successfully uninstalled urllib3-1.24.3\n",
            "\u001b[31mERROR: pip's dependency resolver does not currently take into account all the packages that are installed. This behaviour is the source of the following dependency conflicts.\n",
            "requests 2.23.0 requires urllib3!=1.25.0,!=1.25.1,<1.26,>=1.21.1, but you have urllib3 1.26.7 which is incompatible.\n",
            "datascience 0.10.6 requires folium==0.2.1, but you have folium 0.8.3 which is incompatible.\u001b[0m\n",
            "Successfully installed boto3-1.20.24 botocore-1.23.24 jmespath-0.10.0 langdetect-1.0.9 s3transfer-0.5.0 urllib3-1.26.7\n"
          ]
        }
      ]
    },
    {
      "cell_type": "code",
      "source": [
        "!pip install emoji --upgrade"
      ],
      "metadata": {
        "colab": {
          "base_uri": "https://localhost:8080/"
        },
        "id": "bAWoDISpj4mg",
        "outputId": "9c63c365-60ca-4b8c-9a12-64cdaee1c96f"
      },
      "execution_count": 2,
      "outputs": [
        {
          "output_type": "stream",
          "name": "stdout",
          "text": [
            "Collecting emoji\n",
            "  Downloading emoji-1.6.1.tar.gz (170 kB)\n",
            "\u001b[?25l\r\u001b[K     |██                              | 10 kB 19.0 MB/s eta 0:00:01\r\u001b[K     |███▉                            | 20 kB 24.3 MB/s eta 0:00:01\r\u001b[K     |█████▉                          | 30 kB 19.3 MB/s eta 0:00:01\r\u001b[K     |███████▊                        | 40 kB 12.1 MB/s eta 0:00:01\r\u001b[K     |█████████▋                      | 51 kB 9.7 MB/s eta 0:00:01\r\u001b[K     |███████████▋                    | 61 kB 8.6 MB/s eta 0:00:01\r\u001b[K     |█████████████▌                  | 71 kB 7.8 MB/s eta 0:00:01\r\u001b[K     |███████████████▍                | 81 kB 8.5 MB/s eta 0:00:01\r\u001b[K     |█████████████████▍              | 92 kB 7.0 MB/s eta 0:00:01\r\u001b[K     |███████████████████▎            | 102 kB 7.5 MB/s eta 0:00:01\r\u001b[K     |█████████████████████▏          | 112 kB 7.5 MB/s eta 0:00:01\r\u001b[K     |███████████████████████▏        | 122 kB 7.5 MB/s eta 0:00:01\r\u001b[K     |█████████████████████████       | 133 kB 7.5 MB/s eta 0:00:01\r\u001b[K     |███████████████████████████     | 143 kB 7.5 MB/s eta 0:00:01\r\u001b[K     |█████████████████████████████   | 153 kB 7.5 MB/s eta 0:00:01\r\u001b[K     |██████████████████████████████▉ | 163 kB 7.5 MB/s eta 0:00:01\r\u001b[K     |████████████████████████████████| 170 kB 7.5 MB/s \n",
            "\u001b[?25hBuilding wheels for collected packages: emoji\n",
            "  Building wheel for emoji (setup.py) ... \u001b[?25l\u001b[?25hdone\n",
            "  Created wheel for emoji: filename=emoji-1.6.1-py3-none-any.whl size=169314 sha256=60341b5a0b486dab811401f5de0970702aff894c37ef4d0a7d0fbf3c7a9345cf\n",
            "  Stored in directory: /root/.cache/pip/wheels/ea/5f/d3/03d313ddb3c2a1a427bb4690f1621eea60fe6f2a30cc95940f\n",
            "Successfully built emoji\n",
            "Installing collected packages: emoji\n",
            "Successfully installed emoji-1.6.1\n"
          ]
        }
      ]
    },
    {
      "cell_type": "code",
      "metadata": {
        "id": "v3Tkq9m_M99n"
      },
      "source": [
        "import configparser\n",
        "import os\n",
        "\n",
        "from langdetect import detect\n",
        "\n",
        "import boto3\n",
        "\n",
        "import pandas as pd\n",
        "import json\n",
        "import tarfile  # for unzipping files\n",
        "\n",
        "from emoji import demojize\n",
        "\n",
        "from platform import python_version"
      ],
      "execution_count": 109,
      "outputs": []
    },
    {
      "cell_type": "code",
      "source": [
        "print(python_version())"
      ],
      "metadata": {
        "colab": {
          "base_uri": "https://localhost:8080/"
        },
        "id": "M0ZW91hJM7f0",
        "outputId": "45edc69e-6de5-43fa-a839-fe5bb743d11b"
      },
      "execution_count": 110,
      "outputs": [
        {
          "output_type": "stream",
          "name": "stdout",
          "text": [
            "3.7.12\n"
          ]
        }
      ]
    },
    {
      "cell_type": "code",
      "source": [
        "pd.set_option('display.max_colwidth', None)"
      ],
      "metadata": {
        "id": "FDtfzSIFPhOQ"
      },
      "execution_count": 111,
      "outputs": []
    },
    {
      "cell_type": "code",
      "source": [
        "# https://github.com/chonchonj23/Scrapped_Comments_YouTube_Covid/blob/master/YouTube_comments.xlsx\n",
        "\n",
        "# df_excel = pd.read_excel('YouTube_comments.xlsx', index_col=0)  "
      ],
      "metadata": {
        "id": "cv7MKFEGX5Kl"
      },
      "execution_count": null,
      "outputs": []
    },
    {
      "cell_type": "markdown",
      "source": [
        "## Data extracted from Youtube API"
      ],
      "metadata": {
        "id": "IwETc2CJwvAs"
      }
    },
    {
      "cell_type": "code",
      "metadata": {
        "id": "EcZsgQb9M99o"
      },
      "source": [
        "# Comments extracted from Youtube videos via Youtube API \n",
        "# link_to_data = \"https://raw.githubusercontent.com/chonchonj23/Comments-data-from-Youtube-videos-related-to-COVID-19/main/Youtube_Comments_Combined_16Dec.csv\"\n",
        "\n",
        "link_to_data = \"https://raw.githubusercontent.com/chonchonj23/COVID-comments-in-Youtube/master/Youtube_COVID_Comments_16Dec_All_v2.csv\"\n",
        "\n",
        "df_csv = pd.read_csv(link_to_data, header = 0, dtype = 'str', encoding = 'utf-8', lineterminator='\\n') "
      ],
      "execution_count": 112,
      "outputs": []
    },
    {
      "cell_type": "code",
      "source": [
        "df_csv.count()"
      ],
      "metadata": {
        "colab": {
          "base_uri": "https://localhost:8080/"
        },
        "id": "43UjJ3w4ad5z",
        "outputId": "f0d03bd1-d695-482a-ade6-79b74c2a0890"
      },
      "execution_count": 113,
      "outputs": [
        {
          "output_type": "execute_result",
          "data": {
            "text/plain": [
              "Youtube Comments    355143\n",
              "Video ID            355147\n",
              "dtype: int64"
            ]
          },
          "metadata": {},
          "execution_count": 113
        }
      ]
    },
    {
      "cell_type": "code",
      "source": [
        "df_csv.head()"
      ],
      "metadata": {
        "colab": {
          "base_uri": "https://localhost:8080/",
          "height": 299
        },
        "id": "q03caAsUYAbk",
        "outputId": "d2c249d6-e233-4916-854c-ca9de40c118f"
      },
      "execution_count": 114,
      "outputs": [
        {
          "output_type": "execute_result",
          "data": {
            "text/html": [
              "\n",
              "  <div id=\"df-2bb42d86-2fe6-4397-be9f-094fa8a89f5d\">\n",
              "    <div class=\"colab-df-container\">\n",
              "      <div>\n",
              "<style scoped>\n",
              "    .dataframe tbody tr th:only-of-type {\n",
              "        vertical-align: middle;\n",
              "    }\n",
              "\n",
              "    .dataframe tbody tr th {\n",
              "        vertical-align: top;\n",
              "    }\n",
              "\n",
              "    .dataframe thead th {\n",
              "        text-align: right;\n",
              "    }\n",
              "</style>\n",
              "<table border=\"1\" class=\"dataframe\">\n",
              "  <thead>\n",
              "    <tr style=\"text-align: right;\">\n",
              "      <th></th>\n",
              "      <th>Youtube Comments</th>\n",
              "      <th>Video ID</th>\n",
              "    </tr>\n",
              "  </thead>\n",
              "  <tbody>\n",
              "    <tr>\n",
              "      <th>0</th>\n",
              "      <td>who cares, the next variant decepticon is the one to worry about</td>\n",
              "      <td>ih4xVzLQP24</td>\n",
              "    </tr>\n",
              "    <tr>\n",
              "      <th>1</th>\n",
              "      <td>Worldwide...except for Africa.</td>\n",
              "      <td>ih4xVzLQP24</td>\n",
              "    </tr>\n",
              "    <tr>\n",
              "      <th>2</th>\n",
              "      <td>Once one case is found, the genie :man_genie: is out of the bottle, spreading like a wild fire. USA should get ready to give boosters nor when Mr micron comes, and spreads people are ready.</td>\n",
              "      <td>ih4xVzLQP24</td>\n",
              "    </tr>\n",
              "    <tr>\n",
              "      <th>3</th>\n",
              "      <td>Imagine believing this bs</td>\n",
              "      <td>ih4xVzLQP24</td>\n",
              "    </tr>\n",
              "    <tr>\n",
              "      <th>4</th>\n",
              "      <td>Europe admits Omicron was found IN EUROPE BEFORE AFRICA. So why was South Africa blamed for sounding the alarm?\\r;Europe admits Covid19 was found IN EUROPE BEFORE CHINA. So why was China blamed for sounding the alarm?\\r;Covid deaths = Managed pandemic China 4,636 &amp; New Zealand 48   Mismanaged pandemic US 823,390.\\r;Covid originated at Fort Detrick, Maryland and Spanish flu in Haskell County, Kansas. SO WHY DID AMERICA NOT SOUND THE ALARM ?</td>\n",
              "      <td>ih4xVzLQP24</td>\n",
              "    </tr>\n",
              "  </tbody>\n",
              "</table>\n",
              "</div>\n",
              "      <button class=\"colab-df-convert\" onclick=\"convertToInteractive('df-2bb42d86-2fe6-4397-be9f-094fa8a89f5d')\"\n",
              "              title=\"Convert this dataframe to an interactive table.\"\n",
              "              style=\"display:none;\">\n",
              "        \n",
              "  <svg xmlns=\"http://www.w3.org/2000/svg\" height=\"24px\"viewBox=\"0 0 24 24\"\n",
              "       width=\"24px\">\n",
              "    <path d=\"M0 0h24v24H0V0z\" fill=\"none\"/>\n",
              "    <path d=\"M18.56 5.44l.94 2.06.94-2.06 2.06-.94-2.06-.94-.94-2.06-.94 2.06-2.06.94zm-11 1L8.5 8.5l.94-2.06 2.06-.94-2.06-.94L8.5 2.5l-.94 2.06-2.06.94zm10 10l.94 2.06.94-2.06 2.06-.94-2.06-.94-.94-2.06-.94 2.06-2.06.94z\"/><path d=\"M17.41 7.96l-1.37-1.37c-.4-.4-.92-.59-1.43-.59-.52 0-1.04.2-1.43.59L10.3 9.45l-7.72 7.72c-.78.78-.78 2.05 0 2.83L4 21.41c.39.39.9.59 1.41.59.51 0 1.02-.2 1.41-.59l7.78-7.78 2.81-2.81c.8-.78.8-2.07 0-2.86zM5.41 20L4 18.59l7.72-7.72 1.47 1.35L5.41 20z\"/>\n",
              "  </svg>\n",
              "      </button>\n",
              "      \n",
              "  <style>\n",
              "    .colab-df-container {\n",
              "      display:flex;\n",
              "      flex-wrap:wrap;\n",
              "      gap: 12px;\n",
              "    }\n",
              "\n",
              "    .colab-df-convert {\n",
              "      background-color: #E8F0FE;\n",
              "      border: none;\n",
              "      border-radius: 50%;\n",
              "      cursor: pointer;\n",
              "      display: none;\n",
              "      fill: #1967D2;\n",
              "      height: 32px;\n",
              "      padding: 0 0 0 0;\n",
              "      width: 32px;\n",
              "    }\n",
              "\n",
              "    .colab-df-convert:hover {\n",
              "      background-color: #E2EBFA;\n",
              "      box-shadow: 0px 1px 2px rgba(60, 64, 67, 0.3), 0px 1px 3px 1px rgba(60, 64, 67, 0.15);\n",
              "      fill: #174EA6;\n",
              "    }\n",
              "\n",
              "    [theme=dark] .colab-df-convert {\n",
              "      background-color: #3B4455;\n",
              "      fill: #D2E3FC;\n",
              "    }\n",
              "\n",
              "    [theme=dark] .colab-df-convert:hover {\n",
              "      background-color: #434B5C;\n",
              "      box-shadow: 0px 1px 3px 1px rgba(0, 0, 0, 0.15);\n",
              "      filter: drop-shadow(0px 1px 2px rgba(0, 0, 0, 0.3));\n",
              "      fill: #FFFFFF;\n",
              "    }\n",
              "  </style>\n",
              "\n",
              "      <script>\n",
              "        const buttonEl =\n",
              "          document.querySelector('#df-2bb42d86-2fe6-4397-be9f-094fa8a89f5d button.colab-df-convert');\n",
              "        buttonEl.style.display =\n",
              "          google.colab.kernel.accessAllowed ? 'block' : 'none';\n",
              "\n",
              "        async function convertToInteractive(key) {\n",
              "          const element = document.querySelector('#df-2bb42d86-2fe6-4397-be9f-094fa8a89f5d');\n",
              "          const dataTable =\n",
              "            await google.colab.kernel.invokeFunction('convertToInteractive',\n",
              "                                                     [key], {});\n",
              "          if (!dataTable) return;\n",
              "\n",
              "          const docLinkHtml = 'Like what you see? Visit the ' +\n",
              "            '<a target=\"_blank\" href=https://colab.research.google.com/notebooks/data_table.ipynb>data table notebook</a>'\n",
              "            + ' to learn more about interactive tables.';\n",
              "          element.innerHTML = '';\n",
              "          dataTable['output_type'] = 'display_data';\n",
              "          await google.colab.output.renderOutput(dataTable, element);\n",
              "          const docLink = document.createElement('div');\n",
              "          docLink.innerHTML = docLinkHtml;\n",
              "          element.appendChild(docLink);\n",
              "        }\n",
              "      </script>\n",
              "    </div>\n",
              "  </div>\n",
              "  "
            ],
            "text/plain": [
              "                                                                                                                                                                                                                                                                                                                                                                                                                                              Youtube Comments     Video ID\n",
              "0                                                                                                                                                                                                                                                                                                                                                                                             who cares, the next variant decepticon is the one to worry about  ih4xVzLQP24\n",
              "1                                                                                                                                                                                                                                                                                                                                                                                                                               Worldwide...except for Africa.  ih4xVzLQP24\n",
              "2                                                                                                                                                                                                                                                                Once one case is found, the genie :man_genie: is out of the bottle, spreading like a wild fire. USA should get ready to give boosters nor when Mr micron comes, and spreads people are ready.  ih4xVzLQP24\n",
              "3                                                                                                                                                                                                                                                                                                                                                                                                                                    Imagine believing this bs  ih4xVzLQP24\n",
              "4  Europe admits Omicron was found IN EUROPE BEFORE AFRICA. So why was South Africa blamed for sounding the alarm?\\r;Europe admits Covid19 was found IN EUROPE BEFORE CHINA. So why was China blamed for sounding the alarm?\\r;Covid deaths = Managed pandemic China 4,636 & New Zealand 48   Mismanaged pandemic US 823,390.\\r;Covid originated at Fort Detrick, Maryland and Spanish flu in Haskell County, Kansas. SO WHY DID AMERICA NOT SOUND THE ALARM ?  ih4xVzLQP24"
            ]
          },
          "metadata": {},
          "execution_count": 114
        }
      ]
    },
    {
      "cell_type": "code",
      "source": [
        "df_k = df_csv[df_csv['Youtube Comments'].notnull()]\n",
        "# df = df_k.rename({'Comments': 'Youtube Comments'}, axis=1)\n",
        "df = df_k\n",
        "df['Youtube Comments'] = df['Youtube Comments'].apply(lambda x: demojize(x))"
      ],
      "metadata": {
        "id": "QgGzFYtsZx_c",
        "colab": {
          "base_uri": "https://localhost:8080/"
        },
        "outputId": "c0e0c7ae-20d1-4233-8a8f-6265f03e9a32"
      },
      "execution_count": 115,
      "outputs": [
        {
          "output_type": "stream",
          "name": "stderr",
          "text": [
            "/usr/local/lib/python3.7/dist-packages/ipykernel_launcher.py:4: SettingWithCopyWarning: \n",
            "A value is trying to be set on a copy of a slice from a DataFrame.\n",
            "Try using .loc[row_indexer,col_indexer] = value instead\n",
            "\n",
            "See the caveats in the documentation: https://pandas.pydata.org/pandas-docs/stable/user_guide/indexing.html#returning-a-view-versus-a-copy\n",
            "  after removing the cwd from sys.path.\n"
          ]
        }
      ]
    },
    {
      "cell_type": "code",
      "source": [
        "df.count()"
      ],
      "metadata": {
        "colab": {
          "base_uri": "https://localhost:8080/"
        },
        "id": "dJ7HXIVSKEU5",
        "outputId": "69caf35f-93f1-4b27-b66b-ccef6d40df84"
      },
      "execution_count": 116,
      "outputs": [
        {
          "output_type": "execute_result",
          "data": {
            "text/plain": [
              "Youtube Comments    355143\n",
              "Video ID            355143\n",
              "dtype: int64"
            ]
          },
          "metadata": {},
          "execution_count": 116
        }
      ]
    },
    {
      "cell_type": "code",
      "source": [
        "# df = df.reset_index()"
      ],
      "metadata": {
        "id": "O2N1fkNMcIsn"
      },
      "execution_count": null,
      "outputs": []
    },
    {
      "cell_type": "code",
      "source": [
        "df.head(5)"
      ],
      "metadata": {
        "colab": {
          "base_uri": "https://localhost:8080/",
          "height": 299
        },
        "id": "WNpw8HWncf4G",
        "outputId": "14872339-cdb6-4acc-bf2c-92f89b208d26"
      },
      "execution_count": 16,
      "outputs": [
        {
          "output_type": "execute_result",
          "data": {
            "text/html": [
              "\n",
              "  <div id=\"df-231db1f6-9037-489f-984e-65e25ed62b8a\">\n",
              "    <div class=\"colab-df-container\">\n",
              "      <div>\n",
              "<style scoped>\n",
              "    .dataframe tbody tr th:only-of-type {\n",
              "        vertical-align: middle;\n",
              "    }\n",
              "\n",
              "    .dataframe tbody tr th {\n",
              "        vertical-align: top;\n",
              "    }\n",
              "\n",
              "    .dataframe thead th {\n",
              "        text-align: right;\n",
              "    }\n",
              "</style>\n",
              "<table border=\"1\" class=\"dataframe\">\n",
              "  <thead>\n",
              "    <tr style=\"text-align: right;\">\n",
              "      <th></th>\n",
              "      <th>Youtube Comments</th>\n",
              "      <th>Video ID</th>\n",
              "    </tr>\n",
              "  </thead>\n",
              "  <tbody>\n",
              "    <tr>\n",
              "      <th>0</th>\n",
              "      <td>who cares, the next variant decepticon is the one to worry about</td>\n",
              "      <td>ih4xVzLQP24</td>\n",
              "    </tr>\n",
              "    <tr>\n",
              "      <th>1</th>\n",
              "      <td>Worldwide...except for Africa.</td>\n",
              "      <td>ih4xVzLQP24</td>\n",
              "    </tr>\n",
              "    <tr>\n",
              "      <th>2</th>\n",
              "      <td>Once one case is found, the genie :man_genie: is out of the bottle, spreading like a wild fire. USA should get ready to give boosters nor when Mr micron comes, and spreads people are ready.</td>\n",
              "      <td>ih4xVzLQP24</td>\n",
              "    </tr>\n",
              "    <tr>\n",
              "      <th>3</th>\n",
              "      <td>Imagine believing this bs</td>\n",
              "      <td>ih4xVzLQP24</td>\n",
              "    </tr>\n",
              "    <tr>\n",
              "      <th>4</th>\n",
              "      <td>Europe admits Omicron was found IN EUROPE BEFORE AFRICA. So why was South Africa blamed for sounding the alarm?\\r;Europe admits Covid19 was found IN EUROPE BEFORE CHINA. So why was China blamed for sounding the alarm?\\r;Covid deaths = Managed pandemic China 4,636 &amp; New Zealand 48   Mismanaged pandemic US 823,390.\\r;Covid originated at Fort Detrick, Maryland and Spanish flu in Haskell County, Kansas. SO WHY DID AMERICA NOT SOUND THE ALARM ?</td>\n",
              "      <td>ih4xVzLQP24</td>\n",
              "    </tr>\n",
              "  </tbody>\n",
              "</table>\n",
              "</div>\n",
              "      <button class=\"colab-df-convert\" onclick=\"convertToInteractive('df-231db1f6-9037-489f-984e-65e25ed62b8a')\"\n",
              "              title=\"Convert this dataframe to an interactive table.\"\n",
              "              style=\"display:none;\">\n",
              "        \n",
              "  <svg xmlns=\"http://www.w3.org/2000/svg\" height=\"24px\"viewBox=\"0 0 24 24\"\n",
              "       width=\"24px\">\n",
              "    <path d=\"M0 0h24v24H0V0z\" fill=\"none\"/>\n",
              "    <path d=\"M18.56 5.44l.94 2.06.94-2.06 2.06-.94-2.06-.94-.94-2.06-.94 2.06-2.06.94zm-11 1L8.5 8.5l.94-2.06 2.06-.94-2.06-.94L8.5 2.5l-.94 2.06-2.06.94zm10 10l.94 2.06.94-2.06 2.06-.94-2.06-.94-.94-2.06-.94 2.06-2.06.94z\"/><path d=\"M17.41 7.96l-1.37-1.37c-.4-.4-.92-.59-1.43-.59-.52 0-1.04.2-1.43.59L10.3 9.45l-7.72 7.72c-.78.78-.78 2.05 0 2.83L4 21.41c.39.39.9.59 1.41.59.51 0 1.02-.2 1.41-.59l7.78-7.78 2.81-2.81c.8-.78.8-2.07 0-2.86zM5.41 20L4 18.59l7.72-7.72 1.47 1.35L5.41 20z\"/>\n",
              "  </svg>\n",
              "      </button>\n",
              "      \n",
              "  <style>\n",
              "    .colab-df-container {\n",
              "      display:flex;\n",
              "      flex-wrap:wrap;\n",
              "      gap: 12px;\n",
              "    }\n",
              "\n",
              "    .colab-df-convert {\n",
              "      background-color: #E8F0FE;\n",
              "      border: none;\n",
              "      border-radius: 50%;\n",
              "      cursor: pointer;\n",
              "      display: none;\n",
              "      fill: #1967D2;\n",
              "      height: 32px;\n",
              "      padding: 0 0 0 0;\n",
              "      width: 32px;\n",
              "    }\n",
              "\n",
              "    .colab-df-convert:hover {\n",
              "      background-color: #E2EBFA;\n",
              "      box-shadow: 0px 1px 2px rgba(60, 64, 67, 0.3), 0px 1px 3px 1px rgba(60, 64, 67, 0.15);\n",
              "      fill: #174EA6;\n",
              "    }\n",
              "\n",
              "    [theme=dark] .colab-df-convert {\n",
              "      background-color: #3B4455;\n",
              "      fill: #D2E3FC;\n",
              "    }\n",
              "\n",
              "    [theme=dark] .colab-df-convert:hover {\n",
              "      background-color: #434B5C;\n",
              "      box-shadow: 0px 1px 3px 1px rgba(0, 0, 0, 0.15);\n",
              "      filter: drop-shadow(0px 1px 2px rgba(0, 0, 0, 0.3));\n",
              "      fill: #FFFFFF;\n",
              "    }\n",
              "  </style>\n",
              "\n",
              "      <script>\n",
              "        const buttonEl =\n",
              "          document.querySelector('#df-231db1f6-9037-489f-984e-65e25ed62b8a button.colab-df-convert');\n",
              "        buttonEl.style.display =\n",
              "          google.colab.kernel.accessAllowed ? 'block' : 'none';\n",
              "\n",
              "        async function convertToInteractive(key) {\n",
              "          const element = document.querySelector('#df-231db1f6-9037-489f-984e-65e25ed62b8a');\n",
              "          const dataTable =\n",
              "            await google.colab.kernel.invokeFunction('convertToInteractive',\n",
              "                                                     [key], {});\n",
              "          if (!dataTable) return;\n",
              "\n",
              "          const docLinkHtml = 'Like what you see? Visit the ' +\n",
              "            '<a target=\"_blank\" href=https://colab.research.google.com/notebooks/data_table.ipynb>data table notebook</a>'\n",
              "            + ' to learn more about interactive tables.';\n",
              "          element.innerHTML = '';\n",
              "          dataTable['output_type'] = 'display_data';\n",
              "          await google.colab.output.renderOutput(dataTable, element);\n",
              "          const docLink = document.createElement('div');\n",
              "          docLink.innerHTML = docLinkHtml;\n",
              "          element.appendChild(docLink);\n",
              "        }\n",
              "      </script>\n",
              "    </div>\n",
              "  </div>\n",
              "  "
            ],
            "text/plain": [
              "                                                                                                                                                                                                                                                                                                                                                                                                                                              Youtube Comments     Video ID\n",
              "0                                                                                                                                                                                                                                                                                                                                                                                             who cares, the next variant decepticon is the one to worry about  ih4xVzLQP24\n",
              "1                                                                                                                                                                                                                                                                                                                                                                                                                               Worldwide...except for Africa.  ih4xVzLQP24\n",
              "2                                                                                                                                                                                                                                                                Once one case is found, the genie :man_genie: is out of the bottle, spreading like a wild fire. USA should get ready to give boosters nor when Mr micron comes, and spreads people are ready.  ih4xVzLQP24\n",
              "3                                                                                                                                                                                                                                                                                                                                                                                                                                    Imagine believing this bs  ih4xVzLQP24\n",
              "4  Europe admits Omicron was found IN EUROPE BEFORE AFRICA. So why was South Africa blamed for sounding the alarm?\\r;Europe admits Covid19 was found IN EUROPE BEFORE CHINA. So why was China blamed for sounding the alarm?\\r;Covid deaths = Managed pandemic China 4,636 & New Zealand 48   Mismanaged pandemic US 823,390.\\r;Covid originated at Fort Detrick, Maryland and Spanish flu in Haskell County, Kansas. SO WHY DID AMERICA NOT SOUND THE ALARM ?  ih4xVzLQP24"
            ]
          },
          "metadata": {},
          "execution_count": 16
        }
      ]
    },
    {
      "cell_type": "markdown",
      "source": [
        "## Continued"
      ],
      "metadata": {
        "id": "DX9Ek7Xlw79j"
      }
    },
    {
      "cell_type": "code",
      "source": [
        "df.count()"
      ],
      "metadata": {
        "colab": {
          "base_uri": "https://localhost:8080/"
        },
        "id": "1PhzuBLQirSN",
        "outputId": "86cec610-45a2-439a-ab80-599017946a89"
      },
      "execution_count": 117,
      "outputs": [
        {
          "output_type": "execute_result",
          "data": {
            "text/plain": [
              "Youtube Comments    355143\n",
              "Video ID            355143\n",
              "dtype: int64"
            ]
          },
          "metadata": {},
          "execution_count": 117
        }
      ]
    },
    {
      "cell_type": "code",
      "source": [
        "# to identify English Comments\n",
        "\n",
        "def isEnglish(s):\n",
        "  try:\n",
        "      # s.isalpha()\n",
        "      # return s.isalpha()\n",
        "      s.isascii()\n",
        "      return s.isascii()\n",
        "\n",
        "  except Exception:\n",
        "      return False"
      ],
      "metadata": {
        "id": "N1fpc0yhDvV4"
      },
      "execution_count": 118,
      "outputs": []
    },
    {
      "cell_type": "code",
      "source": [
        "# isEnglish(\"’\")"
      ],
      "metadata": {
        "id": "2dkCnjIxZnUv"
      },
      "execution_count": null,
      "outputs": []
    },
    {
      "cell_type": "code",
      "source": [
        "# isEnglish(\"I thought they were “vaccinated” when will y’all wake up. What’s the point of the vaccination if you’re just going to quarantine everyone\")"
      ],
      "metadata": {
        "id": "1VGkRrSzavIs"
      },
      "execution_count": null,
      "outputs": []
    },
    {
      "cell_type": "code",
      "source": [
        "df['Youtube Comments'] = df['Youtube Comments'].str.strip()\n",
        "\n",
        "df['language'] = df['Youtube Comments'].replace(\"’\", \"\", regex=True)\\\n",
        ".replace(\"1:1\", \"\", regex=True).replace(\"…\", \"\", regex=True).replace(\"”\", \"\", regex=True)\\\n",
        ".replace(\"’\", \"\", regex=True).replace(\"“\", \"\", regex=True)\\\n",
        ".replace(\"\\n\", \";\", regex=True).replace(\"\\t\", \";\", regex=True).replace(\"\\r\", \";\", regex=True).replace(\"\\v\", \";\", regex=True)\\\n",
        ".replace(\"-\", \"\", regex=True).replace(\"      \", \"\", regex=True)\\\n",
        ".apply(lambda x: isEnglish(x))"
      ],
      "metadata": {
        "id": "L7dMZtSU9_v1",
        "colab": {
          "base_uri": "https://localhost:8080/"
        },
        "outputId": "499c831d-28ad-4aa6-802f-3051e13c7f02"
      },
      "execution_count": 119,
      "outputs": [
        {
          "output_type": "stream",
          "name": "stderr",
          "text": [
            "/usr/local/lib/python3.7/dist-packages/ipykernel_launcher.py:1: SettingWithCopyWarning: \n",
            "A value is trying to be set on a copy of a slice from a DataFrame.\n",
            "Try using .loc[row_indexer,col_indexer] = value instead\n",
            "\n",
            "See the caveats in the documentation: https://pandas.pydata.org/pandas-docs/stable/user_guide/indexing.html#returning-a-view-versus-a-copy\n",
            "  \"\"\"Entry point for launching an IPython kernel.\n",
            "/usr/local/lib/python3.7/dist-packages/ipykernel_launcher.py:3: SettingWithCopyWarning: \n",
            "A value is trying to be set on a copy of a slice from a DataFrame.\n",
            "Try using .loc[row_indexer,col_indexer] = value instead\n",
            "\n",
            "See the caveats in the documentation: https://pandas.pydata.org/pandas-docs/stable/user_guide/indexing.html#returning-a-view-versus-a-copy\n",
            "  This is separate from the ipykernel package so we can avoid doing imports until\n"
          ]
        }
      ]
    },
    {
      "cell_type": "code",
      "source": [
        "# .replace(\"/n\", \";\", regex=True).replace(\"/t\", \";\", regex=True).replace(\"/r\", \";\", regex=True).replace(\"/v\", \";\", regex=True)\\\n",
        "\n",
        "df['Youtube Comments'] = df['Youtube Comments'].replace(\"’\", \"\", regex=True)\\\n",
        ".replace(\"1:1\", \"\", regex=True).replace(\"…\", \"\", regex=True).replace(\"”\", \"\", regex=True)\\\n",
        ".replace(\"’\", \"\", regex=True).replace(\"“\", \"\", regex=True)\\\n",
        ".replace(\"\\n\", \";\", regex=True).replace(\"\\t\", \";\", regex=True).replace(\"\\r\", \";\", regex=True).replace(\"\\v\", \";\", regex=True)\\\n",
        ".replace(\"-\", \"\", regex=True).replace(\"      \", \"\", regex=True)"
      ],
      "metadata": {
        "id": "Mw5phrcm-uNF",
        "colab": {
          "base_uri": "https://localhost:8080/"
        },
        "outputId": "c78023a6-7156-4dbc-f41c-3e6d647add14"
      },
      "execution_count": 120,
      "outputs": [
        {
          "output_type": "stream",
          "name": "stderr",
          "text": [
            "/usr/local/lib/python3.7/dist-packages/ipykernel_launcher.py:3: SettingWithCopyWarning: \n",
            "A value is trying to be set on a copy of a slice from a DataFrame.\n",
            "Try using .loc[row_indexer,col_indexer] = value instead\n",
            "\n",
            "See the caveats in the documentation: https://pandas.pydata.org/pandas-docs/stable/user_guide/indexing.html#returning-a-view-versus-a-copy\n",
            "  This is separate from the ipykernel package so we can avoid doing imports until\n"
          ]
        }
      ]
    },
    {
      "cell_type": "code",
      "source": [
        ""
      ],
      "metadata": {
        "colab": {
          "base_uri": "https://localhost:8080/",
          "height": 35
        },
        "id": "ymUzAEu4dowL",
        "outputId": "5a899d86-711c-4928-d815-bd9f0859e2db"
      },
      "execution_count": 132,
      "outputs": [
        {
          "output_type": "execute_result",
          "data": {
            "application/vnd.google.colaboratory.intrinsic+json": {
              "type": "string"
            },
            "text/plain": [
              "'Sad stuff happening.'"
            ]
          },
          "metadata": {},
          "execution_count": 132
        }
      ]
    },
    {
      "cell_type": "code",
      "source": [
        "df.head(5)"
      ],
      "metadata": {
        "colab": {
          "base_uri": "https://localhost:8080/",
          "height": 316
        },
        "id": "njpJFBlE9gy1",
        "outputId": "2b32c4c9-9b52-4705-fb4c-62064d7938b7"
      },
      "execution_count": 21,
      "outputs": [
        {
          "output_type": "execute_result",
          "data": {
            "text/html": [
              "\n",
              "  <div id=\"df-c4cdab94-69d6-49ea-81a2-43637dbc8260\">\n",
              "    <div class=\"colab-df-container\">\n",
              "      <div>\n",
              "<style scoped>\n",
              "    .dataframe tbody tr th:only-of-type {\n",
              "        vertical-align: middle;\n",
              "    }\n",
              "\n",
              "    .dataframe tbody tr th {\n",
              "        vertical-align: top;\n",
              "    }\n",
              "\n",
              "    .dataframe thead th {\n",
              "        text-align: right;\n",
              "    }\n",
              "</style>\n",
              "<table border=\"1\" class=\"dataframe\">\n",
              "  <thead>\n",
              "    <tr style=\"text-align: right;\">\n",
              "      <th></th>\n",
              "      <th>Youtube Comments</th>\n",
              "      <th>Video ID</th>\n",
              "      <th>language</th>\n",
              "    </tr>\n",
              "  </thead>\n",
              "  <tbody>\n",
              "    <tr>\n",
              "      <th>0</th>\n",
              "      <td>who cares, the next variant decepticon is the one to worry about</td>\n",
              "      <td>ih4xVzLQP24</td>\n",
              "      <td>True</td>\n",
              "    </tr>\n",
              "    <tr>\n",
              "      <th>1</th>\n",
              "      <td>Worldwide...except for Africa.</td>\n",
              "      <td>ih4xVzLQP24</td>\n",
              "      <td>True</td>\n",
              "    </tr>\n",
              "    <tr>\n",
              "      <th>2</th>\n",
              "      <td>Once one case is found, the genie :man_genie: is out of the bottle, spreading like a wild fire. USA should get ready to give boosters nor when Mr micron comes, and spreads people are ready.</td>\n",
              "      <td>ih4xVzLQP24</td>\n",
              "      <td>True</td>\n",
              "    </tr>\n",
              "    <tr>\n",
              "      <th>3</th>\n",
              "      <td>Imagine believing this bs</td>\n",
              "      <td>ih4xVzLQP24</td>\n",
              "      <td>True</td>\n",
              "    </tr>\n",
              "    <tr>\n",
              "      <th>4</th>\n",
              "      <td>Europe admits Omicron was found IN EUROPE BEFORE AFRICA. So why was South Africa blamed for sounding the alarm?;;Europe admits Covid19 was found IN EUROPE BEFORE CHINA. So why was China blamed for sounding the alarm?;;Covid deaths = Managed pandemic China 4,636 &amp; New Zealand 48   Mismanaged pandemic US 823,390.;;Covid originated at Fort Detrick, Maryland and Spanish flu in Haskell County, Kansas. SO WHY DID AMERICA NOT SOUND THE ALARM ?</td>\n",
              "      <td>ih4xVzLQP24</td>\n",
              "      <td>True</td>\n",
              "    </tr>\n",
              "  </tbody>\n",
              "</table>\n",
              "</div>\n",
              "      <button class=\"colab-df-convert\" onclick=\"convertToInteractive('df-c4cdab94-69d6-49ea-81a2-43637dbc8260')\"\n",
              "              title=\"Convert this dataframe to an interactive table.\"\n",
              "              style=\"display:none;\">\n",
              "        \n",
              "  <svg xmlns=\"http://www.w3.org/2000/svg\" height=\"24px\"viewBox=\"0 0 24 24\"\n",
              "       width=\"24px\">\n",
              "    <path d=\"M0 0h24v24H0V0z\" fill=\"none\"/>\n",
              "    <path d=\"M18.56 5.44l.94 2.06.94-2.06 2.06-.94-2.06-.94-.94-2.06-.94 2.06-2.06.94zm-11 1L8.5 8.5l.94-2.06 2.06-.94-2.06-.94L8.5 2.5l-.94 2.06-2.06.94zm10 10l.94 2.06.94-2.06 2.06-.94-2.06-.94-.94-2.06-.94 2.06-2.06.94z\"/><path d=\"M17.41 7.96l-1.37-1.37c-.4-.4-.92-.59-1.43-.59-.52 0-1.04.2-1.43.59L10.3 9.45l-7.72 7.72c-.78.78-.78 2.05 0 2.83L4 21.41c.39.39.9.59 1.41.59.51 0 1.02-.2 1.41-.59l7.78-7.78 2.81-2.81c.8-.78.8-2.07 0-2.86zM5.41 20L4 18.59l7.72-7.72 1.47 1.35L5.41 20z\"/>\n",
              "  </svg>\n",
              "      </button>\n",
              "      \n",
              "  <style>\n",
              "    .colab-df-container {\n",
              "      display:flex;\n",
              "      flex-wrap:wrap;\n",
              "      gap: 12px;\n",
              "    }\n",
              "\n",
              "    .colab-df-convert {\n",
              "      background-color: #E8F0FE;\n",
              "      border: none;\n",
              "      border-radius: 50%;\n",
              "      cursor: pointer;\n",
              "      display: none;\n",
              "      fill: #1967D2;\n",
              "      height: 32px;\n",
              "      padding: 0 0 0 0;\n",
              "      width: 32px;\n",
              "    }\n",
              "\n",
              "    .colab-df-convert:hover {\n",
              "      background-color: #E2EBFA;\n",
              "      box-shadow: 0px 1px 2px rgba(60, 64, 67, 0.3), 0px 1px 3px 1px rgba(60, 64, 67, 0.15);\n",
              "      fill: #174EA6;\n",
              "    }\n",
              "\n",
              "    [theme=dark] .colab-df-convert {\n",
              "      background-color: #3B4455;\n",
              "      fill: #D2E3FC;\n",
              "    }\n",
              "\n",
              "    [theme=dark] .colab-df-convert:hover {\n",
              "      background-color: #434B5C;\n",
              "      box-shadow: 0px 1px 3px 1px rgba(0, 0, 0, 0.15);\n",
              "      filter: drop-shadow(0px 1px 2px rgba(0, 0, 0, 0.3));\n",
              "      fill: #FFFFFF;\n",
              "    }\n",
              "  </style>\n",
              "\n",
              "      <script>\n",
              "        const buttonEl =\n",
              "          document.querySelector('#df-c4cdab94-69d6-49ea-81a2-43637dbc8260 button.colab-df-convert');\n",
              "        buttonEl.style.display =\n",
              "          google.colab.kernel.accessAllowed ? 'block' : 'none';\n",
              "\n",
              "        async function convertToInteractive(key) {\n",
              "          const element = document.querySelector('#df-c4cdab94-69d6-49ea-81a2-43637dbc8260');\n",
              "          const dataTable =\n",
              "            await google.colab.kernel.invokeFunction('convertToInteractive',\n",
              "                                                     [key], {});\n",
              "          if (!dataTable) return;\n",
              "\n",
              "          const docLinkHtml = 'Like what you see? Visit the ' +\n",
              "            '<a target=\"_blank\" href=https://colab.research.google.com/notebooks/data_table.ipynb>data table notebook</a>'\n",
              "            + ' to learn more about interactive tables.';\n",
              "          element.innerHTML = '';\n",
              "          dataTable['output_type'] = 'display_data';\n",
              "          await google.colab.output.renderOutput(dataTable, element);\n",
              "          const docLink = document.createElement('div');\n",
              "          docLink.innerHTML = docLinkHtml;\n",
              "          element.appendChild(docLink);\n",
              "        }\n",
              "      </script>\n",
              "    </div>\n",
              "  </div>\n",
              "  "
            ],
            "text/plain": [
              "                                                                                                                                                                                                                                                                                                                                                                                                                                           Youtube Comments  ... language\n",
              "0                                                                                                                                                                                                                                                                                                                                                                                          who cares, the next variant decepticon is the one to worry about  ...     True\n",
              "1                                                                                                                                                                                                                                                                                                                                                                                                                            Worldwide...except for Africa.  ...     True\n",
              "2                                                                                                                                                                                                                                                             Once one case is found, the genie :man_genie: is out of the bottle, spreading like a wild fire. USA should get ready to give boosters nor when Mr micron comes, and spreads people are ready.  ...     True\n",
              "3                                                                                                                                                                                                                                                                                                                                                                                                                                 Imagine believing this bs  ...     True\n",
              "4  Europe admits Omicron was found IN EUROPE BEFORE AFRICA. So why was South Africa blamed for sounding the alarm?;;Europe admits Covid19 was found IN EUROPE BEFORE CHINA. So why was China blamed for sounding the alarm?;;Covid deaths = Managed pandemic China 4,636 & New Zealand 48   Mismanaged pandemic US 823,390.;;Covid originated at Fort Detrick, Maryland and Spanish flu in Haskell County, Kansas. SO WHY DID AMERICA NOT SOUND THE ALARM ?  ...     True\n",
              "\n",
              "[5 rows x 3 columns]"
            ]
          },
          "metadata": {},
          "execution_count": 21
        }
      ]
    },
    {
      "cell_type": "code",
      "source": [
        "df[df['Youtube Comments'].str.contains(\"\\n\")]"
      ],
      "metadata": {
        "colab": {
          "base_uri": "https://localhost:8080/",
          "height": 49
        },
        "id": "cB5glm9L8jSK",
        "outputId": "c2f6cb59-5c44-4f31-9388-47f93e430962"
      },
      "execution_count": 22,
      "outputs": [
        {
          "output_type": "execute_result",
          "data": {
            "text/html": [
              "\n",
              "  <div id=\"df-b40cb42f-c47c-4b40-af95-86cb5189b3a7\">\n",
              "    <div class=\"colab-df-container\">\n",
              "      <div>\n",
              "<style scoped>\n",
              "    .dataframe tbody tr th:only-of-type {\n",
              "        vertical-align: middle;\n",
              "    }\n",
              "\n",
              "    .dataframe tbody tr th {\n",
              "        vertical-align: top;\n",
              "    }\n",
              "\n",
              "    .dataframe thead th {\n",
              "        text-align: right;\n",
              "    }\n",
              "</style>\n",
              "<table border=\"1\" class=\"dataframe\">\n",
              "  <thead>\n",
              "    <tr style=\"text-align: right;\">\n",
              "      <th></th>\n",
              "      <th>Youtube Comments</th>\n",
              "      <th>Video ID</th>\n",
              "      <th>language</th>\n",
              "    </tr>\n",
              "  </thead>\n",
              "  <tbody>\n",
              "  </tbody>\n",
              "</table>\n",
              "</div>\n",
              "      <button class=\"colab-df-convert\" onclick=\"convertToInteractive('df-b40cb42f-c47c-4b40-af95-86cb5189b3a7')\"\n",
              "              title=\"Convert this dataframe to an interactive table.\"\n",
              "              style=\"display:none;\">\n",
              "        \n",
              "  <svg xmlns=\"http://www.w3.org/2000/svg\" height=\"24px\"viewBox=\"0 0 24 24\"\n",
              "       width=\"24px\">\n",
              "    <path d=\"M0 0h24v24H0V0z\" fill=\"none\"/>\n",
              "    <path d=\"M18.56 5.44l.94 2.06.94-2.06 2.06-.94-2.06-.94-.94-2.06-.94 2.06-2.06.94zm-11 1L8.5 8.5l.94-2.06 2.06-.94-2.06-.94L8.5 2.5l-.94 2.06-2.06.94zm10 10l.94 2.06.94-2.06 2.06-.94-2.06-.94-.94-2.06-.94 2.06-2.06.94z\"/><path d=\"M17.41 7.96l-1.37-1.37c-.4-.4-.92-.59-1.43-.59-.52 0-1.04.2-1.43.59L10.3 9.45l-7.72 7.72c-.78.78-.78 2.05 0 2.83L4 21.41c.39.39.9.59 1.41.59.51 0 1.02-.2 1.41-.59l7.78-7.78 2.81-2.81c.8-.78.8-2.07 0-2.86zM5.41 20L4 18.59l7.72-7.72 1.47 1.35L5.41 20z\"/>\n",
              "  </svg>\n",
              "      </button>\n",
              "      \n",
              "  <style>\n",
              "    .colab-df-container {\n",
              "      display:flex;\n",
              "      flex-wrap:wrap;\n",
              "      gap: 12px;\n",
              "    }\n",
              "\n",
              "    .colab-df-convert {\n",
              "      background-color: #E8F0FE;\n",
              "      border: none;\n",
              "      border-radius: 50%;\n",
              "      cursor: pointer;\n",
              "      display: none;\n",
              "      fill: #1967D2;\n",
              "      height: 32px;\n",
              "      padding: 0 0 0 0;\n",
              "      width: 32px;\n",
              "    }\n",
              "\n",
              "    .colab-df-convert:hover {\n",
              "      background-color: #E2EBFA;\n",
              "      box-shadow: 0px 1px 2px rgba(60, 64, 67, 0.3), 0px 1px 3px 1px rgba(60, 64, 67, 0.15);\n",
              "      fill: #174EA6;\n",
              "    }\n",
              "\n",
              "    [theme=dark] .colab-df-convert {\n",
              "      background-color: #3B4455;\n",
              "      fill: #D2E3FC;\n",
              "    }\n",
              "\n",
              "    [theme=dark] .colab-df-convert:hover {\n",
              "      background-color: #434B5C;\n",
              "      box-shadow: 0px 1px 3px 1px rgba(0, 0, 0, 0.15);\n",
              "      filter: drop-shadow(0px 1px 2px rgba(0, 0, 0, 0.3));\n",
              "      fill: #FFFFFF;\n",
              "    }\n",
              "  </style>\n",
              "\n",
              "      <script>\n",
              "        const buttonEl =\n",
              "          document.querySelector('#df-b40cb42f-c47c-4b40-af95-86cb5189b3a7 button.colab-df-convert');\n",
              "        buttonEl.style.display =\n",
              "          google.colab.kernel.accessAllowed ? 'block' : 'none';\n",
              "\n",
              "        async function convertToInteractive(key) {\n",
              "          const element = document.querySelector('#df-b40cb42f-c47c-4b40-af95-86cb5189b3a7');\n",
              "          const dataTable =\n",
              "            await google.colab.kernel.invokeFunction('convertToInteractive',\n",
              "                                                     [key], {});\n",
              "          if (!dataTable) return;\n",
              "\n",
              "          const docLinkHtml = 'Like what you see? Visit the ' +\n",
              "            '<a target=\"_blank\" href=https://colab.research.google.com/notebooks/data_table.ipynb>data table notebook</a>'\n",
              "            + ' to learn more about interactive tables.';\n",
              "          element.innerHTML = '';\n",
              "          dataTable['output_type'] = 'display_data';\n",
              "          await google.colab.output.renderOutput(dataTable, element);\n",
              "          const docLink = document.createElement('div');\n",
              "          docLink.innerHTML = docLinkHtml;\n",
              "          element.appendChild(docLink);\n",
              "        }\n",
              "      </script>\n",
              "    </div>\n",
              "  </div>\n",
              "  "
            ],
            "text/plain": [
              "Empty DataFrame\n",
              "Columns: [Youtube Comments, Video ID, language]\n",
              "Index: []"
            ]
          },
          "metadata": {},
          "execution_count": 22
        }
      ]
    },
    {
      "cell_type": "code",
      "source": [
        "df[df['Youtube Comments'].str.contains(\"\\r\")]"
      ],
      "metadata": {
        "colab": {
          "base_uri": "https://localhost:8080/",
          "height": 49
        },
        "id": "9x8dp2869QhX",
        "outputId": "1d3a7ead-b06e-492a-86ed-4c7549703bef"
      },
      "execution_count": 23,
      "outputs": [
        {
          "output_type": "execute_result",
          "data": {
            "text/html": [
              "\n",
              "  <div id=\"df-55bc81d6-65be-4409-abcb-26a772a52541\">\n",
              "    <div class=\"colab-df-container\">\n",
              "      <div>\n",
              "<style scoped>\n",
              "    .dataframe tbody tr th:only-of-type {\n",
              "        vertical-align: middle;\n",
              "    }\n",
              "\n",
              "    .dataframe tbody tr th {\n",
              "        vertical-align: top;\n",
              "    }\n",
              "\n",
              "    .dataframe thead th {\n",
              "        text-align: right;\n",
              "    }\n",
              "</style>\n",
              "<table border=\"1\" class=\"dataframe\">\n",
              "  <thead>\n",
              "    <tr style=\"text-align: right;\">\n",
              "      <th></th>\n",
              "      <th>Youtube Comments</th>\n",
              "      <th>Video ID</th>\n",
              "      <th>language</th>\n",
              "    </tr>\n",
              "  </thead>\n",
              "  <tbody>\n",
              "  </tbody>\n",
              "</table>\n",
              "</div>\n",
              "      <button class=\"colab-df-convert\" onclick=\"convertToInteractive('df-55bc81d6-65be-4409-abcb-26a772a52541')\"\n",
              "              title=\"Convert this dataframe to an interactive table.\"\n",
              "              style=\"display:none;\">\n",
              "        \n",
              "  <svg xmlns=\"http://www.w3.org/2000/svg\" height=\"24px\"viewBox=\"0 0 24 24\"\n",
              "       width=\"24px\">\n",
              "    <path d=\"M0 0h24v24H0V0z\" fill=\"none\"/>\n",
              "    <path d=\"M18.56 5.44l.94 2.06.94-2.06 2.06-.94-2.06-.94-.94-2.06-.94 2.06-2.06.94zm-11 1L8.5 8.5l.94-2.06 2.06-.94-2.06-.94L8.5 2.5l-.94 2.06-2.06.94zm10 10l.94 2.06.94-2.06 2.06-.94-2.06-.94-.94-2.06-.94 2.06-2.06.94z\"/><path d=\"M17.41 7.96l-1.37-1.37c-.4-.4-.92-.59-1.43-.59-.52 0-1.04.2-1.43.59L10.3 9.45l-7.72 7.72c-.78.78-.78 2.05 0 2.83L4 21.41c.39.39.9.59 1.41.59.51 0 1.02-.2 1.41-.59l7.78-7.78 2.81-2.81c.8-.78.8-2.07 0-2.86zM5.41 20L4 18.59l7.72-7.72 1.47 1.35L5.41 20z\"/>\n",
              "  </svg>\n",
              "      </button>\n",
              "      \n",
              "  <style>\n",
              "    .colab-df-container {\n",
              "      display:flex;\n",
              "      flex-wrap:wrap;\n",
              "      gap: 12px;\n",
              "    }\n",
              "\n",
              "    .colab-df-convert {\n",
              "      background-color: #E8F0FE;\n",
              "      border: none;\n",
              "      border-radius: 50%;\n",
              "      cursor: pointer;\n",
              "      display: none;\n",
              "      fill: #1967D2;\n",
              "      height: 32px;\n",
              "      padding: 0 0 0 0;\n",
              "      width: 32px;\n",
              "    }\n",
              "\n",
              "    .colab-df-convert:hover {\n",
              "      background-color: #E2EBFA;\n",
              "      box-shadow: 0px 1px 2px rgba(60, 64, 67, 0.3), 0px 1px 3px 1px rgba(60, 64, 67, 0.15);\n",
              "      fill: #174EA6;\n",
              "    }\n",
              "\n",
              "    [theme=dark] .colab-df-convert {\n",
              "      background-color: #3B4455;\n",
              "      fill: #D2E3FC;\n",
              "    }\n",
              "\n",
              "    [theme=dark] .colab-df-convert:hover {\n",
              "      background-color: #434B5C;\n",
              "      box-shadow: 0px 1px 3px 1px rgba(0, 0, 0, 0.15);\n",
              "      filter: drop-shadow(0px 1px 2px rgba(0, 0, 0, 0.3));\n",
              "      fill: #FFFFFF;\n",
              "    }\n",
              "  </style>\n",
              "\n",
              "      <script>\n",
              "        const buttonEl =\n",
              "          document.querySelector('#df-55bc81d6-65be-4409-abcb-26a772a52541 button.colab-df-convert');\n",
              "        buttonEl.style.display =\n",
              "          google.colab.kernel.accessAllowed ? 'block' : 'none';\n",
              "\n",
              "        async function convertToInteractive(key) {\n",
              "          const element = document.querySelector('#df-55bc81d6-65be-4409-abcb-26a772a52541');\n",
              "          const dataTable =\n",
              "            await google.colab.kernel.invokeFunction('convertToInteractive',\n",
              "                                                     [key], {});\n",
              "          if (!dataTable) return;\n",
              "\n",
              "          const docLinkHtml = 'Like what you see? Visit the ' +\n",
              "            '<a target=\"_blank\" href=https://colab.research.google.com/notebooks/data_table.ipynb>data table notebook</a>'\n",
              "            + ' to learn more about interactive tables.';\n",
              "          element.innerHTML = '';\n",
              "          dataTable['output_type'] = 'display_data';\n",
              "          await google.colab.output.renderOutput(dataTable, element);\n",
              "          const docLink = document.createElement('div');\n",
              "          docLink.innerHTML = docLinkHtml;\n",
              "          element.appendChild(docLink);\n",
              "        }\n",
              "      </script>\n",
              "    </div>\n",
              "  </div>\n",
              "  "
            ],
            "text/plain": [
              "Empty DataFrame\n",
              "Columns: [Youtube Comments, Video ID, language]\n",
              "Index: []"
            ]
          },
          "metadata": {},
          "execution_count": 23
        }
      ]
    },
    {
      "cell_type": "code",
      "source": [
        "df[df['Youtube Comments'].str.contains(\"\\v\")]"
      ],
      "metadata": {
        "colab": {
          "base_uri": "https://localhost:8080/",
          "height": 49
        },
        "id": "lLEdmjQx85la",
        "outputId": "f16c3b14-c15d-4760-dbd0-e7a01bbd74ce"
      },
      "execution_count": 24,
      "outputs": [
        {
          "output_type": "execute_result",
          "data": {
            "text/html": [
              "\n",
              "  <div id=\"df-5ca17d2c-8e79-4bb8-85ab-12b548ed7c8a\">\n",
              "    <div class=\"colab-df-container\">\n",
              "      <div>\n",
              "<style scoped>\n",
              "    .dataframe tbody tr th:only-of-type {\n",
              "        vertical-align: middle;\n",
              "    }\n",
              "\n",
              "    .dataframe tbody tr th {\n",
              "        vertical-align: top;\n",
              "    }\n",
              "\n",
              "    .dataframe thead th {\n",
              "        text-align: right;\n",
              "    }\n",
              "</style>\n",
              "<table border=\"1\" class=\"dataframe\">\n",
              "  <thead>\n",
              "    <tr style=\"text-align: right;\">\n",
              "      <th></th>\n",
              "      <th>Youtube Comments</th>\n",
              "      <th>Video ID</th>\n",
              "      <th>language</th>\n",
              "    </tr>\n",
              "  </thead>\n",
              "  <tbody>\n",
              "  </tbody>\n",
              "</table>\n",
              "</div>\n",
              "      <button class=\"colab-df-convert\" onclick=\"convertToInteractive('df-5ca17d2c-8e79-4bb8-85ab-12b548ed7c8a')\"\n",
              "              title=\"Convert this dataframe to an interactive table.\"\n",
              "              style=\"display:none;\">\n",
              "        \n",
              "  <svg xmlns=\"http://www.w3.org/2000/svg\" height=\"24px\"viewBox=\"0 0 24 24\"\n",
              "       width=\"24px\">\n",
              "    <path d=\"M0 0h24v24H0V0z\" fill=\"none\"/>\n",
              "    <path d=\"M18.56 5.44l.94 2.06.94-2.06 2.06-.94-2.06-.94-.94-2.06-.94 2.06-2.06.94zm-11 1L8.5 8.5l.94-2.06 2.06-.94-2.06-.94L8.5 2.5l-.94 2.06-2.06.94zm10 10l.94 2.06.94-2.06 2.06-.94-2.06-.94-.94-2.06-.94 2.06-2.06.94z\"/><path d=\"M17.41 7.96l-1.37-1.37c-.4-.4-.92-.59-1.43-.59-.52 0-1.04.2-1.43.59L10.3 9.45l-7.72 7.72c-.78.78-.78 2.05 0 2.83L4 21.41c.39.39.9.59 1.41.59.51 0 1.02-.2 1.41-.59l7.78-7.78 2.81-2.81c.8-.78.8-2.07 0-2.86zM5.41 20L4 18.59l7.72-7.72 1.47 1.35L5.41 20z\"/>\n",
              "  </svg>\n",
              "      </button>\n",
              "      \n",
              "  <style>\n",
              "    .colab-df-container {\n",
              "      display:flex;\n",
              "      flex-wrap:wrap;\n",
              "      gap: 12px;\n",
              "    }\n",
              "\n",
              "    .colab-df-convert {\n",
              "      background-color: #E8F0FE;\n",
              "      border: none;\n",
              "      border-radius: 50%;\n",
              "      cursor: pointer;\n",
              "      display: none;\n",
              "      fill: #1967D2;\n",
              "      height: 32px;\n",
              "      padding: 0 0 0 0;\n",
              "      width: 32px;\n",
              "    }\n",
              "\n",
              "    .colab-df-convert:hover {\n",
              "      background-color: #E2EBFA;\n",
              "      box-shadow: 0px 1px 2px rgba(60, 64, 67, 0.3), 0px 1px 3px 1px rgba(60, 64, 67, 0.15);\n",
              "      fill: #174EA6;\n",
              "    }\n",
              "\n",
              "    [theme=dark] .colab-df-convert {\n",
              "      background-color: #3B4455;\n",
              "      fill: #D2E3FC;\n",
              "    }\n",
              "\n",
              "    [theme=dark] .colab-df-convert:hover {\n",
              "      background-color: #434B5C;\n",
              "      box-shadow: 0px 1px 3px 1px rgba(0, 0, 0, 0.15);\n",
              "      filter: drop-shadow(0px 1px 2px rgba(0, 0, 0, 0.3));\n",
              "      fill: #FFFFFF;\n",
              "    }\n",
              "  </style>\n",
              "\n",
              "      <script>\n",
              "        const buttonEl =\n",
              "          document.querySelector('#df-5ca17d2c-8e79-4bb8-85ab-12b548ed7c8a button.colab-df-convert');\n",
              "        buttonEl.style.display =\n",
              "          google.colab.kernel.accessAllowed ? 'block' : 'none';\n",
              "\n",
              "        async function convertToInteractive(key) {\n",
              "          const element = document.querySelector('#df-5ca17d2c-8e79-4bb8-85ab-12b548ed7c8a');\n",
              "          const dataTable =\n",
              "            await google.colab.kernel.invokeFunction('convertToInteractive',\n",
              "                                                     [key], {});\n",
              "          if (!dataTable) return;\n",
              "\n",
              "          const docLinkHtml = 'Like what you see? Visit the ' +\n",
              "            '<a target=\"_blank\" href=https://colab.research.google.com/notebooks/data_table.ipynb>data table notebook</a>'\n",
              "            + ' to learn more about interactive tables.';\n",
              "          element.innerHTML = '';\n",
              "          dataTable['output_type'] = 'display_data';\n",
              "          await google.colab.output.renderOutput(dataTable, element);\n",
              "          const docLink = document.createElement('div');\n",
              "          docLink.innerHTML = docLinkHtml;\n",
              "          element.appendChild(docLink);\n",
              "        }\n",
              "      </script>\n",
              "    </div>\n",
              "  </div>\n",
              "  "
            ],
            "text/plain": [
              "Empty DataFrame\n",
              "Columns: [Youtube Comments, Video ID, language]\n",
              "Index: []"
            ]
          },
          "metadata": {},
          "execution_count": 24
        }
      ]
    },
    {
      "cell_type": "code",
      "metadata": {
        "id": "kiSFGXXqRRi-"
      },
      "source": [
        "# df[300000:300005]"
      ],
      "execution_count": null,
      "outputs": []
    },
    {
      "cell_type": "code",
      "source": [
        "df[df['language']==True].count()"
      ],
      "metadata": {
        "colab": {
          "base_uri": "https://localhost:8080/"
        },
        "id": "qAW9jWvgIaZl",
        "outputId": "c17dfaad-b237-4368-df80-f92a3f253c99"
      },
      "execution_count": 25,
      "outputs": [
        {
          "output_type": "execute_result",
          "data": {
            "text/plain": [
              "Youtube Comments    323079\n",
              "Video ID            323079\n",
              "language            323079\n",
              "dtype: int64"
            ]
          },
          "metadata": {},
          "execution_count": 25
        }
      ]
    },
    {
      "cell_type": "code",
      "source": [
        "df[df['language']==False].count()"
      ],
      "metadata": {
        "colab": {
          "base_uri": "https://localhost:8080/"
        },
        "id": "0CMGMMS3Hw5d",
        "outputId": "4fb059e1-9525-451e-94a7-c7954cd5edb7"
      },
      "execution_count": 26,
      "outputs": [
        {
          "output_type": "execute_result",
          "data": {
            "text/plain": [
              "Youtube Comments    32064\n",
              "Video ID            32064\n",
              "language            32064\n",
              "dtype: int64"
            ]
          },
          "metadata": {},
          "execution_count": 26
        }
      ]
    },
    {
      "cell_type": "code",
      "source": [
        "df[df['language']==False].tail(4)"
      ],
      "metadata": {
        "colab": {
          "base_uri": "https://localhost:8080/",
          "height": 387
        },
        "id": "7kY9Yw-ISUj5",
        "outputId": "0ab19b39-918d-4165-9873-0b225cdd31b5"
      },
      "execution_count": 27,
      "outputs": [
        {
          "output_type": "execute_result",
          "data": {
            "text/html": [
              "\n",
              "  <div id=\"df-455e89ad-25b1-4f91-8b37-411114042aad\">\n",
              "    <div class=\"colab-df-container\">\n",
              "      <div>\n",
              "<style scoped>\n",
              "    .dataframe tbody tr th:only-of-type {\n",
              "        vertical-align: middle;\n",
              "    }\n",
              "\n",
              "    .dataframe tbody tr th {\n",
              "        vertical-align: top;\n",
              "    }\n",
              "\n",
              "    .dataframe thead th {\n",
              "        text-align: right;\n",
              "    }\n",
              "</style>\n",
              "<table border=\"1\" class=\"dataframe\">\n",
              "  <thead>\n",
              "    <tr style=\"text-align: right;\">\n",
              "      <th></th>\n",
              "      <th>Youtube Comments</th>\n",
              "      <th>Video ID</th>\n",
              "      <th>language</th>\n",
              "    </tr>\n",
              "  </thead>\n",
              "  <tbody>\n",
              "    <tr>\n",
              "      <th>354836</th>\n",
              "      <td>While this author strives to remain as objective and unbiased as humanly possible, a thorough review of this one report suggests that the FDA and Pfizer have appeared to conceal the full extent of the PfizerBioNTech vaccine side effects from the public. ;;If this assumption is in fact true, then the ‘Gold Standard regulatory agency and the prestigious multinational pharmaceutical company have thrown the entire concept of informed consent out the window.  Its also a travesty that months later, the FDA dragged its feet and released this important safety document based on adverse event case reports under FOIA law. Case reports play an important role in pharmacovigilance. The recognition of the link between thalidomide given to mothers and malformations in their babies was triggered by a case report.  ;;Perhaps even more devastating—and a mockery of the whole point of advanced regulatory systems meant to ensure public safety–would be if the FDA wins the ongoing dispute to delay information release, then the public must wait another 75 years to access all the data, which by then will be far too late.</td>\n",
              "      <td>ZfFe4RngT-w</td>\n",
              "      <td>False</td>\n",
              "    </tr>\n",
              "    <tr>\n",
              "      <th>354951</th>\n",
              "      <td>It sounds from her that Omicron is acting like a vaccine, ( and it is free  :cold_face:）hope it helps the 3rd world country that dont have privileges of having any vaccine</td>\n",
              "      <td>ZfFe4RngT-w</td>\n",
              "      <td>False</td>\n",
              "    </tr>\n",
              "    <tr>\n",
              "      <th>354955</th>\n",
              "      <td>Хватит врать !!!!!!</td>\n",
              "      <td>ZfFe4RngT-w</td>\n",
              "      <td>False</td>\n",
              "    </tr>\n",
              "    <tr>\n",
              "      <th>354956</th>\n",
              "      <td>Propagande,  symptômes are same,  nothing changed,  high temperature,  nose, ...</td>\n",
              "      <td>ZfFe4RngT-w</td>\n",
              "      <td>False</td>\n",
              "    </tr>\n",
              "  </tbody>\n",
              "</table>\n",
              "</div>\n",
              "      <button class=\"colab-df-convert\" onclick=\"convertToInteractive('df-455e89ad-25b1-4f91-8b37-411114042aad')\"\n",
              "              title=\"Convert this dataframe to an interactive table.\"\n",
              "              style=\"display:none;\">\n",
              "        \n",
              "  <svg xmlns=\"http://www.w3.org/2000/svg\" height=\"24px\"viewBox=\"0 0 24 24\"\n",
              "       width=\"24px\">\n",
              "    <path d=\"M0 0h24v24H0V0z\" fill=\"none\"/>\n",
              "    <path d=\"M18.56 5.44l.94 2.06.94-2.06 2.06-.94-2.06-.94-.94-2.06-.94 2.06-2.06.94zm-11 1L8.5 8.5l.94-2.06 2.06-.94-2.06-.94L8.5 2.5l-.94 2.06-2.06.94zm10 10l.94 2.06.94-2.06 2.06-.94-2.06-.94-.94-2.06-.94 2.06-2.06.94z\"/><path d=\"M17.41 7.96l-1.37-1.37c-.4-.4-.92-.59-1.43-.59-.52 0-1.04.2-1.43.59L10.3 9.45l-7.72 7.72c-.78.78-.78 2.05 0 2.83L4 21.41c.39.39.9.59 1.41.59.51 0 1.02-.2 1.41-.59l7.78-7.78 2.81-2.81c.8-.78.8-2.07 0-2.86zM5.41 20L4 18.59l7.72-7.72 1.47 1.35L5.41 20z\"/>\n",
              "  </svg>\n",
              "      </button>\n",
              "      \n",
              "  <style>\n",
              "    .colab-df-container {\n",
              "      display:flex;\n",
              "      flex-wrap:wrap;\n",
              "      gap: 12px;\n",
              "    }\n",
              "\n",
              "    .colab-df-convert {\n",
              "      background-color: #E8F0FE;\n",
              "      border: none;\n",
              "      border-radius: 50%;\n",
              "      cursor: pointer;\n",
              "      display: none;\n",
              "      fill: #1967D2;\n",
              "      height: 32px;\n",
              "      padding: 0 0 0 0;\n",
              "      width: 32px;\n",
              "    }\n",
              "\n",
              "    .colab-df-convert:hover {\n",
              "      background-color: #E2EBFA;\n",
              "      box-shadow: 0px 1px 2px rgba(60, 64, 67, 0.3), 0px 1px 3px 1px rgba(60, 64, 67, 0.15);\n",
              "      fill: #174EA6;\n",
              "    }\n",
              "\n",
              "    [theme=dark] .colab-df-convert {\n",
              "      background-color: #3B4455;\n",
              "      fill: #D2E3FC;\n",
              "    }\n",
              "\n",
              "    [theme=dark] .colab-df-convert:hover {\n",
              "      background-color: #434B5C;\n",
              "      box-shadow: 0px 1px 3px 1px rgba(0, 0, 0, 0.15);\n",
              "      filter: drop-shadow(0px 1px 2px rgba(0, 0, 0, 0.3));\n",
              "      fill: #FFFFFF;\n",
              "    }\n",
              "  </style>\n",
              "\n",
              "      <script>\n",
              "        const buttonEl =\n",
              "          document.querySelector('#df-455e89ad-25b1-4f91-8b37-411114042aad button.colab-df-convert');\n",
              "        buttonEl.style.display =\n",
              "          google.colab.kernel.accessAllowed ? 'block' : 'none';\n",
              "\n",
              "        async function convertToInteractive(key) {\n",
              "          const element = document.querySelector('#df-455e89ad-25b1-4f91-8b37-411114042aad');\n",
              "          const dataTable =\n",
              "            await google.colab.kernel.invokeFunction('convertToInteractive',\n",
              "                                                     [key], {});\n",
              "          if (!dataTable) return;\n",
              "\n",
              "          const docLinkHtml = 'Like what you see? Visit the ' +\n",
              "            '<a target=\"_blank\" href=https://colab.research.google.com/notebooks/data_table.ipynb>data table notebook</a>'\n",
              "            + ' to learn more about interactive tables.';\n",
              "          element.innerHTML = '';\n",
              "          dataTable['output_type'] = 'display_data';\n",
              "          await google.colab.output.renderOutput(dataTable, element);\n",
              "          const docLink = document.createElement('div');\n",
              "          docLink.innerHTML = docLinkHtml;\n",
              "          element.appendChild(docLink);\n",
              "        }\n",
              "      </script>\n",
              "    </div>\n",
              "  </div>\n",
              "  "
            ],
            "text/plain": [
              "                                                                                                                                                                                                                                                                                                                                                                                                                                                                                                                                                                                                                                                                                                                                                                                                                                                                                                                                                                                                                                                                                                                                                Youtube Comments  ... language\n",
              "354836  While this author strives to remain as objective and unbiased as humanly possible, a thorough review of this one report suggests that the FDA and Pfizer have appeared to conceal the full extent of the PfizerBioNTech vaccine side effects from the public. ;;If this assumption is in fact true, then the ‘Gold Standard regulatory agency and the prestigious multinational pharmaceutical company have thrown the entire concept of informed consent out the window.  Its also a travesty that months later, the FDA dragged its feet and released this important safety document based on adverse event case reports under FOIA law. Case reports play an important role in pharmacovigilance. The recognition of the link between thalidomide given to mothers and malformations in their babies was triggered by a case report.  ;;Perhaps even more devastating—and a mockery of the whole point of advanced regulatory systems meant to ensure public safety–would be if the FDA wins the ongoing dispute to delay information release, then the public must wait another 75 years to access all the data, which by then will be far too late.  ...    False\n",
              "354951                                                                                                                                                                                                                                                                                                                                                                                                                                                                                                                                                                                                                                                                                                                                                                                                                                                                                                                                                                               It sounds from her that Omicron is acting like a vaccine, ( and it is free  :cold_face:）hope it helps the 3rd world country that dont have privileges of having any vaccine  ...    False\n",
              "354955                                                                                                                                                                                                                                                                                                                                                                                                                                                                                                                                                                                                                                                                                                                                                                                                                                                                                                                                                                                                                                                                                                                                       Хватит врать !!!!!!  ...    False\n",
              "354956                                                                                                                                                                                                                                                                                                                                                                                                                                                                                                                                                                                                                                                                                                                                                                                                                                                                                                                                                                                                                                                                          Propagande,  symptômes are same,  nothing changed,  high temperature,  nose, ...  ...    False\n",
              "\n",
              "[4 rows x 3 columns]"
            ]
          },
          "metadata": {},
          "execution_count": 27
        }
      ]
    },
    {
      "cell_type": "code",
      "source": [
        "df_keep1 = df[df['language']==True]"
      ],
      "metadata": {
        "id": "rlEw9EZRWuTY"
      },
      "execution_count": 151,
      "outputs": []
    },
    {
      "cell_type": "code",
      "source": [
        "df_keep1.count()"
      ],
      "metadata": {
        "colab": {
          "base_uri": "https://localhost:8080/"
        },
        "id": "ekeAXha5WudE",
        "outputId": "7b7b8f12-1868-42af-f847-5e5809f4841f"
      },
      "execution_count": 152,
      "outputs": [
        {
          "output_type": "execute_result",
          "data": {
            "text/plain": [
              "Youtube Comments    323079\n",
              "Video ID            323079\n",
              "language            323079\n",
              "dtype: int64"
            ]
          },
          "metadata": {},
          "execution_count": 152
        }
      ]
    },
    {
      "cell_type": "code",
      "source": [
        "df_keep1['col length'] = df_keep1['Youtube Comments'].apply(len)"
      ],
      "metadata": {
        "colab": {
          "base_uri": "https://localhost:8080/"
        },
        "id": "Nnxk4I6Kf0D4",
        "outputId": "2a0e0713-5d3b-4593-eb1e-4b6b687ad288"
      },
      "execution_count": 153,
      "outputs": [
        {
          "output_type": "stream",
          "name": "stderr",
          "text": [
            "/usr/local/lib/python3.7/dist-packages/ipykernel_launcher.py:1: SettingWithCopyWarning: \n",
            "A value is trying to be set on a copy of a slice from a DataFrame.\n",
            "Try using .loc[row_indexer,col_indexer] = value instead\n",
            "\n",
            "See the caveats in the documentation: https://pandas.pydata.org/pandas-docs/stable/user_guide/indexing.html#returning-a-view-versus-a-copy\n",
            "  \"\"\"Entry point for launching an IPython kernel.\n"
          ]
        }
      ]
    },
    {
      "cell_type": "code",
      "source": [
        "df_keep1['col length'].describe()"
      ],
      "metadata": {
        "colab": {
          "base_uri": "https://localhost:8080/"
        },
        "id": "t4CL-MARqFb4",
        "outputId": "4b89090e-1a0f-4864-bf9a-0a47bd27155b"
      },
      "execution_count": 186,
      "outputs": [
        {
          "output_type": "execute_result",
          "data": {
            "text/plain": [
              "count    323079.000000\n",
              "mean        119.049338\n",
              "std         229.905674\n",
              "min           0.000000\n",
              "25%          34.000000\n",
              "50%          67.000000\n",
              "75%         128.000000\n",
              "max       15587.000000\n",
              "Name: col length, dtype: float64"
            ]
          },
          "metadata": {},
          "execution_count": 186
        }
      ]
    },
    {
      "cell_type": "code",
      "source": [
        "df_keep = df_keep1[df_keep1['col length']< 300]"
      ],
      "metadata": {
        "id": "c0cDsHtjf--t"
      },
      "execution_count": 187,
      "outputs": []
    },
    {
      "cell_type": "code",
      "source": [
        "df_keep.count()"
      ],
      "metadata": {
        "colab": {
          "base_uri": "https://localhost:8080/"
        },
        "id": "VdXgrVmmgnfb",
        "outputId": "7ebbbc85-8b90-4463-8d8f-8786528c15e4"
      },
      "execution_count": 188,
      "outputs": [
        {
          "output_type": "execute_result",
          "data": {
            "text/plain": [
              "Youtube Comments    300788\n",
              "Video ID            300788\n",
              "language            300788\n",
              "col length          300788\n",
              "dtype: int64"
            ]
          },
          "metadata": {},
          "execution_count": 188
        }
      ]
    },
    {
      "cell_type": "code",
      "source": [
        "df_keep = df_keep.reset_index()"
      ],
      "metadata": {
        "id": "I28hLy0UAofL"
      },
      "execution_count": 189,
      "outputs": []
    },
    {
      "cell_type": "code",
      "source": [
        "df_keep.head()"
      ],
      "metadata": {
        "colab": {
          "base_uri": "https://localhost:8080/",
          "height": 282
        },
        "id": "kwQtkeTdAyyy",
        "outputId": "5ae0dec7-4c5e-47fe-f1df-7c3cc9e097bb"
      },
      "execution_count": 190,
      "outputs": [
        {
          "output_type": "execute_result",
          "data": {
            "text/html": [
              "\n",
              "  <div id=\"df-30b6c5e3-0e49-4621-81a8-310ba1842a41\">\n",
              "    <div class=\"colab-df-container\">\n",
              "      <div>\n",
              "<style scoped>\n",
              "    .dataframe tbody tr th:only-of-type {\n",
              "        vertical-align: middle;\n",
              "    }\n",
              "\n",
              "    .dataframe tbody tr th {\n",
              "        vertical-align: top;\n",
              "    }\n",
              "\n",
              "    .dataframe thead th {\n",
              "        text-align: right;\n",
              "    }\n",
              "</style>\n",
              "<table border=\"1\" class=\"dataframe\">\n",
              "  <thead>\n",
              "    <tr style=\"text-align: right;\">\n",
              "      <th></th>\n",
              "      <th>index</th>\n",
              "      <th>Youtube Comments</th>\n",
              "      <th>Video ID</th>\n",
              "      <th>language</th>\n",
              "      <th>col length</th>\n",
              "    </tr>\n",
              "  </thead>\n",
              "  <tbody>\n",
              "    <tr>\n",
              "      <th>0</th>\n",
              "      <td>0</td>\n",
              "      <td>who cares, the next variant decepticon is the one to worry about</td>\n",
              "      <td>ih4xVzLQP24</td>\n",
              "      <td>True</td>\n",
              "      <td>64</td>\n",
              "    </tr>\n",
              "    <tr>\n",
              "      <th>1</th>\n",
              "      <td>1</td>\n",
              "      <td>Worldwide...except for Africa.</td>\n",
              "      <td>ih4xVzLQP24</td>\n",
              "      <td>True</td>\n",
              "      <td>30</td>\n",
              "    </tr>\n",
              "    <tr>\n",
              "      <th>2</th>\n",
              "      <td>2</td>\n",
              "      <td>Once one case is found, the genie :man_genie: is out of the bottle, spreading like a wild fire. USA should get ready to give boosters nor when Mr micron comes, and spreads people are ready.</td>\n",
              "      <td>ih4xVzLQP24</td>\n",
              "      <td>True</td>\n",
              "      <td>189</td>\n",
              "    </tr>\n",
              "    <tr>\n",
              "      <th>3</th>\n",
              "      <td>3</td>\n",
              "      <td>Imagine believing this bs</td>\n",
              "      <td>ih4xVzLQP24</td>\n",
              "      <td>True</td>\n",
              "      <td>25</td>\n",
              "    </tr>\n",
              "    <tr>\n",
              "      <th>4</th>\n",
              "      <td>5</td>\n",
              "      <td>MURDER OF CHILDREN U R Criminal</td>\n",
              "      <td>ih4xVzLQP24</td>\n",
              "      <td>True</td>\n",
              "      <td>31</td>\n",
              "    </tr>\n",
              "  </tbody>\n",
              "</table>\n",
              "</div>\n",
              "      <button class=\"colab-df-convert\" onclick=\"convertToInteractive('df-30b6c5e3-0e49-4621-81a8-310ba1842a41')\"\n",
              "              title=\"Convert this dataframe to an interactive table.\"\n",
              "              style=\"display:none;\">\n",
              "        \n",
              "  <svg xmlns=\"http://www.w3.org/2000/svg\" height=\"24px\"viewBox=\"0 0 24 24\"\n",
              "       width=\"24px\">\n",
              "    <path d=\"M0 0h24v24H0V0z\" fill=\"none\"/>\n",
              "    <path d=\"M18.56 5.44l.94 2.06.94-2.06 2.06-.94-2.06-.94-.94-2.06-.94 2.06-2.06.94zm-11 1L8.5 8.5l.94-2.06 2.06-.94-2.06-.94L8.5 2.5l-.94 2.06-2.06.94zm10 10l.94 2.06.94-2.06 2.06-.94-2.06-.94-.94-2.06-.94 2.06-2.06.94z\"/><path d=\"M17.41 7.96l-1.37-1.37c-.4-.4-.92-.59-1.43-.59-.52 0-1.04.2-1.43.59L10.3 9.45l-7.72 7.72c-.78.78-.78 2.05 0 2.83L4 21.41c.39.39.9.59 1.41.59.51 0 1.02-.2 1.41-.59l7.78-7.78 2.81-2.81c.8-.78.8-2.07 0-2.86zM5.41 20L4 18.59l7.72-7.72 1.47 1.35L5.41 20z\"/>\n",
              "  </svg>\n",
              "      </button>\n",
              "      \n",
              "  <style>\n",
              "    .colab-df-container {\n",
              "      display:flex;\n",
              "      flex-wrap:wrap;\n",
              "      gap: 12px;\n",
              "    }\n",
              "\n",
              "    .colab-df-convert {\n",
              "      background-color: #E8F0FE;\n",
              "      border: none;\n",
              "      border-radius: 50%;\n",
              "      cursor: pointer;\n",
              "      display: none;\n",
              "      fill: #1967D2;\n",
              "      height: 32px;\n",
              "      padding: 0 0 0 0;\n",
              "      width: 32px;\n",
              "    }\n",
              "\n",
              "    .colab-df-convert:hover {\n",
              "      background-color: #E2EBFA;\n",
              "      box-shadow: 0px 1px 2px rgba(60, 64, 67, 0.3), 0px 1px 3px 1px rgba(60, 64, 67, 0.15);\n",
              "      fill: #174EA6;\n",
              "    }\n",
              "\n",
              "    [theme=dark] .colab-df-convert {\n",
              "      background-color: #3B4455;\n",
              "      fill: #D2E3FC;\n",
              "    }\n",
              "\n",
              "    [theme=dark] .colab-df-convert:hover {\n",
              "      background-color: #434B5C;\n",
              "      box-shadow: 0px 1px 3px 1px rgba(0, 0, 0, 0.15);\n",
              "      filter: drop-shadow(0px 1px 2px rgba(0, 0, 0, 0.3));\n",
              "      fill: #FFFFFF;\n",
              "    }\n",
              "  </style>\n",
              "\n",
              "      <script>\n",
              "        const buttonEl =\n",
              "          document.querySelector('#df-30b6c5e3-0e49-4621-81a8-310ba1842a41 button.colab-df-convert');\n",
              "        buttonEl.style.display =\n",
              "          google.colab.kernel.accessAllowed ? 'block' : 'none';\n",
              "\n",
              "        async function convertToInteractive(key) {\n",
              "          const element = document.querySelector('#df-30b6c5e3-0e49-4621-81a8-310ba1842a41');\n",
              "          const dataTable =\n",
              "            await google.colab.kernel.invokeFunction('convertToInteractive',\n",
              "                                                     [key], {});\n",
              "          if (!dataTable) return;\n",
              "\n",
              "          const docLinkHtml = 'Like what you see? Visit the ' +\n",
              "            '<a target=\"_blank\" href=https://colab.research.google.com/notebooks/data_table.ipynb>data table notebook</a>'\n",
              "            + ' to learn more about interactive tables.';\n",
              "          element.innerHTML = '';\n",
              "          dataTable['output_type'] = 'display_data';\n",
              "          await google.colab.output.renderOutput(dataTable, element);\n",
              "          const docLink = document.createElement('div');\n",
              "          docLink.innerHTML = docLinkHtml;\n",
              "          element.appendChild(docLink);\n",
              "        }\n",
              "      </script>\n",
              "    </div>\n",
              "  </div>\n",
              "  "
            ],
            "text/plain": [
              "   index  ... col length\n",
              "0      0  ...         64\n",
              "1      1  ...         30\n",
              "2      2  ...        189\n",
              "3      3  ...         25\n",
              "4      5  ...         31\n",
              "\n",
              "[5 rows x 5 columns]"
            ]
          },
          "metadata": {},
          "execution_count": 190
        }
      ]
    },
    {
      "cell_type": "code",
      "source": [
        "# export data for uploading to S3 later\n",
        "\n",
        "local_file_name = 'youtube_covid_comments_API_Reduce2.csv'\n",
        "\n",
        "df_output = df_keep['Youtube Comments']\n",
        "\n",
        "df_output.to_csv(local_file_name, encoding = 'utf-8', index = False, header = False)"
      ],
      "metadata": {
        "id": "h7OtOMucW3Gu"
      },
      "execution_count": 191,
      "outputs": []
    },
    {
      "cell_type": "code",
      "source": [
        "# check volume\n",
        "\n",
        "# df_chk = pd.read_csv(local_file_name, header = 0, dtype = 'str', encoding = 'utf-8', lineterminator='\\n') \n",
        "df_chk = pd.read_csv(local_file_name, header = None, names = ['Youtube Comments'], \n",
        "                     dtype = 'str', encoding = 'utf-8', lineterminator='\\n') "
      ],
      "metadata": {
        "id": "6VbILNdhNm8T"
      },
      "execution_count": 192,
      "outputs": []
    },
    {
      "cell_type": "code",
      "source": [
        "df_chk.count()"
      ],
      "metadata": {
        "colab": {
          "base_uri": "https://localhost:8080/"
        },
        "id": "iCBJ7DjYlijU",
        "outputId": "cd83cea8-31aa-4eaf-da36-184dd42d7c5f"
      },
      "execution_count": 193,
      "outputs": [
        {
          "output_type": "execute_result",
          "data": {
            "text/plain": [
              "Youtube Comments    300776\n",
              "dtype: int64"
            ]
          },
          "metadata": {},
          "execution_count": 193
        }
      ]
    },
    {
      "cell_type": "code",
      "source": [
        "df_chk.head()"
      ],
      "metadata": {
        "colab": {
          "base_uri": "https://localhost:8080/",
          "height": 265
        },
        "id": "sguLAQ3qMDs1",
        "outputId": "f9867616-2d41-4c78-d606-5abf0dfb5219"
      },
      "execution_count": 194,
      "outputs": [
        {
          "output_type": "execute_result",
          "data": {
            "text/html": [
              "\n",
              "  <div id=\"df-8ce914f7-5cbc-42d2-8485-284bcd0273a6\">\n",
              "    <div class=\"colab-df-container\">\n",
              "      <div>\n",
              "<style scoped>\n",
              "    .dataframe tbody tr th:only-of-type {\n",
              "        vertical-align: middle;\n",
              "    }\n",
              "\n",
              "    .dataframe tbody tr th {\n",
              "        vertical-align: top;\n",
              "    }\n",
              "\n",
              "    .dataframe thead th {\n",
              "        text-align: right;\n",
              "    }\n",
              "</style>\n",
              "<table border=\"1\" class=\"dataframe\">\n",
              "  <thead>\n",
              "    <tr style=\"text-align: right;\">\n",
              "      <th></th>\n",
              "      <th>Youtube Comments</th>\n",
              "    </tr>\n",
              "  </thead>\n",
              "  <tbody>\n",
              "    <tr>\n",
              "      <th>0</th>\n",
              "      <td>who cares, the next variant decepticon is the one to worry about</td>\n",
              "    </tr>\n",
              "    <tr>\n",
              "      <th>1</th>\n",
              "      <td>Worldwide...except for Africa.</td>\n",
              "    </tr>\n",
              "    <tr>\n",
              "      <th>2</th>\n",
              "      <td>Once one case is found, the genie :man_genie: is out of the bottle, spreading like a wild fire. USA should get ready to give boosters nor when Mr micron comes, and spreads people are ready.</td>\n",
              "    </tr>\n",
              "    <tr>\n",
              "      <th>3</th>\n",
              "      <td>Imagine believing this bs</td>\n",
              "    </tr>\n",
              "    <tr>\n",
              "      <th>4</th>\n",
              "      <td>MURDER OF CHILDREN U R Criminal</td>\n",
              "    </tr>\n",
              "  </tbody>\n",
              "</table>\n",
              "</div>\n",
              "      <button class=\"colab-df-convert\" onclick=\"convertToInteractive('df-8ce914f7-5cbc-42d2-8485-284bcd0273a6')\"\n",
              "              title=\"Convert this dataframe to an interactive table.\"\n",
              "              style=\"display:none;\">\n",
              "        \n",
              "  <svg xmlns=\"http://www.w3.org/2000/svg\" height=\"24px\"viewBox=\"0 0 24 24\"\n",
              "       width=\"24px\">\n",
              "    <path d=\"M0 0h24v24H0V0z\" fill=\"none\"/>\n",
              "    <path d=\"M18.56 5.44l.94 2.06.94-2.06 2.06-.94-2.06-.94-.94-2.06-.94 2.06-2.06.94zm-11 1L8.5 8.5l.94-2.06 2.06-.94-2.06-.94L8.5 2.5l-.94 2.06-2.06.94zm10 10l.94 2.06.94-2.06 2.06-.94-2.06-.94-.94-2.06-.94 2.06-2.06.94z\"/><path d=\"M17.41 7.96l-1.37-1.37c-.4-.4-.92-.59-1.43-.59-.52 0-1.04.2-1.43.59L10.3 9.45l-7.72 7.72c-.78.78-.78 2.05 0 2.83L4 21.41c.39.39.9.59 1.41.59.51 0 1.02-.2 1.41-.59l7.78-7.78 2.81-2.81c.8-.78.8-2.07 0-2.86zM5.41 20L4 18.59l7.72-7.72 1.47 1.35L5.41 20z\"/>\n",
              "  </svg>\n",
              "      </button>\n",
              "      \n",
              "  <style>\n",
              "    .colab-df-container {\n",
              "      display:flex;\n",
              "      flex-wrap:wrap;\n",
              "      gap: 12px;\n",
              "    }\n",
              "\n",
              "    .colab-df-convert {\n",
              "      background-color: #E8F0FE;\n",
              "      border: none;\n",
              "      border-radius: 50%;\n",
              "      cursor: pointer;\n",
              "      display: none;\n",
              "      fill: #1967D2;\n",
              "      height: 32px;\n",
              "      padding: 0 0 0 0;\n",
              "      width: 32px;\n",
              "    }\n",
              "\n",
              "    .colab-df-convert:hover {\n",
              "      background-color: #E2EBFA;\n",
              "      box-shadow: 0px 1px 2px rgba(60, 64, 67, 0.3), 0px 1px 3px 1px rgba(60, 64, 67, 0.15);\n",
              "      fill: #174EA6;\n",
              "    }\n",
              "\n",
              "    [theme=dark] .colab-df-convert {\n",
              "      background-color: #3B4455;\n",
              "      fill: #D2E3FC;\n",
              "    }\n",
              "\n",
              "    [theme=dark] .colab-df-convert:hover {\n",
              "      background-color: #434B5C;\n",
              "      box-shadow: 0px 1px 3px 1px rgba(0, 0, 0, 0.15);\n",
              "      filter: drop-shadow(0px 1px 2px rgba(0, 0, 0, 0.3));\n",
              "      fill: #FFFFFF;\n",
              "    }\n",
              "  </style>\n",
              "\n",
              "      <script>\n",
              "        const buttonEl =\n",
              "          document.querySelector('#df-8ce914f7-5cbc-42d2-8485-284bcd0273a6 button.colab-df-convert');\n",
              "        buttonEl.style.display =\n",
              "          google.colab.kernel.accessAllowed ? 'block' : 'none';\n",
              "\n",
              "        async function convertToInteractive(key) {\n",
              "          const element = document.querySelector('#df-8ce914f7-5cbc-42d2-8485-284bcd0273a6');\n",
              "          const dataTable =\n",
              "            await google.colab.kernel.invokeFunction('convertToInteractive',\n",
              "                                                     [key], {});\n",
              "          if (!dataTable) return;\n",
              "\n",
              "          const docLinkHtml = 'Like what you see? Visit the ' +\n",
              "            '<a target=\"_blank\" href=https://colab.research.google.com/notebooks/data_table.ipynb>data table notebook</a>'\n",
              "            + ' to learn more about interactive tables.';\n",
              "          element.innerHTML = '';\n",
              "          dataTable['output_type'] = 'display_data';\n",
              "          await google.colab.output.renderOutput(dataTable, element);\n",
              "          const docLink = document.createElement('div');\n",
              "          docLink.innerHTML = docLinkHtml;\n",
              "          element.appendChild(docLink);\n",
              "        }\n",
              "      </script>\n",
              "    </div>\n",
              "  </div>\n",
              "  "
            ],
            "text/plain": [
              "                                                                                                                                                                                Youtube Comments\n",
              "0                                                                                                                               who cares, the next variant decepticon is the one to worry about\n",
              "1                                                                                                                                                                 Worldwide...except for Africa.\n",
              "2  Once one case is found, the genie :man_genie: is out of the bottle, spreading like a wild fire. USA should get ready to give boosters nor when Mr micron comes, and spreads people are ready.\n",
              "3                                                                                                                                                                      Imagine believing this bs\n",
              "4                                                                                                                                                                MURDER OF CHILDREN U R Criminal"
            ]
          },
          "metadata": {},
          "execution_count": 194
        }
      ]
    },
    {
      "cell_type": "code",
      "source": [
        "# df_chk[df_chk.isnull()]"
      ],
      "metadata": {
        "id": "55jTT7h0McBV"
      },
      "execution_count": 47,
      "outputs": []
    },
    {
      "cell_type": "code",
      "source": [
        "df_chk.tail()"
      ],
      "metadata": {
        "colab": {
          "base_uri": "https://localhost:8080/",
          "height": 227
        },
        "id": "eWbPOh5tMpfU",
        "outputId": "42872150-54f4-4a6a-bb81-12fe752e48f1"
      },
      "execution_count": 42,
      "outputs": [
        {
          "output_type": "execute_result",
          "data": {
            "text/html": [
              "\n",
              "  <div id=\"df-27023da0-a7a6-4580-9823-b34cebe6f860\">\n",
              "    <div class=\"colab-df-container\">\n",
              "      <div>\n",
              "<style scoped>\n",
              "    .dataframe tbody tr th:only-of-type {\n",
              "        vertical-align: middle;\n",
              "    }\n",
              "\n",
              "    .dataframe tbody tr th {\n",
              "        vertical-align: top;\n",
              "    }\n",
              "\n",
              "    .dataframe thead th {\n",
              "        text-align: right;\n",
              "    }\n",
              "</style>\n",
              "<table border=\"1\" class=\"dataframe\">\n",
              "  <thead>\n",
              "    <tr style=\"text-align: right;\">\n",
              "      <th></th>\n",
              "      <th>Youtube Comments</th>\n",
              "    </tr>\n",
              "  </thead>\n",
              "  <tbody>\n",
              "    <tr>\n",
              "      <th>323074</th>\n",
              "      <td>even tougher?  replacing Solksjaer is the easiest task in history.  Just avoid getting battered by the likes of Leicester and Everton and already you're miles ahead.</td>\n",
              "    </tr>\n",
              "    <tr>\n",
              "      <th>323075</th>\n",
              "      <td>I keep thinking that pundit with glasses is Rangnick lol</td>\n",
              "    </tr>\n",
              "    <tr>\n",
              "      <th>323076</th>\n",
              "      <td>I thought they were vaccinated when will yall wake up. Whats the point of the vaccination if youre just going to quarantine everyone</td>\n",
              "    </tr>\n",
              "    <tr>\n",
              "      <th>323077</th>\n",
              "      <td>Golly geeee I thought they were all vAccInAtED</td>\n",
              "    </tr>\n",
              "    <tr>\n",
              "      <th>323078</th>\n",
              "      <td>All the United Players are vaccinated lmao! Remember back when vaccines rolled out \"Vaccines are 100% effective!\" I'm sure another couple boosters the narrative will change just like how it has the past two years. fucking morons</td>\n",
              "    </tr>\n",
              "  </tbody>\n",
              "</table>\n",
              "</div>\n",
              "      <button class=\"colab-df-convert\" onclick=\"convertToInteractive('df-27023da0-a7a6-4580-9823-b34cebe6f860')\"\n",
              "              title=\"Convert this dataframe to an interactive table.\"\n",
              "              style=\"display:none;\">\n",
              "        \n",
              "  <svg xmlns=\"http://www.w3.org/2000/svg\" height=\"24px\"viewBox=\"0 0 24 24\"\n",
              "       width=\"24px\">\n",
              "    <path d=\"M0 0h24v24H0V0z\" fill=\"none\"/>\n",
              "    <path d=\"M18.56 5.44l.94 2.06.94-2.06 2.06-.94-2.06-.94-.94-2.06-.94 2.06-2.06.94zm-11 1L8.5 8.5l.94-2.06 2.06-.94-2.06-.94L8.5 2.5l-.94 2.06-2.06.94zm10 10l.94 2.06.94-2.06 2.06-.94-2.06-.94-.94-2.06-.94 2.06-2.06.94z\"/><path d=\"M17.41 7.96l-1.37-1.37c-.4-.4-.92-.59-1.43-.59-.52 0-1.04.2-1.43.59L10.3 9.45l-7.72 7.72c-.78.78-.78 2.05 0 2.83L4 21.41c.39.39.9.59 1.41.59.51 0 1.02-.2 1.41-.59l7.78-7.78 2.81-2.81c.8-.78.8-2.07 0-2.86zM5.41 20L4 18.59l7.72-7.72 1.47 1.35L5.41 20z\"/>\n",
              "  </svg>\n",
              "      </button>\n",
              "      \n",
              "  <style>\n",
              "    .colab-df-container {\n",
              "      display:flex;\n",
              "      flex-wrap:wrap;\n",
              "      gap: 12px;\n",
              "    }\n",
              "\n",
              "    .colab-df-convert {\n",
              "      background-color: #E8F0FE;\n",
              "      border: none;\n",
              "      border-radius: 50%;\n",
              "      cursor: pointer;\n",
              "      display: none;\n",
              "      fill: #1967D2;\n",
              "      height: 32px;\n",
              "      padding: 0 0 0 0;\n",
              "      width: 32px;\n",
              "    }\n",
              "\n",
              "    .colab-df-convert:hover {\n",
              "      background-color: #E2EBFA;\n",
              "      box-shadow: 0px 1px 2px rgba(60, 64, 67, 0.3), 0px 1px 3px 1px rgba(60, 64, 67, 0.15);\n",
              "      fill: #174EA6;\n",
              "    }\n",
              "\n",
              "    [theme=dark] .colab-df-convert {\n",
              "      background-color: #3B4455;\n",
              "      fill: #D2E3FC;\n",
              "    }\n",
              "\n",
              "    [theme=dark] .colab-df-convert:hover {\n",
              "      background-color: #434B5C;\n",
              "      box-shadow: 0px 1px 3px 1px rgba(0, 0, 0, 0.15);\n",
              "      filter: drop-shadow(0px 1px 2px rgba(0, 0, 0, 0.3));\n",
              "      fill: #FFFFFF;\n",
              "    }\n",
              "  </style>\n",
              "\n",
              "      <script>\n",
              "        const buttonEl =\n",
              "          document.querySelector('#df-27023da0-a7a6-4580-9823-b34cebe6f860 button.colab-df-convert');\n",
              "        buttonEl.style.display =\n",
              "          google.colab.kernel.accessAllowed ? 'block' : 'none';\n",
              "\n",
              "        async function convertToInteractive(key) {\n",
              "          const element = document.querySelector('#df-27023da0-a7a6-4580-9823-b34cebe6f860');\n",
              "          const dataTable =\n",
              "            await google.colab.kernel.invokeFunction('convertToInteractive',\n",
              "                                                     [key], {});\n",
              "          if (!dataTable) return;\n",
              "\n",
              "          const docLinkHtml = 'Like what you see? Visit the ' +\n",
              "            '<a target=\"_blank\" href=https://colab.research.google.com/notebooks/data_table.ipynb>data table notebook</a>'\n",
              "            + ' to learn more about interactive tables.';\n",
              "          element.innerHTML = '';\n",
              "          dataTable['output_type'] = 'display_data';\n",
              "          await google.colab.output.renderOutput(dataTable, element);\n",
              "          const docLink = document.createElement('div');\n",
              "          docLink.innerHTML = docLinkHtml;\n",
              "          element.appendChild(docLink);\n",
              "        }\n",
              "      </script>\n",
              "    </div>\n",
              "  </div>\n",
              "  "
            ],
            "text/plain": [
              "                                                                                                                                                                                                                            Youtube Comments\n",
              "323074                                                                 even tougher?  replacing Solksjaer is the easiest task in history.  Just avoid getting battered by the likes of Leicester and Everton and already you're miles ahead.\n",
              "323075                                                                                                                                                                              I keep thinking that pundit with glasses is Rangnick lol\n",
              "323076                                                                                                  I thought they were vaccinated when will yall wake up. Whats the point of the vaccination if youre just going to quarantine everyone\n",
              "323077                                                                                                                                                                                        Golly geeee I thought they were all vAccInAtED\n",
              "323078  All the United Players are vaccinated lmao! Remember back when vaccines rolled out \"Vaccines are 100% effective!\" I'm sure another couple boosters the narrative will change just like how it has the past two years. fucking morons"
            ]
          },
          "metadata": {},
          "execution_count": 42
        }
      ]
    },
    {
      "cell_type": "code",
      "source": [
        "# df_chk[df_chk['Youtube Comments'].str.contains(\"\\r\")]"
      ],
      "metadata": {
        "id": "sT5OzFeT956H"
      },
      "execution_count": 44,
      "outputs": []
    },
    {
      "cell_type": "code",
      "source": [
        "# df_chk[df_chk['Youtube Comments'].str.contains(\"\\n\")]"
      ],
      "metadata": {
        "id": "z3hp71pU_CrV"
      },
      "execution_count": 45,
      "outputs": []
    },
    {
      "cell_type": "code",
      "source": [
        "# df_chk[df_chk['Youtube Comments'].str.contains(\"\\v\")]"
      ],
      "metadata": {
        "id": "0zIpfp1e_E9g"
      },
      "execution_count": 46,
      "outputs": []
    },
    {
      "cell_type": "code",
      "source": [
        "df_chk.head()"
      ],
      "metadata": {
        "colab": {
          "base_uri": "https://localhost:8080/",
          "height": 299
        },
        "id": "nSezi01E3Erc",
        "outputId": "bfff2afb-3b96-4ea2-a19c-3d1d8f38534e"
      },
      "execution_count": 48,
      "outputs": [
        {
          "output_type": "execute_result",
          "data": {
            "text/html": [
              "\n",
              "  <div id=\"df-9a6eb332-a0d3-4e9c-90ac-183b23979625\">\n",
              "    <div class=\"colab-df-container\">\n",
              "      <div>\n",
              "<style scoped>\n",
              "    .dataframe tbody tr th:only-of-type {\n",
              "        vertical-align: middle;\n",
              "    }\n",
              "\n",
              "    .dataframe tbody tr th {\n",
              "        vertical-align: top;\n",
              "    }\n",
              "\n",
              "    .dataframe thead th {\n",
              "        text-align: right;\n",
              "    }\n",
              "</style>\n",
              "<table border=\"1\" class=\"dataframe\">\n",
              "  <thead>\n",
              "    <tr style=\"text-align: right;\">\n",
              "      <th></th>\n",
              "      <th>Youtube Comments</th>\n",
              "    </tr>\n",
              "  </thead>\n",
              "  <tbody>\n",
              "    <tr>\n",
              "      <th>0</th>\n",
              "      <td>who cares, the next variant decepticon is the one to worry about</td>\n",
              "    </tr>\n",
              "    <tr>\n",
              "      <th>1</th>\n",
              "      <td>Worldwide...except for Africa.</td>\n",
              "    </tr>\n",
              "    <tr>\n",
              "      <th>2</th>\n",
              "      <td>Once one case is found, the genie :man_genie: is out of the bottle, spreading like a wild fire. USA should get ready to give boosters nor when Mr micron comes, and spreads people are ready.</td>\n",
              "    </tr>\n",
              "    <tr>\n",
              "      <th>3</th>\n",
              "      <td>Imagine believing this bs</td>\n",
              "    </tr>\n",
              "    <tr>\n",
              "      <th>4</th>\n",
              "      <td>Europe admits Omicron was found IN EUROPE BEFORE AFRICA. So why was South Africa blamed for sounding the alarm?;;Europe admits Covid19 was found IN EUROPE BEFORE CHINA. So why was China blamed for sounding the alarm?;;Covid deaths = Managed pandemic China 4,636 &amp; New Zealand 48   Mismanaged pandemic US 823,390.;;Covid originated at Fort Detrick, Maryland and Spanish flu in Haskell County, Kansas. SO WHY DID AMERICA NOT SOUND THE ALARM ?</td>\n",
              "    </tr>\n",
              "  </tbody>\n",
              "</table>\n",
              "</div>\n",
              "      <button class=\"colab-df-convert\" onclick=\"convertToInteractive('df-9a6eb332-a0d3-4e9c-90ac-183b23979625')\"\n",
              "              title=\"Convert this dataframe to an interactive table.\"\n",
              "              style=\"display:none;\">\n",
              "        \n",
              "  <svg xmlns=\"http://www.w3.org/2000/svg\" height=\"24px\"viewBox=\"0 0 24 24\"\n",
              "       width=\"24px\">\n",
              "    <path d=\"M0 0h24v24H0V0z\" fill=\"none\"/>\n",
              "    <path d=\"M18.56 5.44l.94 2.06.94-2.06 2.06-.94-2.06-.94-.94-2.06-.94 2.06-2.06.94zm-11 1L8.5 8.5l.94-2.06 2.06-.94-2.06-.94L8.5 2.5l-.94 2.06-2.06.94zm10 10l.94 2.06.94-2.06 2.06-.94-2.06-.94-.94-2.06-.94 2.06-2.06.94z\"/><path d=\"M17.41 7.96l-1.37-1.37c-.4-.4-.92-.59-1.43-.59-.52 0-1.04.2-1.43.59L10.3 9.45l-7.72 7.72c-.78.78-.78 2.05 0 2.83L4 21.41c.39.39.9.59 1.41.59.51 0 1.02-.2 1.41-.59l7.78-7.78 2.81-2.81c.8-.78.8-2.07 0-2.86zM5.41 20L4 18.59l7.72-7.72 1.47 1.35L5.41 20z\"/>\n",
              "  </svg>\n",
              "      </button>\n",
              "      \n",
              "  <style>\n",
              "    .colab-df-container {\n",
              "      display:flex;\n",
              "      flex-wrap:wrap;\n",
              "      gap: 12px;\n",
              "    }\n",
              "\n",
              "    .colab-df-convert {\n",
              "      background-color: #E8F0FE;\n",
              "      border: none;\n",
              "      border-radius: 50%;\n",
              "      cursor: pointer;\n",
              "      display: none;\n",
              "      fill: #1967D2;\n",
              "      height: 32px;\n",
              "      padding: 0 0 0 0;\n",
              "      width: 32px;\n",
              "    }\n",
              "\n",
              "    .colab-df-convert:hover {\n",
              "      background-color: #E2EBFA;\n",
              "      box-shadow: 0px 1px 2px rgba(60, 64, 67, 0.3), 0px 1px 3px 1px rgba(60, 64, 67, 0.15);\n",
              "      fill: #174EA6;\n",
              "    }\n",
              "\n",
              "    [theme=dark] .colab-df-convert {\n",
              "      background-color: #3B4455;\n",
              "      fill: #D2E3FC;\n",
              "    }\n",
              "\n",
              "    [theme=dark] .colab-df-convert:hover {\n",
              "      background-color: #434B5C;\n",
              "      box-shadow: 0px 1px 3px 1px rgba(0, 0, 0, 0.15);\n",
              "      filter: drop-shadow(0px 1px 2px rgba(0, 0, 0, 0.3));\n",
              "      fill: #FFFFFF;\n",
              "    }\n",
              "  </style>\n",
              "\n",
              "      <script>\n",
              "        const buttonEl =\n",
              "          document.querySelector('#df-9a6eb332-a0d3-4e9c-90ac-183b23979625 button.colab-df-convert');\n",
              "        buttonEl.style.display =\n",
              "          google.colab.kernel.accessAllowed ? 'block' : 'none';\n",
              "\n",
              "        async function convertToInteractive(key) {\n",
              "          const element = document.querySelector('#df-9a6eb332-a0d3-4e9c-90ac-183b23979625');\n",
              "          const dataTable =\n",
              "            await google.colab.kernel.invokeFunction('convertToInteractive',\n",
              "                                                     [key], {});\n",
              "          if (!dataTable) return;\n",
              "\n",
              "          const docLinkHtml = 'Like what you see? Visit the ' +\n",
              "            '<a target=\"_blank\" href=https://colab.research.google.com/notebooks/data_table.ipynb>data table notebook</a>'\n",
              "            + ' to learn more about interactive tables.';\n",
              "          element.innerHTML = '';\n",
              "          dataTable['output_type'] = 'display_data';\n",
              "          await google.colab.output.renderOutput(dataTable, element);\n",
              "          const docLink = document.createElement('div');\n",
              "          docLink.innerHTML = docLinkHtml;\n",
              "          element.appendChild(docLink);\n",
              "        }\n",
              "      </script>\n",
              "    </div>\n",
              "  </div>\n",
              "  "
            ],
            "text/plain": [
              "                                                                                                                                                                                                                                                                                                                                                                                                                                           Youtube Comments\n",
              "0                                                                                                                                                                                                                                                                                                                                                                                          who cares, the next variant decepticon is the one to worry about\n",
              "1                                                                                                                                                                                                                                                                                                                                                                                                                            Worldwide...except for Africa.\n",
              "2                                                                                                                                                                                                                                                             Once one case is found, the genie :man_genie: is out of the bottle, spreading like a wild fire. USA should get ready to give boosters nor when Mr micron comes, and spreads people are ready.\n",
              "3                                                                                                                                                                                                                                                                                                                                                                                                                                 Imagine believing this bs\n",
              "4  Europe admits Omicron was found IN EUROPE BEFORE AFRICA. So why was South Africa blamed for sounding the alarm?;;Europe admits Covid19 was found IN EUROPE BEFORE CHINA. So why was China blamed for sounding the alarm?;;Covid deaths = Managed pandemic China 4,636 & New Zealand 48   Mismanaged pandemic US 823,390.;;Covid originated at Fort Detrick, Maryland and Spanish flu in Haskell County, Kansas. SO WHY DID AMERICA NOT SOUND THE ALARM ?"
            ]
          },
          "metadata": {},
          "execution_count": 48
        }
      ]
    },
    {
      "cell_type": "markdown",
      "metadata": {
        "id": "CIdHEiNJM99q"
      },
      "source": [
        "## Real Time Single Record Processing"
      ]
    },
    {
      "cell_type": "markdown",
      "metadata": {
        "id": "32NjB1sMM99q"
      },
      "source": [
        "Using this type of processing you can analyze one piece of text of up to 5K bytes long."
      ]
    },
    {
      "cell_type": "code",
      "metadata": {
        "colab": {
          "base_uri": "https://localhost:8080/"
        },
        "id": "d-kBQOtmM99r",
        "outputId": "8d165f48-ae83-4b36-ad0d-9362b1ecef44"
      },
      "source": [
        "# Select a single tweet\n",
        "# text = df.loc[1].item()\n",
        "\n",
        "text = df_keep['Youtube Comments'].iloc[2500]\n",
        "print(text)"
      ],
      "execution_count": 49,
      "outputs": [
        {
          "output_type": "stream",
          "name": "stdout",
          "text": [
            "Because this is all a scam. Burn down everY msm outlet\n"
          ]
        }
      ]
    },
    {
      "cell_type": "code",
      "metadata": {
        "id": "GswdbnvaZaWp"
      },
      "source": [
        "config = configparser.ConfigParser()\n",
        "config.read_file(open('credentials_Chon_HKDL.cfg'))\n",
        "# config.read_file(open('credentials.cfg'))\n",
        "# config.read_file(open('your_aws_credentials.cfg'))\n",
        "\n",
        "os.environ[\"AWS_ACCESS_KEY_ID\"]= config['AWS']['AWS_ACCESS_KEY_ID']\n",
        "os.environ[\"AWS_SECRET_ACCESS_KEY\"]= config['AWS']['AWS_SECRET_ACCESS_KEY']"
      ],
      "execution_count": 50,
      "outputs": []
    },
    {
      "cell_type": "code",
      "metadata": {
        "id": "L4DFwvPBaXRS"
      },
      "source": [
        "# ad hoc check\n",
        "# os.environ[\"AWS_ACCESS_KEY_ID\"]"
      ],
      "execution_count": null,
      "outputs": []
    },
    {
      "cell_type": "code",
      "metadata": {
        "id": "PCwtsEVnM99s"
      },
      "source": [
        "#initialize Comprehend module\n",
        "comprehend = boto3.client(service_name='comprehend', \n",
        "                          region_name='us-west-2',  \n",
        "                          aws_access_key_id=os.environ[\"AWS_ACCESS_KEY_ID\"],\n",
        "                          aws_secret_access_key=os.environ[\"AWS_SECRET_ACCESS_KEY\"] )"
      ],
      "execution_count": 51,
      "outputs": []
    },
    {
      "cell_type": "code",
      "metadata": {
        "colab": {
          "base_uri": "https://localhost:8080/"
        },
        "id": "hBZWx70RM99s",
        "outputId": "8ace823c-b5f7-4bdb-c63a-8179ff9f72b9"
      },
      "source": [
        "# Run sentiment analysis\n",
        "sentiment_output = comprehend.detect_sentiment(Text=text, LanguageCode='en')\n",
        "# Output\n",
        "sentiment_output"
      ],
      "execution_count": 52,
      "outputs": [
        {
          "output_type": "execute_result",
          "data": {
            "text/plain": [
              "{'ResponseMetadata': {'HTTPHeaders': {'content-length': '167',\n",
              "   'content-type': 'application/x-amz-json-1.1',\n",
              "   'date': 'Fri, 17 Dec 2021 16:25:12 GMT',\n",
              "   'x-amzn-requestid': '4d851ec5-2796-43dd-a48d-e4b0caf58911'},\n",
              "  'HTTPStatusCode': 200,\n",
              "  'RequestId': '4d851ec5-2796-43dd-a48d-e4b0caf58911',\n",
              "  'RetryAttempts': 0},\n",
              " 'Sentiment': 'NEGATIVE',\n",
              " 'SentimentScore': {'Mixed': 4.4407752284314483e-05,\n",
              "  'Negative': 0.9954310655593872,\n",
              "  'Neutral': 0.0040391539223492146,\n",
              "  'Positive': 0.0004853180143982172}}"
            ]
          },
          "metadata": {},
          "execution_count": 52
        }
      ]
    },
    {
      "cell_type": "code",
      "metadata": {
        "colab": {
          "base_uri": "https://localhost:8080/"
        },
        "id": "aEwlW7pe-lXg",
        "outputId": "6b93eb96-448e-41df-ed41-c7688393301d"
      },
      "source": [
        "# check orginal tweet\n",
        "print(text)"
      ],
      "execution_count": 53,
      "outputs": [
        {
          "output_type": "stream",
          "name": "stdout",
          "text": [
            "Because this is all a scam. Burn down everY msm outlet\n"
          ]
        }
      ]
    },
    {
      "cell_type": "code",
      "metadata": {
        "colab": {
          "base_uri": "https://localhost:8080/"
        },
        "id": "FouXK7EyueQg",
        "outputId": "13a2c1aa-4115-49be-bc03-beff92b2261d"
      },
      "source": [
        "# check Dictionary elements in sentiment_batch\n",
        "keys_list = list(sentiment_output)\n",
        "\n",
        "for i in range(len(sentiment_output)):\n",
        "  a_key = keys_list[i]\n",
        "  print(a_key)"
      ],
      "execution_count": 57,
      "outputs": [
        {
          "output_type": "stream",
          "name": "stdout",
          "text": [
            "Sentiment\n",
            "SentimentScore\n",
            "ResponseMetadata\n"
          ]
        }
      ]
    },
    {
      "cell_type": "code",
      "metadata": {
        "colab": {
          "base_uri": "https://localhost:8080/",
          "height": 35
        },
        "id": "YaSP24zU-M8Q",
        "outputId": "007b9b1d-442b-4218-e67b-82f1d1a135a9"
      },
      "source": [
        "#Get Sentiment prediction\n",
        "sentiment_output['Sentiment']"
      ],
      "execution_count": 54,
      "outputs": [
        {
          "output_type": "execute_result",
          "data": {
            "application/vnd.google.colaboratory.intrinsic+json": {
              "type": "string"
            },
            "text/plain": [
              "'NEGATIVE'"
            ]
          },
          "metadata": {},
          "execution_count": 54
        }
      ]
    },
    {
      "cell_type": "code",
      "metadata": {
        "id": "zxlliHpAM99t",
        "colab": {
          "base_uri": "https://localhost:8080/"
        },
        "outputId": "e5e3f11f-79f0-4581-e303-70fe2e73725e"
      },
      "source": [
        "#Get Sentiment Confidence Score\n",
        "sentiment_output['SentimentScore']"
      ],
      "execution_count": 55,
      "outputs": [
        {
          "output_type": "execute_result",
          "data": {
            "text/plain": [
              "{'Mixed': 4.4407752284314483e-05,\n",
              " 'Negative': 0.9954310655593872,\n",
              " 'Neutral': 0.0040391539223492146,\n",
              " 'Positive': 0.0004853180143982172}"
            ]
          },
          "metadata": {},
          "execution_count": 55
        }
      ]
    },
    {
      "cell_type": "markdown",
      "metadata": {
        "id": "V_0dZG3YM99u"
      },
      "source": [
        "## Real-Time Batch Processing"
      ]
    },
    {
      "cell_type": "markdown",
      "metadata": {
        "id": "EhN_K_gIM99u"
      },
      "source": [
        "Up to 25 documents of up to 5,000 bytes each, submitted in a list."
      ]
    },
    {
      "cell_type": "code",
      "metadata": {
        "id": "Blyk7pKMM99u"
      },
      "source": [
        "# Create a batch\n",
        "# text_list = list(df.walmart_tweets[75:100])\n",
        "text_list = list(df_keep['Youtube Comments'][20000:20025])\n",
        "\n",
        "#Run a sentiment batch\n",
        "sentiment_batch = comprehend.batch_detect_sentiment(TextList=text_list,\n",
        "                                                    LanguageCode='en')"
      ],
      "execution_count": 58,
      "outputs": []
    },
    {
      "cell_type": "code",
      "metadata": {
        "colab": {
          "base_uri": "https://localhost:8080/"
        },
        "id": "1zo_PjdM8nMR",
        "outputId": "dc01d0fe-84fd-4d22-faf3-0fdc2685b115"
      },
      "source": [
        "# print the first 10 documents in the batch\n",
        "for i in range(5):\n",
        "  print(text_list[i])"
      ],
      "execution_count": 59,
      "outputs": [
        {
          "output_type": "stream",
          "name": "stdout",
          "text": [
            "Because it doesnt work genius\n",
            "Alex Jones was right\n",
            "Because they havent had their 5th booster. If the government has the power to mandate vaccination why not one vaccine per month or per day if thats what we have to do?\n",
            "Why are vaccinated people still getting sick?.uuummmmm.because its a VIRUS possibly??:person_facepalming_mediumlight_skin_tone:\n",
            "Unfortunately rules are so tight right now that when a adult family member of mine went into the er for horrible stomach pains and one day later chest pains, they tested him twice for COVID and both came back negative. They were so sure he got COVID but it ended up just being inflammation and fluid in the lungs. Another instance was my little brother went to a clinic for intense vomiting which they were to test for COVID one day first  in order to be seen. Like vomiting is COVID related now?\n"
          ]
        }
      ]
    },
    {
      "cell_type": "code",
      "metadata": {
        "colab": {
          "base_uri": "https://localhost:8080/"
        },
        "id": "38GAO3H-tJD4",
        "outputId": "c1abff2b-5f04-4cbb-868e-7afaad52f6d3"
      },
      "source": [
        "len(sentiment_batch)"
      ],
      "execution_count": 60,
      "outputs": [
        {
          "output_type": "execute_result",
          "data": {
            "text/plain": [
              "3"
            ]
          },
          "metadata": {},
          "execution_count": 60
        }
      ]
    },
    {
      "cell_type": "code",
      "metadata": {
        "colab": {
          "base_uri": "https://localhost:8080/"
        },
        "id": "9YCXD2q2ttD6",
        "outputId": "7f134ec6-e8c3-4a7e-f779-8019c9eaa8ce"
      },
      "source": [
        "# check Dictionary elements in sentiment_batch\n",
        "keys_list = list(sentiment_batch)\n",
        "\n",
        "for i in range(len(sentiment_batch)):\n",
        "  a_key = keys_list[i]\n",
        "  print(a_key)"
      ],
      "execution_count": 61,
      "outputs": [
        {
          "output_type": "stream",
          "name": "stdout",
          "text": [
            "ResultList\n",
            "ErrorList\n",
            "ResponseMetadata\n"
          ]
        }
      ]
    },
    {
      "cell_type": "code",
      "metadata": {
        "colab": {
          "base_uri": "https://localhost:8080/"
        },
        "id": "DEYcGZxh_xrS",
        "outputId": "66246555-5992-4aa7-b75c-02a175847952"
      },
      "source": [
        "type(sentiment_batch['ResultList'])"
      ],
      "execution_count": null,
      "outputs": [
        {
          "output_type": "execute_result",
          "data": {
            "text/plain": [
              "list"
            ]
          },
          "metadata": {},
          "execution_count": 94
        }
      ]
    },
    {
      "cell_type": "code",
      "metadata": {
        "colab": {
          "base_uri": "https://localhost:8080/"
        },
        "id": "gTAyvb3I__Ip",
        "outputId": "82c04073-7329-4d97-b94c-f524297eec55"
      },
      "source": [
        "len(sentiment_batch['ResultList'])"
      ],
      "execution_count": null,
      "outputs": [
        {
          "output_type": "execute_result",
          "data": {
            "text/plain": [
              "25"
            ]
          },
          "metadata": {},
          "execution_count": 93
        }
      ]
    },
    {
      "cell_type": "code",
      "metadata": {
        "colab": {
          "base_uri": "https://localhost:8080/"
        },
        "id": "EkjzzoyDtFK3",
        "outputId": "43da524d-3e60-4447-f8c7-8b254590573b"
      },
      "source": [
        "len(sentiment_batch['ErrorList'])"
      ],
      "execution_count": null,
      "outputs": [
        {
          "output_type": "execute_result",
          "data": {
            "text/plain": [
              "0"
            ]
          },
          "metadata": {},
          "execution_count": 217
        }
      ]
    },
    {
      "cell_type": "code",
      "metadata": {
        "colab": {
          "base_uri": "https://localhost:8080/"
        },
        "id": "4gZAp4guuWV8",
        "outputId": "0a8fb598-3a42-4ef6-fa6d-ecbc8ca078cd"
      },
      "source": [
        "len(sentiment_batch['ResponseMetadata'])"
      ],
      "execution_count": null,
      "outputs": [
        {
          "output_type": "execute_result",
          "data": {
            "text/plain": [
              "4"
            ]
          },
          "metadata": {},
          "execution_count": 218
        }
      ]
    },
    {
      "cell_type": "code",
      "metadata": {
        "colab": {
          "base_uri": "https://localhost:8080/"
        },
        "id": "ZuSL0KiM_fd_",
        "outputId": "9c81a69a-006b-4c8d-8941-ea6da237e7a5"
      },
      "source": [
        "print(text_list[4])"
      ],
      "execution_count": null,
      "outputs": [
        {
          "output_type": "stream",
          "name": "stdout",
          "text": [
            "Peasant wet market bat seller holed up somewhere in China thinking, \"What the Hell have I done?\"\n"
          ]
        }
      ]
    },
    {
      "cell_type": "code",
      "metadata": {
        "colab": {
          "base_uri": "https://localhost:8080/"
        },
        "id": "hh93XngKM99v",
        "outputId": "a047069c-179d-4da1-f459-4d06c27a08f8"
      },
      "source": [
        "# Check the 5th document in batch submitted\n",
        "sentiment_batch['ResultList'][4]"
      ],
      "execution_count": 62,
      "outputs": [
        {
          "output_type": "execute_result",
          "data": {
            "text/plain": [
              "{'Index': 4,\n",
              " 'Sentiment': 'NEGATIVE',\n",
              " 'SentimentScore': {'Mixed': 0.004918512888252735,\n",
              "  'Negative': 0.9872811436653137,\n",
              "  'Neutral': 0.005720533896237612,\n",
              "  'Positive': 0.0020797415636479855}}"
            ]
          },
          "metadata": {},
          "execution_count": 62
        }
      ]
    },
    {
      "cell_type": "markdown",
      "metadata": {
        "id": "metwFZduM99w"
      },
      "source": [
        "Parse the results into a dataframe"
      ]
    },
    {
      "cell_type": "code",
      "metadata": {
        "id": "hvp4ulFgM99w"
      },
      "source": [
        "def parse_sentiment_batch(data):\n",
        "    df = pd.DataFrame([item['SentimentScore'] for item in data['ResultList']])\n",
        "    df['Sentiment'] = [item.get('Sentiment') for item in data['ResultList']]\n",
        "    df['Index'] = [item.get('Index') for item in data['ResultList']]\n",
        "    df.set_index('Index', inplace = True)\n",
        "    \n",
        "    return(df)"
      ],
      "execution_count": 64,
      "outputs": []
    },
    {
      "cell_type": "code",
      "metadata": {
        "colab": {
          "base_uri": "https://localhost:8080/",
          "height": 235
        },
        "id": "csf5hrofM99w",
        "outputId": "0f161eeb-0702-4396-c11b-e9c4847a3712"
      },
      "source": [
        "parse_sentiment_batch(sentiment_batch).head()"
      ],
      "execution_count": 65,
      "outputs": [
        {
          "output_type": "execute_result",
          "data": {
            "text/html": [
              "\n",
              "  <div id=\"df-26aa1857-1ade-4ab4-ab3f-2b22413a6cb5\">\n",
              "    <div class=\"colab-df-container\">\n",
              "      <div>\n",
              "<style scoped>\n",
              "    .dataframe tbody tr th:only-of-type {\n",
              "        vertical-align: middle;\n",
              "    }\n",
              "\n",
              "    .dataframe tbody tr th {\n",
              "        vertical-align: top;\n",
              "    }\n",
              "\n",
              "    .dataframe thead th {\n",
              "        text-align: right;\n",
              "    }\n",
              "</style>\n",
              "<table border=\"1\" class=\"dataframe\">\n",
              "  <thead>\n",
              "    <tr style=\"text-align: right;\">\n",
              "      <th></th>\n",
              "      <th>Positive</th>\n",
              "      <th>Negative</th>\n",
              "      <th>Neutral</th>\n",
              "      <th>Mixed</th>\n",
              "      <th>Sentiment</th>\n",
              "    </tr>\n",
              "    <tr>\n",
              "      <th>Index</th>\n",
              "      <th></th>\n",
              "      <th></th>\n",
              "      <th></th>\n",
              "      <th></th>\n",
              "      <th></th>\n",
              "    </tr>\n",
              "  </thead>\n",
              "  <tbody>\n",
              "    <tr>\n",
              "      <th>0</th>\n",
              "      <td>0.019701</td>\n",
              "      <td>0.796489</td>\n",
              "      <td>0.057033</td>\n",
              "      <td>0.126777</td>\n",
              "      <td>NEGATIVE</td>\n",
              "    </tr>\n",
              "    <tr>\n",
              "      <th>1</th>\n",
              "      <td>0.850623</td>\n",
              "      <td>0.004157</td>\n",
              "      <td>0.145044</td>\n",
              "      <td>0.000176</td>\n",
              "      <td>POSITIVE</td>\n",
              "    </tr>\n",
              "    <tr>\n",
              "      <th>2</th>\n",
              "      <td>0.021832</td>\n",
              "      <td>0.390017</td>\n",
              "      <td>0.216113</td>\n",
              "      <td>0.372038</td>\n",
              "      <td>NEGATIVE</td>\n",
              "    </tr>\n",
              "    <tr>\n",
              "      <th>3</th>\n",
              "      <td>0.001044</td>\n",
              "      <td>0.793535</td>\n",
              "      <td>0.204621</td>\n",
              "      <td>0.000800</td>\n",
              "      <td>NEGATIVE</td>\n",
              "    </tr>\n",
              "    <tr>\n",
              "      <th>4</th>\n",
              "      <td>0.002080</td>\n",
              "      <td>0.987281</td>\n",
              "      <td>0.005721</td>\n",
              "      <td>0.004919</td>\n",
              "      <td>NEGATIVE</td>\n",
              "    </tr>\n",
              "  </tbody>\n",
              "</table>\n",
              "</div>\n",
              "      <button class=\"colab-df-convert\" onclick=\"convertToInteractive('df-26aa1857-1ade-4ab4-ab3f-2b22413a6cb5')\"\n",
              "              title=\"Convert this dataframe to an interactive table.\"\n",
              "              style=\"display:none;\">\n",
              "        \n",
              "  <svg xmlns=\"http://www.w3.org/2000/svg\" height=\"24px\"viewBox=\"0 0 24 24\"\n",
              "       width=\"24px\">\n",
              "    <path d=\"M0 0h24v24H0V0z\" fill=\"none\"/>\n",
              "    <path d=\"M18.56 5.44l.94 2.06.94-2.06 2.06-.94-2.06-.94-.94-2.06-.94 2.06-2.06.94zm-11 1L8.5 8.5l.94-2.06 2.06-.94-2.06-.94L8.5 2.5l-.94 2.06-2.06.94zm10 10l.94 2.06.94-2.06 2.06-.94-2.06-.94-.94-2.06-.94 2.06-2.06.94z\"/><path d=\"M17.41 7.96l-1.37-1.37c-.4-.4-.92-.59-1.43-.59-.52 0-1.04.2-1.43.59L10.3 9.45l-7.72 7.72c-.78.78-.78 2.05 0 2.83L4 21.41c.39.39.9.59 1.41.59.51 0 1.02-.2 1.41-.59l7.78-7.78 2.81-2.81c.8-.78.8-2.07 0-2.86zM5.41 20L4 18.59l7.72-7.72 1.47 1.35L5.41 20z\"/>\n",
              "  </svg>\n",
              "      </button>\n",
              "      \n",
              "  <style>\n",
              "    .colab-df-container {\n",
              "      display:flex;\n",
              "      flex-wrap:wrap;\n",
              "      gap: 12px;\n",
              "    }\n",
              "\n",
              "    .colab-df-convert {\n",
              "      background-color: #E8F0FE;\n",
              "      border: none;\n",
              "      border-radius: 50%;\n",
              "      cursor: pointer;\n",
              "      display: none;\n",
              "      fill: #1967D2;\n",
              "      height: 32px;\n",
              "      padding: 0 0 0 0;\n",
              "      width: 32px;\n",
              "    }\n",
              "\n",
              "    .colab-df-convert:hover {\n",
              "      background-color: #E2EBFA;\n",
              "      box-shadow: 0px 1px 2px rgba(60, 64, 67, 0.3), 0px 1px 3px 1px rgba(60, 64, 67, 0.15);\n",
              "      fill: #174EA6;\n",
              "    }\n",
              "\n",
              "    [theme=dark] .colab-df-convert {\n",
              "      background-color: #3B4455;\n",
              "      fill: #D2E3FC;\n",
              "    }\n",
              "\n",
              "    [theme=dark] .colab-df-convert:hover {\n",
              "      background-color: #434B5C;\n",
              "      box-shadow: 0px 1px 3px 1px rgba(0, 0, 0, 0.15);\n",
              "      filter: drop-shadow(0px 1px 2px rgba(0, 0, 0, 0.3));\n",
              "      fill: #FFFFFF;\n",
              "    }\n",
              "  </style>\n",
              "\n",
              "      <script>\n",
              "        const buttonEl =\n",
              "          document.querySelector('#df-26aa1857-1ade-4ab4-ab3f-2b22413a6cb5 button.colab-df-convert');\n",
              "        buttonEl.style.display =\n",
              "          google.colab.kernel.accessAllowed ? 'block' : 'none';\n",
              "\n",
              "        async function convertToInteractive(key) {\n",
              "          const element = document.querySelector('#df-26aa1857-1ade-4ab4-ab3f-2b22413a6cb5');\n",
              "          const dataTable =\n",
              "            await google.colab.kernel.invokeFunction('convertToInteractive',\n",
              "                                                     [key], {});\n",
              "          if (!dataTable) return;\n",
              "\n",
              "          const docLinkHtml = 'Like what you see? Visit the ' +\n",
              "            '<a target=\"_blank\" href=https://colab.research.google.com/notebooks/data_table.ipynb>data table notebook</a>'\n",
              "            + ' to learn more about interactive tables.';\n",
              "          element.innerHTML = '';\n",
              "          dataTable['output_type'] = 'display_data';\n",
              "          await google.colab.output.renderOutput(dataTable, element);\n",
              "          const docLink = document.createElement('div');\n",
              "          docLink.innerHTML = docLinkHtml;\n",
              "          element.appendChild(docLink);\n",
              "        }\n",
              "      </script>\n",
              "    </div>\n",
              "  </div>\n",
              "  "
            ],
            "text/plain": [
              "       Positive  Negative   Neutral     Mixed Sentiment\n",
              "Index                                                  \n",
              "0      0.019701  0.796489  0.057033  0.126777  NEGATIVE\n",
              "1      0.850623  0.004157  0.145044  0.000176  POSITIVE\n",
              "2      0.021832  0.390017  0.216113  0.372038  NEGATIVE\n",
              "3      0.001044  0.793535  0.204621  0.000800  NEGATIVE\n",
              "4      0.002080  0.987281  0.005721  0.004919  NEGATIVE"
            ]
          },
          "metadata": {},
          "execution_count": 65
        }
      ]
    },
    {
      "cell_type": "code",
      "source": [
        "# df.walmart_tweets[78]"
      ],
      "metadata": {
        "id": "V4KavzucSfQB"
      },
      "execution_count": null,
      "outputs": []
    },
    {
      "cell_type": "code",
      "metadata": {
        "id": "l7FzmUwj0i9D"
      },
      "source": [
        "batch_results = parse_sentiment_batch(sentiment_batch)"
      ],
      "execution_count": 66,
      "outputs": []
    },
    {
      "cell_type": "code",
      "metadata": {
        "id": "qh26UpIs0Tm7"
      },
      "source": [
        "batch_results['Text'] = text_list"
      ],
      "execution_count": 67,
      "outputs": []
    },
    {
      "cell_type": "code",
      "metadata": {
        "colab": {
          "base_uri": "https://localhost:8080/",
          "height": 381
        },
        "id": "niDQx4741uht",
        "outputId": "6afeb491-86d8-475e-fa19-6d6f5cf97750"
      },
      "source": [
        "batch_results.head()"
      ],
      "execution_count": 68,
      "outputs": [
        {
          "output_type": "execute_result",
          "data": {
            "text/html": [
              "\n",
              "  <div id=\"df-5e2df72e-12f7-4d2c-9f9c-207ff9120707\">\n",
              "    <div class=\"colab-df-container\">\n",
              "      <div>\n",
              "<style scoped>\n",
              "    .dataframe tbody tr th:only-of-type {\n",
              "        vertical-align: middle;\n",
              "    }\n",
              "\n",
              "    .dataframe tbody tr th {\n",
              "        vertical-align: top;\n",
              "    }\n",
              "\n",
              "    .dataframe thead th {\n",
              "        text-align: right;\n",
              "    }\n",
              "</style>\n",
              "<table border=\"1\" class=\"dataframe\">\n",
              "  <thead>\n",
              "    <tr style=\"text-align: right;\">\n",
              "      <th></th>\n",
              "      <th>Positive</th>\n",
              "      <th>Negative</th>\n",
              "      <th>Neutral</th>\n",
              "      <th>Mixed</th>\n",
              "      <th>Sentiment</th>\n",
              "      <th>Text</th>\n",
              "    </tr>\n",
              "    <tr>\n",
              "      <th>Index</th>\n",
              "      <th></th>\n",
              "      <th></th>\n",
              "      <th></th>\n",
              "      <th></th>\n",
              "      <th></th>\n",
              "      <th></th>\n",
              "    </tr>\n",
              "  </thead>\n",
              "  <tbody>\n",
              "    <tr>\n",
              "      <th>0</th>\n",
              "      <td>0.019701</td>\n",
              "      <td>0.796489</td>\n",
              "      <td>0.057033</td>\n",
              "      <td>0.126777</td>\n",
              "      <td>NEGATIVE</td>\n",
              "      <td>Because it doesnt work genius</td>\n",
              "    </tr>\n",
              "    <tr>\n",
              "      <th>1</th>\n",
              "      <td>0.850623</td>\n",
              "      <td>0.004157</td>\n",
              "      <td>0.145044</td>\n",
              "      <td>0.000176</td>\n",
              "      <td>POSITIVE</td>\n",
              "      <td>Alex Jones was right</td>\n",
              "    </tr>\n",
              "    <tr>\n",
              "      <th>2</th>\n",
              "      <td>0.021832</td>\n",
              "      <td>0.390017</td>\n",
              "      <td>0.216113</td>\n",
              "      <td>0.372038</td>\n",
              "      <td>NEGATIVE</td>\n",
              "      <td>Because they havent had their 5th booster. If the government has the power to mandate vaccination why not one vaccine per month or per day if thats what we have to do?</td>\n",
              "    </tr>\n",
              "    <tr>\n",
              "      <th>3</th>\n",
              "      <td>0.001044</td>\n",
              "      <td>0.793535</td>\n",
              "      <td>0.204621</td>\n",
              "      <td>0.000800</td>\n",
              "      <td>NEGATIVE</td>\n",
              "      <td>Why are vaccinated people still getting sick?.uuummmmm.because its a VIRUS possibly??:person_facepalming_mediumlight_skin_tone:</td>\n",
              "    </tr>\n",
              "    <tr>\n",
              "      <th>4</th>\n",
              "      <td>0.002080</td>\n",
              "      <td>0.987281</td>\n",
              "      <td>0.005721</td>\n",
              "      <td>0.004919</td>\n",
              "      <td>NEGATIVE</td>\n",
              "      <td>Unfortunately rules are so tight right now that when a adult family member of mine went into the er for horrible stomach pains and one day later chest pains, they tested him twice for COVID and both came back negative. They were so sure he got COVID but it ended up just being inflammation and fluid in the lungs. Another instance was my little brother went to a clinic for intense vomiting which they were to test for COVID one day first  in order to be seen. Like vomiting is COVID related now?</td>\n",
              "    </tr>\n",
              "  </tbody>\n",
              "</table>\n",
              "</div>\n",
              "      <button class=\"colab-df-convert\" onclick=\"convertToInteractive('df-5e2df72e-12f7-4d2c-9f9c-207ff9120707')\"\n",
              "              title=\"Convert this dataframe to an interactive table.\"\n",
              "              style=\"display:none;\">\n",
              "        \n",
              "  <svg xmlns=\"http://www.w3.org/2000/svg\" height=\"24px\"viewBox=\"0 0 24 24\"\n",
              "       width=\"24px\">\n",
              "    <path d=\"M0 0h24v24H0V0z\" fill=\"none\"/>\n",
              "    <path d=\"M18.56 5.44l.94 2.06.94-2.06 2.06-.94-2.06-.94-.94-2.06-.94 2.06-2.06.94zm-11 1L8.5 8.5l.94-2.06 2.06-.94-2.06-.94L8.5 2.5l-.94 2.06-2.06.94zm10 10l.94 2.06.94-2.06 2.06-.94-2.06-.94-.94-2.06-.94 2.06-2.06.94z\"/><path d=\"M17.41 7.96l-1.37-1.37c-.4-.4-.92-.59-1.43-.59-.52 0-1.04.2-1.43.59L10.3 9.45l-7.72 7.72c-.78.78-.78 2.05 0 2.83L4 21.41c.39.39.9.59 1.41.59.51 0 1.02-.2 1.41-.59l7.78-7.78 2.81-2.81c.8-.78.8-2.07 0-2.86zM5.41 20L4 18.59l7.72-7.72 1.47 1.35L5.41 20z\"/>\n",
              "  </svg>\n",
              "      </button>\n",
              "      \n",
              "  <style>\n",
              "    .colab-df-container {\n",
              "      display:flex;\n",
              "      flex-wrap:wrap;\n",
              "      gap: 12px;\n",
              "    }\n",
              "\n",
              "    .colab-df-convert {\n",
              "      background-color: #E8F0FE;\n",
              "      border: none;\n",
              "      border-radius: 50%;\n",
              "      cursor: pointer;\n",
              "      display: none;\n",
              "      fill: #1967D2;\n",
              "      height: 32px;\n",
              "      padding: 0 0 0 0;\n",
              "      width: 32px;\n",
              "    }\n",
              "\n",
              "    .colab-df-convert:hover {\n",
              "      background-color: #E2EBFA;\n",
              "      box-shadow: 0px 1px 2px rgba(60, 64, 67, 0.3), 0px 1px 3px 1px rgba(60, 64, 67, 0.15);\n",
              "      fill: #174EA6;\n",
              "    }\n",
              "\n",
              "    [theme=dark] .colab-df-convert {\n",
              "      background-color: #3B4455;\n",
              "      fill: #D2E3FC;\n",
              "    }\n",
              "\n",
              "    [theme=dark] .colab-df-convert:hover {\n",
              "      background-color: #434B5C;\n",
              "      box-shadow: 0px 1px 3px 1px rgba(0, 0, 0, 0.15);\n",
              "      filter: drop-shadow(0px 1px 2px rgba(0, 0, 0, 0.3));\n",
              "      fill: #FFFFFF;\n",
              "    }\n",
              "  </style>\n",
              "\n",
              "      <script>\n",
              "        const buttonEl =\n",
              "          document.querySelector('#df-5e2df72e-12f7-4d2c-9f9c-207ff9120707 button.colab-df-convert');\n",
              "        buttonEl.style.display =\n",
              "          google.colab.kernel.accessAllowed ? 'block' : 'none';\n",
              "\n",
              "        async function convertToInteractive(key) {\n",
              "          const element = document.querySelector('#df-5e2df72e-12f7-4d2c-9f9c-207ff9120707');\n",
              "          const dataTable =\n",
              "            await google.colab.kernel.invokeFunction('convertToInteractive',\n",
              "                                                     [key], {});\n",
              "          if (!dataTable) return;\n",
              "\n",
              "          const docLinkHtml = 'Like what you see? Visit the ' +\n",
              "            '<a target=\"_blank\" href=https://colab.research.google.com/notebooks/data_table.ipynb>data table notebook</a>'\n",
              "            + ' to learn more about interactive tables.';\n",
              "          element.innerHTML = '';\n",
              "          dataTable['output_type'] = 'display_data';\n",
              "          await google.colab.output.renderOutput(dataTable, element);\n",
              "          const docLink = document.createElement('div');\n",
              "          docLink.innerHTML = docLinkHtml;\n",
              "          element.appendChild(docLink);\n",
              "        }\n",
              "      </script>\n",
              "    </div>\n",
              "  </div>\n",
              "  "
            ],
            "text/plain": [
              "       Positive  ...                                                                                                                                                                                                                                                                                                                                                                                                                                                                                                              Text\n",
              "Index            ...                                                                                                                                                                                                                                                                                                                                                                                                                                                                                                                  \n",
              "0      0.019701  ...                                                                                                                                                                                                                                                                                                                                                                                                                                                                                     Because it doesnt work genius\n",
              "1      0.850623  ...                                                                                                                                                                                                                                                                                                                                                                                                                                                                                              Alex Jones was right\n",
              "2      0.021832  ...                                                                                                                                                                                                                                                                                                                                           Because they havent had their 5th booster. If the government has the power to mandate vaccination why not one vaccine per month or per day if thats what we have to do?\n",
              "3      0.001044  ...                                                                                                                                                                                                                                                                                                                                                                                   Why are vaccinated people still getting sick?.uuummmmm.because its a VIRUS possibly??:person_facepalming_mediumlight_skin_tone:\n",
              "4      0.002080  ...  Unfortunately rules are so tight right now that when a adult family member of mine went into the er for horrible stomach pains and one day later chest pains, they tested him twice for COVID and both came back negative. They were so sure he got COVID but it ended up just being inflammation and fluid in the lungs. Another instance was my little brother went to a clinic for intense vomiting which they were to test for COVID one day first  in order to be seen. Like vomiting is COVID related now?\n",
              "\n",
              "[5 rows x 6 columns]"
            ]
          },
          "metadata": {},
          "execution_count": 68
        }
      ]
    },
    {
      "cell_type": "markdown",
      "metadata": {
        "id": "y9XIU1TLM99x"
      },
      "source": [
        "## Asynchronous Processing"
      ]
    },
    {
      "cell_type": "markdown",
      "metadata": {
        "id": "Qk7thesfM99x"
      },
      "source": [
        "I highly recommend that you run at least one Comprehend job from the point and click interface, especially, if you are new to AWS. This way you can create a data access role (aka `data_access_role_arn`), and then you can simply copy the role name from the job description. \n",
        "\n",
        "You will need to create your S3 bucket through the web interface or through BOTO3 API.\n",
        "\n",
        "Note that I use different folders `s3://comprehend-api/input-data` and `s3://comprehend-api/results` for input data and results output. This way, your results are not going to get confused for inputs if you were to analyze all files in the folder."
      ]
    },
    {
      "cell_type": "markdown",
      "metadata": {
        "id": "RUfYTx1kM99x"
      },
      "source": [
        "#### Upload the data to S3"
      ]
    },
    {
      "cell_type": "code",
      "metadata": {
        "id": "1M4jNsNe9Y92"
      },
      "source": [
        "# define bucket varialbes\n",
        "local_file_name = 'youtube_covid_comments_API_Reduce2.csv'\n",
        "\n",
        "# bucket_name = 'chon-hkdl-demo'\n",
        "bucket_name = 'chon-hkdl-private'\n",
        "\n",
        "aws_file_name = 'input-data-17Dec/youtube_covid_comments_API_Reduce2.csv'"
      ],
      "execution_count": 195,
      "outputs": []
    },
    {
      "cell_type": "code",
      "metadata": {
        "id": "TeY7M831M99y"
      },
      "source": [
        "# Upload file to specific location (only if data is not already there)\n",
        "\n",
        "s3 = boto3.client('s3')\n",
        "s3.upload_file(local_file_name, bucket_name, aws_file_name)"
      ],
      "execution_count": 196,
      "outputs": []
    },
    {
      "cell_type": "markdown",
      "metadata": {
        "id": "1MA18NE1M99y"
      },
      "source": [
        "#### Configure Sentiment Detection Job"
      ]
    },
    {
      "cell_type": "code",
      "metadata": {
        "id": "zx__--NvM99y"
      },
      "source": [
        "# Set these values before running the program\n",
        "# input_s3_url = 's3://YOUR_BUCKET_NAME/YOUR_BUCKET_FOLDER/FILE_NAME.csv' #folder, file or prefix\n",
        "input_s3_url = \"s3://chon-hkdl-private/input-data-17Dec/youtube_covid_comments_API_Reduce2.csv\"\n",
        "\n",
        "input_doc_format = 'ONE_DOC_PER_LINE'\n",
        "\n",
        "output_s3_url = 's3://chon-hkdl-private/results_17Dec_API_Reduce2'\n",
        "\n",
        "# data_access_role_arn = \"arn:aws:iam::YOUR_ACCOUNT_NUMBER:role/service-role/YOUR_SERVICE_ROLE\"\n",
        "data_access_role_arn = \"arn:aws:iam::286289698935:role/ComprehendS3Role2\"\n",
        "\n",
        "\n",
        "# Set up job configuration\n",
        "input_data_config = {'S3Uri': input_s3_url, 'InputFormat': input_doc_format}\n",
        "output_data_config = {'S3Uri': output_s3_url}"
      ],
      "execution_count": 197,
      "outputs": []
    },
    {
      "cell_type": "markdown",
      "metadata": {
        "id": "Dq2Sxb8jM99y"
      },
      "source": [
        "#### Run the job"
      ]
    },
    {
      "cell_type": "code",
      "metadata": {
        "colab": {
          "base_uri": "https://localhost:8080/"
        },
        "id": "a9OAJAnkHiBX",
        "outputId": "c9953d75-87bf-41af-8deb-4a590b817463"
      },
      "source": [
        "# Start the client - Chon\n",
        "# comprehend = boto3.client('comprehend')\n",
        "\n",
        "comprehend = boto3.client(service_name='comprehend', \n",
        "                          region_name='us-west-2',\n",
        "                          aws_access_key_id=os.environ[\"AWS_ACCESS_KEY_ID\"],\n",
        "                          aws_secret_access_key=os.environ[\"AWS_SECRET_ACCESS_KEY\"] )\n",
        "\n",
        "\n",
        "# Begin a job to detect the topics in the document collection\n",
        "start_job_sentiment = comprehend.start_sentiment_detection_job(\n",
        "    InputDataConfig=input_data_config,\n",
        "    OutputDataConfig=output_data_config,\n",
        "    DataAccessRoleArn=data_access_role_arn,\n",
        "    LanguageCode='en',\n",
        "    JobName='Youtube_COVID_Comments')\n",
        "job_id = start_job_sentiment['JobId']\n",
        "print(f'Your Sentiment Detection JobID is: {job_id}')"
      ],
      "execution_count": 198,
      "outputs": [
        {
          "output_type": "stream",
          "name": "stdout",
          "text": [
            "Your Sentiment Detection JobID is: ebc61c789206585360b1e2f6bc4d8a66\n"
          ]
        }
      ]
    },
    {
      "cell_type": "markdown",
      "metadata": {
        "id": "8l4SPtovM99z"
      },
      "source": [
        "Your job runs asynchronously. **This may take several minutes to run.**\n",
        "When the status turns to COMPLETED, you can retrieve the results."
      ]
    },
    {
      "cell_type": "code",
      "metadata": {
        "colab": {
          "base_uri": "https://localhost:8080/"
        },
        "id": "0MSNSzSsIC4Y",
        "outputId": "a0694708-ee1b-4bbe-acdb-c7f21479ebac"
      },
      "source": [
        "# Retrieve information about the job - the job may take a while to run - Chon\n",
        "describe_result = comprehend.describe_sentiment_detection_job(JobId=job_id)\n",
        "job_status = describe_result['SentimentDetectionJobProperties']['JobStatus']\n",
        "print(f'Job Status: {job_status}')\n",
        "if job_status == 'FAILED':\n",
        "    print(f'Reason: {describe_result[\"SentimentDetectionJobProperties\"][\"Message\"]}')"
      ],
      "execution_count": 202,
      "outputs": [
        {
          "output_type": "stream",
          "name": "stdout",
          "text": [
            "Job Status: COMPLETED\n"
          ]
        }
      ]
    },
    {
      "cell_type": "code",
      "source": [
        "# Use job_id from previous run\n",
        "# job_id = 'b841dd42927179a57826e4fbbf6abca0'"
      ],
      "metadata": {
        "id": "H6mNOYvUTiNO"
      },
      "execution_count": null,
      "outputs": []
    },
    {
      "cell_type": "markdown",
      "metadata": {
        "id": "kG1V7Z93M990"
      },
      "source": [
        "#### Download the Results"
      ]
    },
    {
      "cell_type": "code",
      "metadata": {
        "colab": {
          "base_uri": "https://localhost:8080/",
          "height": 35
        },
        "id": "enqbUTgd9HKd",
        "outputId": "4187f815-0e8a-4390-802a-16af1d035aaa"
      },
      "source": [
        "#  The results are located here\n",
        "results_S3Url = comprehend.describe_sentiment_detection_job(\n",
        "    JobId=job_id)['SentimentDetectionJobProperties']['OutputDataConfig']['S3Uri']\n",
        "\n",
        "# Your Output S3 Url\n",
        "results_S3Url"
      ],
      "execution_count": 203,
      "outputs": [
        {
          "output_type": "execute_result",
          "data": {
            "application/vnd.google.colaboratory.intrinsic+json": {
              "type": "string"
            },
            "text/plain": [
              "'s3://chon-hkdl-private/results_17Dec_API_Reduce2/286289698935-SENTIMENT-ebc61c789206585360b1e2f6bc4d8a66/output/output.tar.gz'"
            ]
          },
          "metadata": {},
          "execution_count": 203
        }
      ]
    },
    {
      "cell_type": "markdown",
      "metadata": {
        "id": "RxTS1sf0M990"
      },
      "source": [
        "If you don't know where your results are, get a listing of your bucket"
      ]
    },
    {
      "cell_type": "code",
      "metadata": {
        "id": "pfQAzmUsM990"
      },
      "source": [
        "# List all files and folders in the bucket\n",
        "def s3_bucket_list_obj(bucket):\n",
        "    s3 = boto3.resource('s3')\n",
        "    bucket = s3.Bucket(bucket)\n",
        "    for obj in bucket.objects.all():\n",
        "        print(obj.key)"
      ],
      "execution_count": 204,
      "outputs": []
    },
    {
      "cell_type": "code",
      "metadata": {
        "colab": {
          "base_uri": "https://localhost:8080/"
        },
        "id": "dLYpaRbB9RFe",
        "outputId": "15d77048-7c2d-4be8-97e8-5564214de9ba"
      },
      "source": [
        "# List all files\n",
        "s3_bucket_list_obj(bucket_name)"
      ],
      "execution_count": 205,
      "outputs": [
        {
          "output_type": "stream",
          "name": "stdout",
          "text": [
            "input-data-17Dec/scrapped_youtube_covid_comments.csv\n",
            "input-data-17Dec/scrapped_youtube_covid_comments_only.csv\n",
            "input-data-17Dec/scrapped_youtube_covid_comments_only2.csv\n",
            "input-data-17Dec/scrapped_youtube_covid_comments_v2.csv\n",
            "input-data-17Dec/youtube_covid_comments_API.csv\n",
            "input-data-17Dec/youtube_covid_comments_API_Reduce.csv\n",
            "input-data-17Dec/youtube_covid_comments_API_Reduce2.csv\n",
            "results_17Dec_API/.write_access_check_file.temp\n",
            "results_17Dec_API/286289698935-SENTIMENT-902708c2479797f790d86feaad7eece4/output/output.tar.gz\n",
            "results_17Dec_API_Reduce/.write_access_check_file.temp\n",
            "results_17Dec_API_Reduce/286289698935-SENTIMENT-5b1d4e714cab1a3878e97462cf40ed01/output/output.tar.gz\n",
            "results_17Dec_API_Reduce2/.write_access_check_file.temp\n",
            "results_17Dec_API_Reduce2/286289698935-SENTIMENT-ebc61c789206585360b1e2f6bc4d8a66/output/output.tar.gz\n",
            "results_17Dec_v3/.write_access_check_file.temp\n",
            "results_17Dec_v3/286289698935-SENTIMENT-1e37037b05665f38ed3f7b873414f0f1/output/output.tar.gz\n",
            "results_17Dec_v4/.write_access_check_file.temp\n",
            "results_17Dec_v4/286289698935-SENTIMENT-34b2e20874fa47d335a407df24662f03/output/output.tar.gz\n",
            "results_17Dec_v5/.write_access_check_file.temp\n",
            "results_17Dec_v5/286289698935-SENTIMENT-5cba097c08e856531d9b75144c8867d2/output/output.tar.gz\n",
            "results_17Dec_v6/.write_access_check_file.temp\n",
            "results_17Dec_v6/286289698935-SENTIMENT-b841dd42927179a57826e4fbbf6abca0/output/output.tar.gz\n"
          ]
        }
      ]
    },
    {
      "cell_type": "markdown",
      "metadata": {
        "id": "JdnkZ2g2M990"
      },
      "source": [
        "Download the results, which in our case, to Colab"
      ]
    },
    {
      "cell_type": "code",
      "metadata": {
        "id": "ORBJ6CS2M991"
      },
      "source": [
        "# Give your local results file a name; after download, there should be a file called \"sentiment.tar.gz\" in Colab\n",
        "results_name = 'sentiment'\n",
        "\n",
        "# local_results_filename = 'Comprehend/outputs/' + results_name + '.tar.gz'\n",
        "local_results_filename = results_name + '.tar.gz'\n",
        "\n",
        "s3_name = 's3://' + bucket_name + '/'\n",
        "results_aws_filename = results_S3Url.replace(s3_name, '')\n",
        "\n",
        "# Download results\n",
        "s3 = boto3.client('s3')\n",
        "s3.download_file(bucket_name,\n",
        "                 results_aws_filename, \n",
        "                 local_results_filename)"
      ],
      "execution_count": 206,
      "outputs": []
    },
    {
      "cell_type": "code",
      "metadata": {
        "colab": {
          "base_uri": "https://localhost:8080/"
        },
        "id": "-RwZXk0y9xiD",
        "outputId": "08d138fa-1641-4b09-83d1-88930b219d31"
      },
      "source": [
        "print(results_S3Url)"
      ],
      "execution_count": 207,
      "outputs": [
        {
          "output_type": "stream",
          "name": "stdout",
          "text": [
            "s3://chon-hkdl-private/results_17Dec_API_Reduce2/286289698935-SENTIMENT-ebc61c789206585360b1e2f6bc4d8a66/output/output.tar.gz\n"
          ]
        }
      ]
    },
    {
      "cell_type": "code",
      "source": [
        "print(results_aws_filename)"
      ],
      "metadata": {
        "colab": {
          "base_uri": "https://localhost:8080/"
        },
        "id": "Jt36qWxyrn3D",
        "outputId": "74b44b29-a954-4f76-b4ac-f8f232a6f7cf"
      },
      "execution_count": 208,
      "outputs": [
        {
          "output_type": "stream",
          "name": "stdout",
          "text": [
            "results_17Dec_API_Reduce2/286289698935-SENTIMENT-ebc61c789206585360b1e2f6bc4d8a66/output/output.tar.gz\n"
          ]
        }
      ]
    },
    {
      "cell_type": "markdown",
      "metadata": {
        "id": "l1lQshOhM991"
      },
      "source": [
        "#### Process the results"
      ]
    },
    {
      "cell_type": "code",
      "metadata": {
        "id": "cxd7m0uaM991"
      },
      "source": [
        "# Unzip the file \n",
        "# Output filename would just be 'output' without filename extension\n",
        "def extract_targz(targz_file, output_path = ''):\n",
        "    if targz_file.endswith(\"tar.gz\"):\n",
        "        tar = tarfile.open(targz_file, \"r:gz\")\n",
        "        tar.extractall(path = output_path)\n",
        "        tar.close()\n",
        "    elif targz_file.endswith(\"tar\"):\n",
        "        tar = tarfile.open(targz_file, \"r:\")\n",
        "        tar.extractall(path = output_path)\n",
        "        tar.close()"
      ],
      "execution_count": 209,
      "outputs": []
    },
    {
      "cell_type": "code",
      "metadata": {
        "id": "bV5ITAb2M991"
      },
      "source": [
        "# creates a temp file is called 'output'\n",
        "results_name = 'sentiment'\n",
        "# local_results_filename = 'Comprehend/outputs/' + results_name + '.tar.gz'\n",
        "local_results_filename =  results_name + '.tar.gz'\n",
        "\n",
        "output_path = 'Comprehend/outputs/extracted'  #subfolders Comprehend/outputs/extracted will be created in Colab in our case\n",
        "# output_path = 'Comprehend/outputs/extracted_2'\n",
        "extract_targz(local_results_filename, output_path)"
      ],
      "execution_count": 210,
      "outputs": []
    },
    {
      "cell_type": "markdown",
      "metadata": {
        "id": "Ddke16nUM991"
      },
      "source": [
        "Read the results"
      ]
    },
    {
      "cell_type": "code",
      "metadata": {
        "colab": {
          "base_uri": "https://localhost:8080/"
        },
        "id": "iP3hCrvYM991",
        "outputId": "ba21a0f9-e62b-4901-eaeb-dad142a4c316"
      },
      "source": [
        "# Read JSON into a list of dictionary   \n",
        "input_file = output_path + '/output'\n",
        "results = [json.loads(line) for line in open(input_file, 'r')]\n",
        "print('Number of records in the output:',len(results))"
      ],
      "execution_count": 211,
      "outputs": [
        {
          "output_type": "stream",
          "name": "stdout",
          "text": [
            "Number of records in the output: 300788\n"
          ]
        }
      ]
    },
    {
      "cell_type": "code",
      "source": [
        "df_keep.count()"
      ],
      "metadata": {
        "colab": {
          "base_uri": "https://localhost:8080/"
        },
        "id": "1USTmwgwsFCu",
        "outputId": "c09b5843-905f-4732-9cd9-da818d45b67f"
      },
      "execution_count": 212,
      "outputs": [
        {
          "output_type": "execute_result",
          "data": {
            "text/plain": [
              "index               300788\n",
              "Youtube Comments    300788\n",
              "Video ID            300788\n",
              "language            300788\n",
              "col length          300788\n",
              "dtype: int64"
            ]
          },
          "metadata": {},
          "execution_count": 212
        }
      ]
    },
    {
      "cell_type": "code",
      "source": [
        "df_keep.head()"
      ],
      "metadata": {
        "colab": {
          "base_uri": "https://localhost:8080/",
          "height": 282
        },
        "id": "lfMjGCzHUVl-",
        "outputId": "51dfa18d-a5a3-4c0e-d079-d66b84b9c14d"
      },
      "execution_count": 213,
      "outputs": [
        {
          "output_type": "execute_result",
          "data": {
            "text/html": [
              "\n",
              "  <div id=\"df-7965739d-3600-47a6-b24b-414eef964b3b\">\n",
              "    <div class=\"colab-df-container\">\n",
              "      <div>\n",
              "<style scoped>\n",
              "    .dataframe tbody tr th:only-of-type {\n",
              "        vertical-align: middle;\n",
              "    }\n",
              "\n",
              "    .dataframe tbody tr th {\n",
              "        vertical-align: top;\n",
              "    }\n",
              "\n",
              "    .dataframe thead th {\n",
              "        text-align: right;\n",
              "    }\n",
              "</style>\n",
              "<table border=\"1\" class=\"dataframe\">\n",
              "  <thead>\n",
              "    <tr style=\"text-align: right;\">\n",
              "      <th></th>\n",
              "      <th>index</th>\n",
              "      <th>Youtube Comments</th>\n",
              "      <th>Video ID</th>\n",
              "      <th>language</th>\n",
              "      <th>col length</th>\n",
              "    </tr>\n",
              "  </thead>\n",
              "  <tbody>\n",
              "    <tr>\n",
              "      <th>0</th>\n",
              "      <td>0</td>\n",
              "      <td>who cares, the next variant decepticon is the one to worry about</td>\n",
              "      <td>ih4xVzLQP24</td>\n",
              "      <td>True</td>\n",
              "      <td>64</td>\n",
              "    </tr>\n",
              "    <tr>\n",
              "      <th>1</th>\n",
              "      <td>1</td>\n",
              "      <td>Worldwide...except for Africa.</td>\n",
              "      <td>ih4xVzLQP24</td>\n",
              "      <td>True</td>\n",
              "      <td>30</td>\n",
              "    </tr>\n",
              "    <tr>\n",
              "      <th>2</th>\n",
              "      <td>2</td>\n",
              "      <td>Once one case is found, the genie :man_genie: is out of the bottle, spreading like a wild fire. USA should get ready to give boosters nor when Mr micron comes, and spreads people are ready.</td>\n",
              "      <td>ih4xVzLQP24</td>\n",
              "      <td>True</td>\n",
              "      <td>189</td>\n",
              "    </tr>\n",
              "    <tr>\n",
              "      <th>3</th>\n",
              "      <td>3</td>\n",
              "      <td>Imagine believing this bs</td>\n",
              "      <td>ih4xVzLQP24</td>\n",
              "      <td>True</td>\n",
              "      <td>25</td>\n",
              "    </tr>\n",
              "    <tr>\n",
              "      <th>4</th>\n",
              "      <td>5</td>\n",
              "      <td>MURDER OF CHILDREN U R Criminal</td>\n",
              "      <td>ih4xVzLQP24</td>\n",
              "      <td>True</td>\n",
              "      <td>31</td>\n",
              "    </tr>\n",
              "  </tbody>\n",
              "</table>\n",
              "</div>\n",
              "      <button class=\"colab-df-convert\" onclick=\"convertToInteractive('df-7965739d-3600-47a6-b24b-414eef964b3b')\"\n",
              "              title=\"Convert this dataframe to an interactive table.\"\n",
              "              style=\"display:none;\">\n",
              "        \n",
              "  <svg xmlns=\"http://www.w3.org/2000/svg\" height=\"24px\"viewBox=\"0 0 24 24\"\n",
              "       width=\"24px\">\n",
              "    <path d=\"M0 0h24v24H0V0z\" fill=\"none\"/>\n",
              "    <path d=\"M18.56 5.44l.94 2.06.94-2.06 2.06-.94-2.06-.94-.94-2.06-.94 2.06-2.06.94zm-11 1L8.5 8.5l.94-2.06 2.06-.94-2.06-.94L8.5 2.5l-.94 2.06-2.06.94zm10 10l.94 2.06.94-2.06 2.06-.94-2.06-.94-.94-2.06-.94 2.06-2.06.94z\"/><path d=\"M17.41 7.96l-1.37-1.37c-.4-.4-.92-.59-1.43-.59-.52 0-1.04.2-1.43.59L10.3 9.45l-7.72 7.72c-.78.78-.78 2.05 0 2.83L4 21.41c.39.39.9.59 1.41.59.51 0 1.02-.2 1.41-.59l7.78-7.78 2.81-2.81c.8-.78.8-2.07 0-2.86zM5.41 20L4 18.59l7.72-7.72 1.47 1.35L5.41 20z\"/>\n",
              "  </svg>\n",
              "      </button>\n",
              "      \n",
              "  <style>\n",
              "    .colab-df-container {\n",
              "      display:flex;\n",
              "      flex-wrap:wrap;\n",
              "      gap: 12px;\n",
              "    }\n",
              "\n",
              "    .colab-df-convert {\n",
              "      background-color: #E8F0FE;\n",
              "      border: none;\n",
              "      border-radius: 50%;\n",
              "      cursor: pointer;\n",
              "      display: none;\n",
              "      fill: #1967D2;\n",
              "      height: 32px;\n",
              "      padding: 0 0 0 0;\n",
              "      width: 32px;\n",
              "    }\n",
              "\n",
              "    .colab-df-convert:hover {\n",
              "      background-color: #E2EBFA;\n",
              "      box-shadow: 0px 1px 2px rgba(60, 64, 67, 0.3), 0px 1px 3px 1px rgba(60, 64, 67, 0.15);\n",
              "      fill: #174EA6;\n",
              "    }\n",
              "\n",
              "    [theme=dark] .colab-df-convert {\n",
              "      background-color: #3B4455;\n",
              "      fill: #D2E3FC;\n",
              "    }\n",
              "\n",
              "    [theme=dark] .colab-df-convert:hover {\n",
              "      background-color: #434B5C;\n",
              "      box-shadow: 0px 1px 3px 1px rgba(0, 0, 0, 0.15);\n",
              "      filter: drop-shadow(0px 1px 2px rgba(0, 0, 0, 0.3));\n",
              "      fill: #FFFFFF;\n",
              "    }\n",
              "  </style>\n",
              "\n",
              "      <script>\n",
              "        const buttonEl =\n",
              "          document.querySelector('#df-7965739d-3600-47a6-b24b-414eef964b3b button.colab-df-convert');\n",
              "        buttonEl.style.display =\n",
              "          google.colab.kernel.accessAllowed ? 'block' : 'none';\n",
              "\n",
              "        async function convertToInteractive(key) {\n",
              "          const element = document.querySelector('#df-7965739d-3600-47a6-b24b-414eef964b3b');\n",
              "          const dataTable =\n",
              "            await google.colab.kernel.invokeFunction('convertToInteractive',\n",
              "                                                     [key], {});\n",
              "          if (!dataTable) return;\n",
              "\n",
              "          const docLinkHtml = 'Like what you see? Visit the ' +\n",
              "            '<a target=\"_blank\" href=https://colab.research.google.com/notebooks/data_table.ipynb>data table notebook</a>'\n",
              "            + ' to learn more about interactive tables.';\n",
              "          element.innerHTML = '';\n",
              "          dataTable['output_type'] = 'display_data';\n",
              "          await google.colab.output.renderOutput(dataTable, element);\n",
              "          const docLink = document.createElement('div');\n",
              "          docLink.innerHTML = docLinkHtml;\n",
              "          element.appendChild(docLink);\n",
              "        }\n",
              "      </script>\n",
              "    </div>\n",
              "  </div>\n",
              "  "
            ],
            "text/plain": [
              "   index  ... col length\n",
              "0      0  ...         64\n",
              "1      1  ...         30\n",
              "2      2  ...        189\n",
              "3      3  ...         25\n",
              "4      5  ...         31\n",
              "\n",
              "[5 rows x 5 columns]"
            ]
          },
          "metadata": {},
          "execution_count": 213
        }
      ]
    },
    {
      "cell_type": "code",
      "source": [
        "type(results)"
      ],
      "metadata": {
        "colab": {
          "base_uri": "https://localhost:8080/"
        },
        "id": "9DOvHmBUtQFv",
        "outputId": "4f311b26-37d8-4880-e9ab-f817858fea30"
      },
      "execution_count": null,
      "outputs": [
        {
          "output_type": "execute_result",
          "data": {
            "text/plain": [
              "list"
            ]
          },
          "metadata": {},
          "execution_count": 270
        }
      ]
    },
    {
      "cell_type": "code",
      "source": [
        "type(results[50])"
      ],
      "metadata": {
        "colab": {
          "base_uri": "https://localhost:8080/"
        },
        "id": "XDubnsM6tZCn",
        "outputId": "e19d30bb-396f-4584-88e0-ba0caa35ec3a"
      },
      "execution_count": 214,
      "outputs": [
        {
          "output_type": "execute_result",
          "data": {
            "text/plain": [
              "dict"
            ]
          },
          "metadata": {},
          "execution_count": 214
        }
      ]
    },
    {
      "cell_type": "code",
      "source": [
        "for i in range(10):\n",
        "  print(results[i])"
      ],
      "metadata": {
        "colab": {
          "base_uri": "https://localhost:8080/"
        },
        "id": "eagkPOwUW_zk",
        "outputId": "2e28f18f-1bf5-442e-8111-6cd4e4c09dcc"
      },
      "execution_count": 215,
      "outputs": [
        {
          "output_type": "stream",
          "name": "stdout",
          "text": [
            "{'File': 'youtube_covid_comments_API_Reduce2.csv', 'Line': 19, 'Sentiment': 'NEGATIVE', 'SentimentScore': {'Mixed': 0.029740747064352036, 'Negative': 0.8898026347160339, 'Neutral': 0.06337551772594452, 'Positive': 0.017081137746572495}}\n",
            "{'File': 'youtube_covid_comments_API_Reduce2.csv', 'Line': 24, 'Sentiment': 'NEUTRAL', 'SentimentScore': {'Mixed': 0.00010938546620309353, 'Negative': 0.007695939391851425, 'Neutral': 0.604817807674408, 'Positive': 0.3873768746852875}}\n",
            "{'File': 'youtube_covid_comments_API_Reduce2.csv', 'Line': 34, 'Sentiment': 'NEGATIVE', 'SentimentScore': {'Mixed': 0.002350031631067395, 'Negative': 0.9620447754859924, 'Neutral': 0.034598007798194885, 'Positive': 0.0010071989381685853}}\n",
            "{'File': 'youtube_covid_comments_API_Reduce2.csv', 'Line': 95, 'Sentiment': 'NEGATIVE', 'SentimentScore': {'Mixed': 0.09422224014997482, 'Negative': 0.6465549468994141, 'Neutral': 0.13619950413703918, 'Positive': 0.12302330881357193}}\n",
            "{'File': 'youtube_covid_comments_API_Reduce2.csv', 'Line': 114, 'Sentiment': 'NEUTRAL', 'SentimentScore': {'Mixed': 0.0386069156229496, 'Negative': 0.1472705751657486, 'Neutral': 0.6833294034004211, 'Positive': 0.13079307973384857}}\n",
            "{'File': 'youtube_covid_comments_API_Reduce2.csv', 'Line': 138, 'Sentiment': 'POSITIVE', 'SentimentScore': {'Mixed': 6.061912790755741e-05, 'Negative': 0.0012665188405662775, 'Neutral': 0.315829336643219, 'Positive': 0.6828435659408569}}\n",
            "{'File': 'youtube_covid_comments_API_Reduce2.csv', 'Line': 177, 'Sentiment': 'NEGATIVE', 'SentimentScore': {'Mixed': 0.15007798373699188, 'Negative': 0.6327062845230103, 'Neutral': 0.17808498442173004, 'Positive': 0.03913074731826782}}\n",
            "{'File': 'youtube_covid_comments_API_Reduce2.csv', 'Line': 189, 'Sentiment': 'NEGATIVE', 'SentimentScore': {'Mixed': 0.010673384182155132, 'Negative': 0.9725292921066284, 'Neutral': 0.01227052416652441, 'Positive': 0.0045267632231116295}}\n",
            "{'File': 'youtube_covid_comments_API_Reduce2.csv', 'Line': 213, 'Sentiment': 'NEUTRAL', 'SentimentScore': {'Mixed': 0.0005995712708681822, 'Negative': 0.0003526780637912452, 'Neutral': 0.9978927969932556, 'Positive': 0.0011550378985702991}}\n",
            "{'File': 'youtube_covid_comments_API_Reduce2.csv', 'Line': 224, 'Sentiment': 'NEUTRAL', 'SentimentScore': {'Mixed': 0.0010586136486381292, 'Negative': 0.37315258383750916, 'Neutral': 0.6133781671524048, 'Positive': 0.012410555966198444}}\n"
          ]
        }
      ]
    },
    {
      "cell_type": "code",
      "source": [
        "len(results)"
      ],
      "metadata": {
        "colab": {
          "base_uri": "https://localhost:8080/"
        },
        "id": "wUkEYjvptVkt",
        "outputId": "fdcb59f7-8740-49be-c2dd-c92ffa2ac3b7"
      },
      "execution_count": 216,
      "outputs": [
        {
          "output_type": "execute_result",
          "data": {
            "text/plain": [
              "300788"
            ]
          },
          "metadata": {},
          "execution_count": 216
        }
      ]
    },
    {
      "cell_type": "markdown",
      "metadata": {
        "id": "kUOtY6xkM992"
      },
      "source": [
        "This is how the output looks like. Note that often the records are not in the same order that they were sent in."
      ]
    },
    {
      "cell_type": "code",
      "metadata": {
        "colab": {
          "base_uri": "https://localhost:8080/"
        },
        "id": "af0pa1WmM992",
        "outputId": "b6f6d25a-91dd-45ae-ad25-d36e92984d43"
      },
      "source": [
        "results[15]"
      ],
      "execution_count": 217,
      "outputs": [
        {
          "output_type": "execute_result",
          "data": {
            "text/plain": [
              "{'File': 'youtube_covid_comments_API_Reduce2.csv',\n",
              " 'Line': 313,\n",
              " 'Sentiment': 'NEUTRAL',\n",
              " 'SentimentScore': {'Mixed': 0.006215641740709543,\n",
              "  'Negative': 0.046397801488637924,\n",
              "  'Neutral': 0.6757979393005371,\n",
              "  'Positive': 0.27158865332603455}}"
            ]
          },
          "metadata": {},
          "execution_count": 217
        }
      ]
    },
    {
      "cell_type": "code",
      "metadata": {
        "id": "NBWuEcdSM992"
      },
      "source": [
        "# This function parses sentiment data into a dataframe\n",
        "# def parse_sentiment(data):\n",
        "#     df = pd.DataFrame([item['SentimentScore'] for item in data])\n",
        "#     df['File'] = [item.get('File') for item in data]\n",
        "#     df['Sentiment'] = [item.get('Sentiment') for item in data]\n",
        "#     df['Line'] = [item.get('Line') for item in data]\n",
        "#     df.set_index('Line', inplace = True)\n",
        "    \n",
        "#     return(df)"
      ],
      "execution_count": 103,
      "outputs": []
    },
    {
      "cell_type": "code",
      "source": [
        "def parse_sentiment(data):\n",
        "    df = pd.DataFrame([item['SentimentScore'] for item in data])\n",
        "    df['File'] = [item.get('File') for item in data]\n",
        "    df['Sentiment'] = [item.get('Sentiment') for item in data]\n",
        "    df['Line'] = [item.get('Line') for item in data]\n",
        "    df.set_index('Line', inplace = True)\n",
        "    \n",
        "    column_names = [ 'Positive', 'Negative', 'Neutral', 'Mixed', 'Sentiment', 'File' ]\n",
        "    df = df.reindex(columns=column_names)\n",
        "\n",
        "    return(df)"
      ],
      "metadata": {
        "id": "GyXIv_Vu8lnJ"
      },
      "execution_count": 226,
      "outputs": []
    },
    {
      "cell_type": "code",
      "source": [
        "# results11 = results[0:100000]\n",
        "# results11"
      ],
      "metadata": {
        "id": "8AS2mVQuuJH6"
      },
      "execution_count": 236,
      "outputs": []
    },
    {
      "cell_type": "code",
      "metadata": {
        "id": "P-bFRoH-M992"
      },
      "source": [
        "# convert Results into Dataframe\n",
        "# Let's sort and index the dataframe by line\n",
        "\n",
        "sentiment_results = parse_sentiment(results).sort_index()\n",
        "\n",
        "# sentiment_results = parse_sentiment(results)"
      ],
      "execution_count": 235,
      "outputs": []
    },
    {
      "cell_type": "code",
      "source": [
        "sentiment_results.count()"
      ],
      "metadata": {
        "colab": {
          "base_uri": "https://localhost:8080/"
        },
        "id": "o7gpV6IUvDJ8",
        "outputId": "45dd430d-d3c2-418a-a580-776684f2901d"
      },
      "execution_count": 237,
      "outputs": [
        {
          "output_type": "execute_result",
          "data": {
            "text/plain": [
              "Positive     300788\n",
              "Negative     300788\n",
              "Neutral      300788\n",
              "Mixed        300788\n",
              "Sentiment    300788\n",
              "File         300788\n",
              "dtype: int64"
            ]
          },
          "metadata": {},
          "execution_count": 237
        }
      ]
    },
    {
      "cell_type": "code",
      "source": [
        "results[13]['SentimentScore']"
      ],
      "metadata": {
        "colab": {
          "base_uri": "https://localhost:8080/"
        },
        "id": "XOlnDz5xYS_l",
        "outputId": "943bfcbc-3b8c-469c-dcad-3b49ad0816d3"
      },
      "execution_count": 238,
      "outputs": [
        {
          "output_type": "execute_result",
          "data": {
            "text/plain": [
              "{'Mixed': 0.001598096452653408,\n",
              " 'Negative': 0.3506568670272827,\n",
              " 'Neutral': 0.6424354910850525,\n",
              " 'Positive': 0.005309497471898794}"
            ]
          },
          "metadata": {},
          "execution_count": 238
        }
      ]
    },
    {
      "cell_type": "code",
      "source": [
        "len(results)"
      ],
      "metadata": {
        "colab": {
          "base_uri": "https://localhost:8080/"
        },
        "id": "O_wmKTnqYPwL",
        "outputId": "2e2e6e52-67c0-4b1f-ce2b-5e8ee97e60c7"
      },
      "execution_count": 239,
      "outputs": [
        {
          "output_type": "execute_result",
          "data": {
            "text/plain": [
              "300788"
            ]
          },
          "metadata": {},
          "execution_count": 239
        }
      ]
    },
    {
      "cell_type": "code",
      "metadata": {
        "colab": {
          "base_uri": "https://localhost:8080/",
          "height": 266
        },
        "id": "3v3_2YnqM992",
        "outputId": "8c66b854-64db-4ce0-e507-5aaf903463ef"
      },
      "source": [
        "sentiment_results.head(6)"
      ],
      "execution_count": 240,
      "outputs": [
        {
          "output_type": "execute_result",
          "data": {
            "text/html": [
              "\n",
              "  <div id=\"df-2437be0f-1592-4471-bcfd-cdfb22556799\">\n",
              "    <div class=\"colab-df-container\">\n",
              "      <div>\n",
              "<style scoped>\n",
              "    .dataframe tbody tr th:only-of-type {\n",
              "        vertical-align: middle;\n",
              "    }\n",
              "\n",
              "    .dataframe tbody tr th {\n",
              "        vertical-align: top;\n",
              "    }\n",
              "\n",
              "    .dataframe thead th {\n",
              "        text-align: right;\n",
              "    }\n",
              "</style>\n",
              "<table border=\"1\" class=\"dataframe\">\n",
              "  <thead>\n",
              "    <tr style=\"text-align: right;\">\n",
              "      <th></th>\n",
              "      <th>Positive</th>\n",
              "      <th>Negative</th>\n",
              "      <th>Neutral</th>\n",
              "      <th>Mixed</th>\n",
              "      <th>Sentiment</th>\n",
              "      <th>File</th>\n",
              "    </tr>\n",
              "    <tr>\n",
              "      <th>Line</th>\n",
              "      <th></th>\n",
              "      <th></th>\n",
              "      <th></th>\n",
              "      <th></th>\n",
              "      <th></th>\n",
              "      <th></th>\n",
              "    </tr>\n",
              "  </thead>\n",
              "  <tbody>\n",
              "    <tr>\n",
              "      <th>0</th>\n",
              "      <td>0.027947</td>\n",
              "      <td>0.242229</td>\n",
              "      <td>0.250361</td>\n",
              "      <td>0.479462</td>\n",
              "      <td>MIXED</td>\n",
              "      <td>youtube_covid_comments_API_Reduce2.csv</td>\n",
              "    </tr>\n",
              "    <tr>\n",
              "      <th>1</th>\n",
              "      <td>0.406074</td>\n",
              "      <td>0.007731</td>\n",
              "      <td>0.411966</td>\n",
              "      <td>0.174229</td>\n",
              "      <td>NEUTRAL</td>\n",
              "      <td>youtube_covid_comments_API_Reduce2.csv</td>\n",
              "    </tr>\n",
              "    <tr>\n",
              "      <th>2</th>\n",
              "      <td>0.044569</td>\n",
              "      <td>0.767004</td>\n",
              "      <td>0.156650</td>\n",
              "      <td>0.031776</td>\n",
              "      <td>NEGATIVE</td>\n",
              "      <td>youtube_covid_comments_API_Reduce2.csv</td>\n",
              "    </tr>\n",
              "    <tr>\n",
              "      <th>3</th>\n",
              "      <td>0.052852</td>\n",
              "      <td>0.892676</td>\n",
              "      <td>0.031733</td>\n",
              "      <td>0.022739</td>\n",
              "      <td>NEGATIVE</td>\n",
              "      <td>youtube_covid_comments_API_Reduce2.csv</td>\n",
              "    </tr>\n",
              "    <tr>\n",
              "      <th>4</th>\n",
              "      <td>0.000502</td>\n",
              "      <td>0.960271</td>\n",
              "      <td>0.039221</td>\n",
              "      <td>0.000007</td>\n",
              "      <td>NEGATIVE</td>\n",
              "      <td>youtube_covid_comments_API_Reduce2.csv</td>\n",
              "    </tr>\n",
              "    <tr>\n",
              "      <th>5</th>\n",
              "      <td>0.463395</td>\n",
              "      <td>0.193818</td>\n",
              "      <td>0.338042</td>\n",
              "      <td>0.004745</td>\n",
              "      <td>POSITIVE</td>\n",
              "      <td>youtube_covid_comments_API_Reduce2.csv</td>\n",
              "    </tr>\n",
              "  </tbody>\n",
              "</table>\n",
              "</div>\n",
              "      <button class=\"colab-df-convert\" onclick=\"convertToInteractive('df-2437be0f-1592-4471-bcfd-cdfb22556799')\"\n",
              "              title=\"Convert this dataframe to an interactive table.\"\n",
              "              style=\"display:none;\">\n",
              "        \n",
              "  <svg xmlns=\"http://www.w3.org/2000/svg\" height=\"24px\"viewBox=\"0 0 24 24\"\n",
              "       width=\"24px\">\n",
              "    <path d=\"M0 0h24v24H0V0z\" fill=\"none\"/>\n",
              "    <path d=\"M18.56 5.44l.94 2.06.94-2.06 2.06-.94-2.06-.94-.94-2.06-.94 2.06-2.06.94zm-11 1L8.5 8.5l.94-2.06 2.06-.94-2.06-.94L8.5 2.5l-.94 2.06-2.06.94zm10 10l.94 2.06.94-2.06 2.06-.94-2.06-.94-.94-2.06-.94 2.06-2.06.94z\"/><path d=\"M17.41 7.96l-1.37-1.37c-.4-.4-.92-.59-1.43-.59-.52 0-1.04.2-1.43.59L10.3 9.45l-7.72 7.72c-.78.78-.78 2.05 0 2.83L4 21.41c.39.39.9.59 1.41.59.51 0 1.02-.2 1.41-.59l7.78-7.78 2.81-2.81c.8-.78.8-2.07 0-2.86zM5.41 20L4 18.59l7.72-7.72 1.47 1.35L5.41 20z\"/>\n",
              "  </svg>\n",
              "      </button>\n",
              "      \n",
              "  <style>\n",
              "    .colab-df-container {\n",
              "      display:flex;\n",
              "      flex-wrap:wrap;\n",
              "      gap: 12px;\n",
              "    }\n",
              "\n",
              "    .colab-df-convert {\n",
              "      background-color: #E8F0FE;\n",
              "      border: none;\n",
              "      border-radius: 50%;\n",
              "      cursor: pointer;\n",
              "      display: none;\n",
              "      fill: #1967D2;\n",
              "      height: 32px;\n",
              "      padding: 0 0 0 0;\n",
              "      width: 32px;\n",
              "    }\n",
              "\n",
              "    .colab-df-convert:hover {\n",
              "      background-color: #E2EBFA;\n",
              "      box-shadow: 0px 1px 2px rgba(60, 64, 67, 0.3), 0px 1px 3px 1px rgba(60, 64, 67, 0.15);\n",
              "      fill: #174EA6;\n",
              "    }\n",
              "\n",
              "    [theme=dark] .colab-df-convert {\n",
              "      background-color: #3B4455;\n",
              "      fill: #D2E3FC;\n",
              "    }\n",
              "\n",
              "    [theme=dark] .colab-df-convert:hover {\n",
              "      background-color: #434B5C;\n",
              "      box-shadow: 0px 1px 3px 1px rgba(0, 0, 0, 0.15);\n",
              "      filter: drop-shadow(0px 1px 2px rgba(0, 0, 0, 0.3));\n",
              "      fill: #FFFFFF;\n",
              "    }\n",
              "  </style>\n",
              "\n",
              "      <script>\n",
              "        const buttonEl =\n",
              "          document.querySelector('#df-2437be0f-1592-4471-bcfd-cdfb22556799 button.colab-df-convert');\n",
              "        buttonEl.style.display =\n",
              "          google.colab.kernel.accessAllowed ? 'block' : 'none';\n",
              "\n",
              "        async function convertToInteractive(key) {\n",
              "          const element = document.querySelector('#df-2437be0f-1592-4471-bcfd-cdfb22556799');\n",
              "          const dataTable =\n",
              "            await google.colab.kernel.invokeFunction('convertToInteractive',\n",
              "                                                     [key], {});\n",
              "          if (!dataTable) return;\n",
              "\n",
              "          const docLinkHtml = 'Like what you see? Visit the ' +\n",
              "            '<a target=\"_blank\" href=https://colab.research.google.com/notebooks/data_table.ipynb>data table notebook</a>'\n",
              "            + ' to learn more about interactive tables.';\n",
              "          element.innerHTML = '';\n",
              "          dataTable['output_type'] = 'display_data';\n",
              "          await google.colab.output.renderOutput(dataTable, element);\n",
              "          const docLink = document.createElement('div');\n",
              "          docLink.innerHTML = docLinkHtml;\n",
              "          element.appendChild(docLink);\n",
              "        }\n",
              "      </script>\n",
              "    </div>\n",
              "  </div>\n",
              "  "
            ],
            "text/plain": [
              "      Positive  Negative  ...  Sentiment                                    File\n",
              "Line                      ...                                                   \n",
              "0     0.027947  0.242229  ...      MIXED  youtube_covid_comments_API_Reduce2.csv\n",
              "1     0.406074  0.007731  ...    NEUTRAL  youtube_covid_comments_API_Reduce2.csv\n",
              "2     0.044569  0.767004  ...   NEGATIVE  youtube_covid_comments_API_Reduce2.csv\n",
              "3     0.052852  0.892676  ...   NEGATIVE  youtube_covid_comments_API_Reduce2.csv\n",
              "4     0.000502  0.960271  ...   NEGATIVE  youtube_covid_comments_API_Reduce2.csv\n",
              "5     0.463395  0.193818  ...   POSITIVE  youtube_covid_comments_API_Reduce2.csv\n",
              "\n",
              "[6 rows x 6 columns]"
            ]
          },
          "metadata": {},
          "execution_count": 240
        }
      ]
    },
    {
      "cell_type": "code",
      "metadata": {
        "colab": {
          "base_uri": "https://localhost:8080/",
          "height": 266
        },
        "id": "kkappY1uXEh3",
        "outputId": "68b764c0-72e1-41e5-f5c4-6bce3d2951e1"
      },
      "source": [
        "sentiment_results.iloc[500:506]"
      ],
      "execution_count": 241,
      "outputs": [
        {
          "output_type": "execute_result",
          "data": {
            "text/html": [
              "\n",
              "  <div id=\"df-3a719f9a-a3a6-4839-8bd5-308c9417f140\">\n",
              "    <div class=\"colab-df-container\">\n",
              "      <div>\n",
              "<style scoped>\n",
              "    .dataframe tbody tr th:only-of-type {\n",
              "        vertical-align: middle;\n",
              "    }\n",
              "\n",
              "    .dataframe tbody tr th {\n",
              "        vertical-align: top;\n",
              "    }\n",
              "\n",
              "    .dataframe thead th {\n",
              "        text-align: right;\n",
              "    }\n",
              "</style>\n",
              "<table border=\"1\" class=\"dataframe\">\n",
              "  <thead>\n",
              "    <tr style=\"text-align: right;\">\n",
              "      <th></th>\n",
              "      <th>Positive</th>\n",
              "      <th>Negative</th>\n",
              "      <th>Neutral</th>\n",
              "      <th>Mixed</th>\n",
              "      <th>Sentiment</th>\n",
              "      <th>File</th>\n",
              "    </tr>\n",
              "    <tr>\n",
              "      <th>Line</th>\n",
              "      <th></th>\n",
              "      <th></th>\n",
              "      <th></th>\n",
              "      <th></th>\n",
              "      <th></th>\n",
              "      <th></th>\n",
              "    </tr>\n",
              "  </thead>\n",
              "  <tbody>\n",
              "    <tr>\n",
              "      <th>500</th>\n",
              "      <td>0.033528</td>\n",
              "      <td>0.345453</td>\n",
              "      <td>0.015945</td>\n",
              "      <td>0.605073</td>\n",
              "      <td>MIXED</td>\n",
              "      <td>youtube_covid_comments_API_Reduce2.csv</td>\n",
              "    </tr>\n",
              "    <tr>\n",
              "      <th>501</th>\n",
              "      <td>0.006176</td>\n",
              "      <td>0.763245</td>\n",
              "      <td>0.208655</td>\n",
              "      <td>0.021924</td>\n",
              "      <td>NEGATIVE</td>\n",
              "      <td>youtube_covid_comments_API_Reduce2.csv</td>\n",
              "    </tr>\n",
              "    <tr>\n",
              "      <th>502</th>\n",
              "      <td>0.063253</td>\n",
              "      <td>0.304982</td>\n",
              "      <td>0.498689</td>\n",
              "      <td>0.133076</td>\n",
              "      <td>NEUTRAL</td>\n",
              "      <td>youtube_covid_comments_API_Reduce2.csv</td>\n",
              "    </tr>\n",
              "    <tr>\n",
              "      <th>503</th>\n",
              "      <td>0.000620</td>\n",
              "      <td>0.998048</td>\n",
              "      <td>0.000797</td>\n",
              "      <td>0.000535</td>\n",
              "      <td>NEGATIVE</td>\n",
              "      <td>youtube_covid_comments_API_Reduce2.csv</td>\n",
              "    </tr>\n",
              "    <tr>\n",
              "      <th>504</th>\n",
              "      <td>0.301271</td>\n",
              "      <td>0.168817</td>\n",
              "      <td>0.457929</td>\n",
              "      <td>0.071983</td>\n",
              "      <td>NEUTRAL</td>\n",
              "      <td>youtube_covid_comments_API_Reduce2.csv</td>\n",
              "    </tr>\n",
              "    <tr>\n",
              "      <th>505</th>\n",
              "      <td>0.000459</td>\n",
              "      <td>0.990528</td>\n",
              "      <td>0.008952</td>\n",
              "      <td>0.000062</td>\n",
              "      <td>NEGATIVE</td>\n",
              "      <td>youtube_covid_comments_API_Reduce2.csv</td>\n",
              "    </tr>\n",
              "  </tbody>\n",
              "</table>\n",
              "</div>\n",
              "      <button class=\"colab-df-convert\" onclick=\"convertToInteractive('df-3a719f9a-a3a6-4839-8bd5-308c9417f140')\"\n",
              "              title=\"Convert this dataframe to an interactive table.\"\n",
              "              style=\"display:none;\">\n",
              "        \n",
              "  <svg xmlns=\"http://www.w3.org/2000/svg\" height=\"24px\"viewBox=\"0 0 24 24\"\n",
              "       width=\"24px\">\n",
              "    <path d=\"M0 0h24v24H0V0z\" fill=\"none\"/>\n",
              "    <path d=\"M18.56 5.44l.94 2.06.94-2.06 2.06-.94-2.06-.94-.94-2.06-.94 2.06-2.06.94zm-11 1L8.5 8.5l.94-2.06 2.06-.94-2.06-.94L8.5 2.5l-.94 2.06-2.06.94zm10 10l.94 2.06.94-2.06 2.06-.94-2.06-.94-.94-2.06-.94 2.06-2.06.94z\"/><path d=\"M17.41 7.96l-1.37-1.37c-.4-.4-.92-.59-1.43-.59-.52 0-1.04.2-1.43.59L10.3 9.45l-7.72 7.72c-.78.78-.78 2.05 0 2.83L4 21.41c.39.39.9.59 1.41.59.51 0 1.02-.2 1.41-.59l7.78-7.78 2.81-2.81c.8-.78.8-2.07 0-2.86zM5.41 20L4 18.59l7.72-7.72 1.47 1.35L5.41 20z\"/>\n",
              "  </svg>\n",
              "      </button>\n",
              "      \n",
              "  <style>\n",
              "    .colab-df-container {\n",
              "      display:flex;\n",
              "      flex-wrap:wrap;\n",
              "      gap: 12px;\n",
              "    }\n",
              "\n",
              "    .colab-df-convert {\n",
              "      background-color: #E8F0FE;\n",
              "      border: none;\n",
              "      border-radius: 50%;\n",
              "      cursor: pointer;\n",
              "      display: none;\n",
              "      fill: #1967D2;\n",
              "      height: 32px;\n",
              "      padding: 0 0 0 0;\n",
              "      width: 32px;\n",
              "    }\n",
              "\n",
              "    .colab-df-convert:hover {\n",
              "      background-color: #E2EBFA;\n",
              "      box-shadow: 0px 1px 2px rgba(60, 64, 67, 0.3), 0px 1px 3px 1px rgba(60, 64, 67, 0.15);\n",
              "      fill: #174EA6;\n",
              "    }\n",
              "\n",
              "    [theme=dark] .colab-df-convert {\n",
              "      background-color: #3B4455;\n",
              "      fill: #D2E3FC;\n",
              "    }\n",
              "\n",
              "    [theme=dark] .colab-df-convert:hover {\n",
              "      background-color: #434B5C;\n",
              "      box-shadow: 0px 1px 3px 1px rgba(0, 0, 0, 0.15);\n",
              "      filter: drop-shadow(0px 1px 2px rgba(0, 0, 0, 0.3));\n",
              "      fill: #FFFFFF;\n",
              "    }\n",
              "  </style>\n",
              "\n",
              "      <script>\n",
              "        const buttonEl =\n",
              "          document.querySelector('#df-3a719f9a-a3a6-4839-8bd5-308c9417f140 button.colab-df-convert');\n",
              "        buttonEl.style.display =\n",
              "          google.colab.kernel.accessAllowed ? 'block' : 'none';\n",
              "\n",
              "        async function convertToInteractive(key) {\n",
              "          const element = document.querySelector('#df-3a719f9a-a3a6-4839-8bd5-308c9417f140');\n",
              "          const dataTable =\n",
              "            await google.colab.kernel.invokeFunction('convertToInteractive',\n",
              "                                                     [key], {});\n",
              "          if (!dataTable) return;\n",
              "\n",
              "          const docLinkHtml = 'Like what you see? Visit the ' +\n",
              "            '<a target=\"_blank\" href=https://colab.research.google.com/notebooks/data_table.ipynb>data table notebook</a>'\n",
              "            + ' to learn more about interactive tables.';\n",
              "          element.innerHTML = '';\n",
              "          dataTable['output_type'] = 'display_data';\n",
              "          await google.colab.output.renderOutput(dataTable, element);\n",
              "          const docLink = document.createElement('div');\n",
              "          docLink.innerHTML = docLinkHtml;\n",
              "          element.appendChild(docLink);\n",
              "        }\n",
              "      </script>\n",
              "    </div>\n",
              "  </div>\n",
              "  "
            ],
            "text/plain": [
              "      Positive  Negative  ...  Sentiment                                    File\n",
              "Line                      ...                                                   \n",
              "500   0.033528  0.345453  ...      MIXED  youtube_covid_comments_API_Reduce2.csv\n",
              "501   0.006176  0.763245  ...   NEGATIVE  youtube_covid_comments_API_Reduce2.csv\n",
              "502   0.063253  0.304982  ...    NEUTRAL  youtube_covid_comments_API_Reduce2.csv\n",
              "503   0.000620  0.998048  ...   NEGATIVE  youtube_covid_comments_API_Reduce2.csv\n",
              "504   0.301271  0.168817  ...    NEUTRAL  youtube_covid_comments_API_Reduce2.csv\n",
              "505   0.000459  0.990528  ...   NEGATIVE  youtube_covid_comments_API_Reduce2.csv\n",
              "\n",
              "[6 rows x 6 columns]"
            ]
          },
          "metadata": {},
          "execution_count": 241
        }
      ]
    },
    {
      "cell_type": "code",
      "source": [
        "df_keep.head()"
      ],
      "metadata": {
        "colab": {
          "base_uri": "https://localhost:8080/",
          "height": 282
        },
        "id": "qN6iSemt5ffi",
        "outputId": "ffa6d875-3cf4-40b9-ffc8-58794ffc9fb0"
      },
      "execution_count": 242,
      "outputs": [
        {
          "output_type": "execute_result",
          "data": {
            "text/html": [
              "\n",
              "  <div id=\"df-eaccc4df-063e-4a0d-9a67-d882250e3e92\">\n",
              "    <div class=\"colab-df-container\">\n",
              "      <div>\n",
              "<style scoped>\n",
              "    .dataframe tbody tr th:only-of-type {\n",
              "        vertical-align: middle;\n",
              "    }\n",
              "\n",
              "    .dataframe tbody tr th {\n",
              "        vertical-align: top;\n",
              "    }\n",
              "\n",
              "    .dataframe thead th {\n",
              "        text-align: right;\n",
              "    }\n",
              "</style>\n",
              "<table border=\"1\" class=\"dataframe\">\n",
              "  <thead>\n",
              "    <tr style=\"text-align: right;\">\n",
              "      <th></th>\n",
              "      <th>index</th>\n",
              "      <th>Youtube Comments</th>\n",
              "      <th>Video ID</th>\n",
              "      <th>language</th>\n",
              "      <th>col length</th>\n",
              "    </tr>\n",
              "  </thead>\n",
              "  <tbody>\n",
              "    <tr>\n",
              "      <th>0</th>\n",
              "      <td>0</td>\n",
              "      <td>who cares, the next variant decepticon is the one to worry about</td>\n",
              "      <td>ih4xVzLQP24</td>\n",
              "      <td>True</td>\n",
              "      <td>64</td>\n",
              "    </tr>\n",
              "    <tr>\n",
              "      <th>1</th>\n",
              "      <td>1</td>\n",
              "      <td>Worldwide...except for Africa.</td>\n",
              "      <td>ih4xVzLQP24</td>\n",
              "      <td>True</td>\n",
              "      <td>30</td>\n",
              "    </tr>\n",
              "    <tr>\n",
              "      <th>2</th>\n",
              "      <td>2</td>\n",
              "      <td>Once one case is found, the genie :man_genie: is out of the bottle, spreading like a wild fire. USA should get ready to give boosters nor when Mr micron comes, and spreads people are ready.</td>\n",
              "      <td>ih4xVzLQP24</td>\n",
              "      <td>True</td>\n",
              "      <td>189</td>\n",
              "    </tr>\n",
              "    <tr>\n",
              "      <th>3</th>\n",
              "      <td>3</td>\n",
              "      <td>Imagine believing this bs</td>\n",
              "      <td>ih4xVzLQP24</td>\n",
              "      <td>True</td>\n",
              "      <td>25</td>\n",
              "    </tr>\n",
              "    <tr>\n",
              "      <th>4</th>\n",
              "      <td>5</td>\n",
              "      <td>MURDER OF CHILDREN U R Criminal</td>\n",
              "      <td>ih4xVzLQP24</td>\n",
              "      <td>True</td>\n",
              "      <td>31</td>\n",
              "    </tr>\n",
              "  </tbody>\n",
              "</table>\n",
              "</div>\n",
              "      <button class=\"colab-df-convert\" onclick=\"convertToInteractive('df-eaccc4df-063e-4a0d-9a67-d882250e3e92')\"\n",
              "              title=\"Convert this dataframe to an interactive table.\"\n",
              "              style=\"display:none;\">\n",
              "        \n",
              "  <svg xmlns=\"http://www.w3.org/2000/svg\" height=\"24px\"viewBox=\"0 0 24 24\"\n",
              "       width=\"24px\">\n",
              "    <path d=\"M0 0h24v24H0V0z\" fill=\"none\"/>\n",
              "    <path d=\"M18.56 5.44l.94 2.06.94-2.06 2.06-.94-2.06-.94-.94-2.06-.94 2.06-2.06.94zm-11 1L8.5 8.5l.94-2.06 2.06-.94-2.06-.94L8.5 2.5l-.94 2.06-2.06.94zm10 10l.94 2.06.94-2.06 2.06-.94-2.06-.94-.94-2.06-.94 2.06-2.06.94z\"/><path d=\"M17.41 7.96l-1.37-1.37c-.4-.4-.92-.59-1.43-.59-.52 0-1.04.2-1.43.59L10.3 9.45l-7.72 7.72c-.78.78-.78 2.05 0 2.83L4 21.41c.39.39.9.59 1.41.59.51 0 1.02-.2 1.41-.59l7.78-7.78 2.81-2.81c.8-.78.8-2.07 0-2.86zM5.41 20L4 18.59l7.72-7.72 1.47 1.35L5.41 20z\"/>\n",
              "  </svg>\n",
              "      </button>\n",
              "      \n",
              "  <style>\n",
              "    .colab-df-container {\n",
              "      display:flex;\n",
              "      flex-wrap:wrap;\n",
              "      gap: 12px;\n",
              "    }\n",
              "\n",
              "    .colab-df-convert {\n",
              "      background-color: #E8F0FE;\n",
              "      border: none;\n",
              "      border-radius: 50%;\n",
              "      cursor: pointer;\n",
              "      display: none;\n",
              "      fill: #1967D2;\n",
              "      height: 32px;\n",
              "      padding: 0 0 0 0;\n",
              "      width: 32px;\n",
              "    }\n",
              "\n",
              "    .colab-df-convert:hover {\n",
              "      background-color: #E2EBFA;\n",
              "      box-shadow: 0px 1px 2px rgba(60, 64, 67, 0.3), 0px 1px 3px 1px rgba(60, 64, 67, 0.15);\n",
              "      fill: #174EA6;\n",
              "    }\n",
              "\n",
              "    [theme=dark] .colab-df-convert {\n",
              "      background-color: #3B4455;\n",
              "      fill: #D2E3FC;\n",
              "    }\n",
              "\n",
              "    [theme=dark] .colab-df-convert:hover {\n",
              "      background-color: #434B5C;\n",
              "      box-shadow: 0px 1px 3px 1px rgba(0, 0, 0, 0.15);\n",
              "      filter: drop-shadow(0px 1px 2px rgba(0, 0, 0, 0.3));\n",
              "      fill: #FFFFFF;\n",
              "    }\n",
              "  </style>\n",
              "\n",
              "      <script>\n",
              "        const buttonEl =\n",
              "          document.querySelector('#df-eaccc4df-063e-4a0d-9a67-d882250e3e92 button.colab-df-convert');\n",
              "        buttonEl.style.display =\n",
              "          google.colab.kernel.accessAllowed ? 'block' : 'none';\n",
              "\n",
              "        async function convertToInteractive(key) {\n",
              "          const element = document.querySelector('#df-eaccc4df-063e-4a0d-9a67-d882250e3e92');\n",
              "          const dataTable =\n",
              "            await google.colab.kernel.invokeFunction('convertToInteractive',\n",
              "                                                     [key], {});\n",
              "          if (!dataTable) return;\n",
              "\n",
              "          const docLinkHtml = 'Like what you see? Visit the ' +\n",
              "            '<a target=\"_blank\" href=https://colab.research.google.com/notebooks/data_table.ipynb>data table notebook</a>'\n",
              "            + ' to learn more about interactive tables.';\n",
              "          element.innerHTML = '';\n",
              "          dataTable['output_type'] = 'display_data';\n",
              "          await google.colab.output.renderOutput(dataTable, element);\n",
              "          const docLink = document.createElement('div');\n",
              "          docLink.innerHTML = docLinkHtml;\n",
              "          element.appendChild(docLink);\n",
              "        }\n",
              "      </script>\n",
              "    </div>\n",
              "  </div>\n",
              "  "
            ],
            "text/plain": [
              "   index  ... col length\n",
              "0      0  ...         64\n",
              "1      1  ...         30\n",
              "2      2  ...        189\n",
              "3      3  ...         25\n",
              "4      5  ...         31\n",
              "\n",
              "[5 rows x 5 columns]"
            ]
          },
          "metadata": {},
          "execution_count": 242
        }
      ]
    },
    {
      "cell_type": "markdown",
      "metadata": {
        "id": "qFpyUQt4M992"
      },
      "source": [
        "#### Results Validation"
      ]
    },
    {
      "cell_type": "markdown",
      "metadata": {
        "id": "hXTY7gIqM993"
      },
      "source": [
        "Let's take a look at a record and validate that the results were similar (they won't be exactly the same), and that we sorted the dataframe correctly."
      ]
    },
    {
      "cell_type": "code",
      "source": [
        "record_no = 999\n",
        "print('TWEET TEXT:\\n', df_keep['Youtube Comments'].iloc[record_no])"
      ],
      "metadata": {
        "colab": {
          "base_uri": "https://localhost:8080/"
        },
        "id": "0hKE2tKmDE4z",
        "outputId": "f90c4b97-d3b4-4cfe-938e-e6f0da7cb945"
      },
      "execution_count": 243,
      "outputs": [
        {
          "output_type": "stream",
          "name": "stdout",
          "text": [
            "TWEET TEXT:\n",
            " The reason why is simple: U can still get infected vaxed or not :grinning_face_with_big_eyes::grinning_face_with_big_eyes::grinning_face_with_big_eyes:\n"
          ]
        }
      ]
    },
    {
      "cell_type": "code",
      "metadata": {
        "colab": {
          "base_uri": "https://localhost:8080/"
        },
        "id": "VCvad13VM993",
        "outputId": "36df9d0b-0085-420d-f43c-0d950512f1c4"
      },
      "source": [
        "# boto3 reference\n",
        "# https://boto3.amazonaws.com/v1/documentation/api/latest/reference/services/comprehend.html\n",
        "\n",
        "nl = \"\\n\"\n",
        "record_no = 100\n",
        "# Tweet text\n",
        "# print('TWEET TEXT:\\n', df.loc[record_no].item())\n",
        "print('TWEET TEXT:\\n', df_keep['Youtube Comments'].iloc[record_no])\n",
        "\n",
        "# Real Time Results\n",
        "print('\\nREAL TIME RESULTS of Sentiment Scores:') \n",
        "# print(comprehend.detect_sentiment(Text=df.loc[record_no].item(), LanguageCode='en')['SentimentScore'])\n",
        "# print(f\"{comprehend.detect_sentiment(Text=df.loc[record_no].item(), LanguageCode='en')['SentimentScore']}\"\n",
        "#       f\"{nl}\")\n",
        "\n",
        "print(f\"{comprehend.detect_sentiment(Text=df_keep['Youtube Comments'].iloc[record_no], LanguageCode='en')['SentimentScore']}\"\n",
        "      f\"{nl}\")\n",
        "\n",
        "\n",
        "print('REAL TIME RESULTS of Sentiment Prediction:') \n",
        "# print(f\"{comprehend.detect_sentiment(Text=df.loc[record_no].item(), LanguageCode='en')['Sentiment']}\")\n",
        "print(f\"{comprehend.detect_sentiment(Text=df_keep['Youtube Comments'].iloc[record_no], LanguageCode='en')['Sentiment']}\")\n",
        "\n",
        "# Job Resutls\n",
        "print('\\nASYNCHRONOUS RESULTS:')\n",
        "print(sentiment_results.loc[record_no])"
      ],
      "execution_count": 244,
      "outputs": [
        {
          "output_type": "stream",
          "name": "stdout",
          "text": [
            "TWEET TEXT:\n",
            " No we are not bracing for it.\n",
            "\n",
            "REAL TIME RESULTS of Sentiment Scores:\n",
            "{'Positive': 0.29485827684402466, 'Negative': 0.257671982049942, 'Neutral': 0.4135477542877197, 'Mixed': 0.03392190858721733}\n",
            "\n",
            "REAL TIME RESULTS of Sentiment Prediction:\n",
            "NEUTRAL\n",
            "\n",
            "ASYNCHRONOUS RESULTS:\n",
            "Positive                                   0.294858\n",
            "Negative                                   0.257672\n",
            "Neutral                                    0.413548\n",
            "Mixed                                      0.033922\n",
            "Sentiment                                   NEUTRAL\n",
            "File         youtube_covid_comments_API_Reduce2.csv\n",
            "Name: 100, dtype: object\n"
          ]
        }
      ]
    },
    {
      "cell_type": "markdown",
      "metadata": {
        "id": "Y_mM0Q8dM993"
      },
      "source": [
        "#### Save the results file"
      ]
    },
    {
      "cell_type": "code",
      "metadata": {
        "id": "mEV02Oq8M993"
      },
      "source": [
        "output_name = 'Comprehend/outputs/sentiment_results_Youtube_Comments_API.xlsx'\n",
        "# sentiment_results['Text'] = df.walmart_tweets\n",
        "\n",
        "sentiment_results['Text'] = df_keep['Youtube Comments']\n",
        "\n",
        "sentiment_results['Video ID'] = df_keep['Video ID']"
      ],
      "execution_count": 246,
      "outputs": []
    },
    {
      "cell_type": "code",
      "metadata": {
        "id": "UE5TwbOgnHes"
      },
      "source": [
        "# sentiment_results.to_excel(output_name, encoding = 'utf-8')"
      ],
      "execution_count": 248,
      "outputs": []
    },
    {
      "cell_type": "code",
      "source": [
        "df_keep['Youtube Comments'].iloc[0]"
      ],
      "metadata": {
        "colab": {
          "base_uri": "https://localhost:8080/",
          "height": 35
        },
        "id": "ZqupYX-C-gQv",
        "outputId": "1717ac7a-f6c8-46ac-bede-733b580ddd1b"
      },
      "execution_count": 249,
      "outputs": [
        {
          "output_type": "execute_result",
          "data": {
            "application/vnd.google.colaboratory.intrinsic+json": {
              "type": "string"
            },
            "text/plain": [
              "'who cares, the next variant decepticon is the one to worry about'"
            ]
          },
          "metadata": {},
          "execution_count": 249
        }
      ]
    },
    {
      "cell_type": "code",
      "source": [
        "# df_keep.head()"
      ],
      "metadata": {
        "id": "sMjIfc4q_Lbw"
      },
      "execution_count": null,
      "outputs": []
    },
    {
      "cell_type": "code",
      "source": [
        "sentiment_results.head()"
      ],
      "metadata": {
        "colab": {
          "base_uri": "https://localhost:8080/",
          "height": 347
        },
        "id": "RFK7wHrF-U1t",
        "outputId": "33de6be6-3f23-4389-d2b2-963926d55e92"
      },
      "execution_count": 250,
      "outputs": [
        {
          "output_type": "execute_result",
          "data": {
            "text/html": [
              "\n",
              "  <div id=\"df-4934a053-0d24-426b-b062-36b6ac352624\">\n",
              "    <div class=\"colab-df-container\">\n",
              "      <div>\n",
              "<style scoped>\n",
              "    .dataframe tbody tr th:only-of-type {\n",
              "        vertical-align: middle;\n",
              "    }\n",
              "\n",
              "    .dataframe tbody tr th {\n",
              "        vertical-align: top;\n",
              "    }\n",
              "\n",
              "    .dataframe thead th {\n",
              "        text-align: right;\n",
              "    }\n",
              "</style>\n",
              "<table border=\"1\" class=\"dataframe\">\n",
              "  <thead>\n",
              "    <tr style=\"text-align: right;\">\n",
              "      <th></th>\n",
              "      <th>Positive</th>\n",
              "      <th>Negative</th>\n",
              "      <th>Neutral</th>\n",
              "      <th>Mixed</th>\n",
              "      <th>Sentiment</th>\n",
              "      <th>File</th>\n",
              "      <th>Text</th>\n",
              "      <th>Video ID</th>\n",
              "    </tr>\n",
              "    <tr>\n",
              "      <th>Line</th>\n",
              "      <th></th>\n",
              "      <th></th>\n",
              "      <th></th>\n",
              "      <th></th>\n",
              "      <th></th>\n",
              "      <th></th>\n",
              "      <th></th>\n",
              "      <th></th>\n",
              "    </tr>\n",
              "  </thead>\n",
              "  <tbody>\n",
              "    <tr>\n",
              "      <th>0</th>\n",
              "      <td>0.027947</td>\n",
              "      <td>0.242229</td>\n",
              "      <td>0.250361</td>\n",
              "      <td>0.479462</td>\n",
              "      <td>MIXED</td>\n",
              "      <td>youtube_covid_comments_API_Reduce2.csv</td>\n",
              "      <td>who cares, the next variant decepticon is the one to worry about</td>\n",
              "      <td>ih4xVzLQP24</td>\n",
              "    </tr>\n",
              "    <tr>\n",
              "      <th>1</th>\n",
              "      <td>0.406074</td>\n",
              "      <td>0.007731</td>\n",
              "      <td>0.411966</td>\n",
              "      <td>0.174229</td>\n",
              "      <td>NEUTRAL</td>\n",
              "      <td>youtube_covid_comments_API_Reduce2.csv</td>\n",
              "      <td>Worldwide...except for Africa.</td>\n",
              "      <td>ih4xVzLQP24</td>\n",
              "    </tr>\n",
              "    <tr>\n",
              "      <th>2</th>\n",
              "      <td>0.044569</td>\n",
              "      <td>0.767004</td>\n",
              "      <td>0.156650</td>\n",
              "      <td>0.031776</td>\n",
              "      <td>NEGATIVE</td>\n",
              "      <td>youtube_covid_comments_API_Reduce2.csv</td>\n",
              "      <td>Once one case is found, the genie :man_genie: is out of the bottle, spreading like a wild fire. USA should get ready to give boosters nor when Mr micron comes, and spreads people are ready.</td>\n",
              "      <td>ih4xVzLQP24</td>\n",
              "    </tr>\n",
              "    <tr>\n",
              "      <th>3</th>\n",
              "      <td>0.052852</td>\n",
              "      <td>0.892676</td>\n",
              "      <td>0.031733</td>\n",
              "      <td>0.022739</td>\n",
              "      <td>NEGATIVE</td>\n",
              "      <td>youtube_covid_comments_API_Reduce2.csv</td>\n",
              "      <td>Imagine believing this bs</td>\n",
              "      <td>ih4xVzLQP24</td>\n",
              "    </tr>\n",
              "    <tr>\n",
              "      <th>4</th>\n",
              "      <td>0.000502</td>\n",
              "      <td>0.960271</td>\n",
              "      <td>0.039221</td>\n",
              "      <td>0.000007</td>\n",
              "      <td>NEGATIVE</td>\n",
              "      <td>youtube_covid_comments_API_Reduce2.csv</td>\n",
              "      <td>MURDER OF CHILDREN U R Criminal</td>\n",
              "      <td>ih4xVzLQP24</td>\n",
              "    </tr>\n",
              "  </tbody>\n",
              "</table>\n",
              "</div>\n",
              "      <button class=\"colab-df-convert\" onclick=\"convertToInteractive('df-4934a053-0d24-426b-b062-36b6ac352624')\"\n",
              "              title=\"Convert this dataframe to an interactive table.\"\n",
              "              style=\"display:none;\">\n",
              "        \n",
              "  <svg xmlns=\"http://www.w3.org/2000/svg\" height=\"24px\"viewBox=\"0 0 24 24\"\n",
              "       width=\"24px\">\n",
              "    <path d=\"M0 0h24v24H0V0z\" fill=\"none\"/>\n",
              "    <path d=\"M18.56 5.44l.94 2.06.94-2.06 2.06-.94-2.06-.94-.94-2.06-.94 2.06-2.06.94zm-11 1L8.5 8.5l.94-2.06 2.06-.94-2.06-.94L8.5 2.5l-.94 2.06-2.06.94zm10 10l.94 2.06.94-2.06 2.06-.94-2.06-.94-.94-2.06-.94 2.06-2.06.94z\"/><path d=\"M17.41 7.96l-1.37-1.37c-.4-.4-.92-.59-1.43-.59-.52 0-1.04.2-1.43.59L10.3 9.45l-7.72 7.72c-.78.78-.78 2.05 0 2.83L4 21.41c.39.39.9.59 1.41.59.51 0 1.02-.2 1.41-.59l7.78-7.78 2.81-2.81c.8-.78.8-2.07 0-2.86zM5.41 20L4 18.59l7.72-7.72 1.47 1.35L5.41 20z\"/>\n",
              "  </svg>\n",
              "      </button>\n",
              "      \n",
              "  <style>\n",
              "    .colab-df-container {\n",
              "      display:flex;\n",
              "      flex-wrap:wrap;\n",
              "      gap: 12px;\n",
              "    }\n",
              "\n",
              "    .colab-df-convert {\n",
              "      background-color: #E8F0FE;\n",
              "      border: none;\n",
              "      border-radius: 50%;\n",
              "      cursor: pointer;\n",
              "      display: none;\n",
              "      fill: #1967D2;\n",
              "      height: 32px;\n",
              "      padding: 0 0 0 0;\n",
              "      width: 32px;\n",
              "    }\n",
              "\n",
              "    .colab-df-convert:hover {\n",
              "      background-color: #E2EBFA;\n",
              "      box-shadow: 0px 1px 2px rgba(60, 64, 67, 0.3), 0px 1px 3px 1px rgba(60, 64, 67, 0.15);\n",
              "      fill: #174EA6;\n",
              "    }\n",
              "\n",
              "    [theme=dark] .colab-df-convert {\n",
              "      background-color: #3B4455;\n",
              "      fill: #D2E3FC;\n",
              "    }\n",
              "\n",
              "    [theme=dark] .colab-df-convert:hover {\n",
              "      background-color: #434B5C;\n",
              "      box-shadow: 0px 1px 3px 1px rgba(0, 0, 0, 0.15);\n",
              "      filter: drop-shadow(0px 1px 2px rgba(0, 0, 0, 0.3));\n",
              "      fill: #FFFFFF;\n",
              "    }\n",
              "  </style>\n",
              "\n",
              "      <script>\n",
              "        const buttonEl =\n",
              "          document.querySelector('#df-4934a053-0d24-426b-b062-36b6ac352624 button.colab-df-convert');\n",
              "        buttonEl.style.display =\n",
              "          google.colab.kernel.accessAllowed ? 'block' : 'none';\n",
              "\n",
              "        async function convertToInteractive(key) {\n",
              "          const element = document.querySelector('#df-4934a053-0d24-426b-b062-36b6ac352624');\n",
              "          const dataTable =\n",
              "            await google.colab.kernel.invokeFunction('convertToInteractive',\n",
              "                                                     [key], {});\n",
              "          if (!dataTable) return;\n",
              "\n",
              "          const docLinkHtml = 'Like what you see? Visit the ' +\n",
              "            '<a target=\"_blank\" href=https://colab.research.google.com/notebooks/data_table.ipynb>data table notebook</a>'\n",
              "            + ' to learn more about interactive tables.';\n",
              "          element.innerHTML = '';\n",
              "          dataTable['output_type'] = 'display_data';\n",
              "          await google.colab.output.renderOutput(dataTable, element);\n",
              "          const docLink = document.createElement('div');\n",
              "          docLink.innerHTML = docLinkHtml;\n",
              "          element.appendChild(docLink);\n",
              "        }\n",
              "      </script>\n",
              "    </div>\n",
              "  </div>\n",
              "  "
            ],
            "text/plain": [
              "      Positive  ...     Video ID\n",
              "Line            ...             \n",
              "0     0.027947  ...  ih4xVzLQP24\n",
              "1     0.406074  ...  ih4xVzLQP24\n",
              "2     0.044569  ...  ih4xVzLQP24\n",
              "3     0.052852  ...  ih4xVzLQP24\n",
              "4     0.000502  ...  ih4xVzLQP24\n",
              "\n",
              "[5 rows x 8 columns]"
            ]
          },
          "metadata": {},
          "execution_count": 250
        }
      ]
    },
    {
      "cell_type": "code",
      "metadata": {
        "colab": {
          "base_uri": "https://localhost:8080/",
          "height": 333
        },
        "id": "VkNQmFk_MwI9",
        "outputId": "1de8823d-992c-44c6-c8db-0759fbda24cf"
      },
      "source": [
        "sentiment_results.iloc[995:1000]"
      ],
      "execution_count": 251,
      "outputs": [
        {
          "output_type": "execute_result",
          "data": {
            "text/html": [
              "\n",
              "  <div id=\"df-91915abc-26c6-4154-83e0-910c8e258d65\">\n",
              "    <div class=\"colab-df-container\">\n",
              "      <div>\n",
              "<style scoped>\n",
              "    .dataframe tbody tr th:only-of-type {\n",
              "        vertical-align: middle;\n",
              "    }\n",
              "\n",
              "    .dataframe tbody tr th {\n",
              "        vertical-align: top;\n",
              "    }\n",
              "\n",
              "    .dataframe thead th {\n",
              "        text-align: right;\n",
              "    }\n",
              "</style>\n",
              "<table border=\"1\" class=\"dataframe\">\n",
              "  <thead>\n",
              "    <tr style=\"text-align: right;\">\n",
              "      <th></th>\n",
              "      <th>Positive</th>\n",
              "      <th>Negative</th>\n",
              "      <th>Neutral</th>\n",
              "      <th>Mixed</th>\n",
              "      <th>Sentiment</th>\n",
              "      <th>File</th>\n",
              "      <th>Text</th>\n",
              "      <th>Video ID</th>\n",
              "    </tr>\n",
              "    <tr>\n",
              "      <th>Line</th>\n",
              "      <th></th>\n",
              "      <th></th>\n",
              "      <th></th>\n",
              "      <th></th>\n",
              "      <th></th>\n",
              "      <th></th>\n",
              "      <th></th>\n",
              "      <th></th>\n",
              "    </tr>\n",
              "  </thead>\n",
              "  <tbody>\n",
              "    <tr>\n",
              "      <th>995</th>\n",
              "      <td>0.027586</td>\n",
              "      <td>0.446018</td>\n",
              "      <td>0.469978</td>\n",
              "      <td>0.056418</td>\n",
              "      <td>NEUTRAL</td>\n",
              "      <td>youtube_covid_comments_API_Reduce2.csv</td>\n",
              "      <td>Because they are suckers for getting the jab to begin with. :yawning_face::face_with_rolling_eyes:</td>\n",
              "      <td>ih4xVzLQP24</td>\n",
              "    </tr>\n",
              "    <tr>\n",
              "      <th>996</th>\n",
              "      <td>0.052152</td>\n",
              "      <td>0.366108</td>\n",
              "      <td>0.577219</td>\n",
              "      <td>0.004520</td>\n",
              "      <td>NEUTRAL</td>\n",
              "      <td>youtube_covid_comments_API_Reduce2.csv</td>\n",
              "      <td>Conspiracy theory is now msm headlines but the sheeple are still drinking the Kool aid!</td>\n",
              "      <td>ih4xVzLQP24</td>\n",
              "    </tr>\n",
              "    <tr>\n",
              "      <th>997</th>\n",
              "      <td>0.031090</td>\n",
              "      <td>0.051515</td>\n",
              "      <td>0.917070</td>\n",
              "      <td>0.000325</td>\n",
              "      <td>NEUTRAL</td>\n",
              "      <td>youtube_covid_comments_API_Reduce2.csv</td>\n",
              "      <td>So are the sheep ready for their 10th booster?</td>\n",
              "      <td>ih4xVzLQP24</td>\n",
              "    </tr>\n",
              "    <tr>\n",
              "      <th>998</th>\n",
              "      <td>0.011433</td>\n",
              "      <td>0.058315</td>\n",
              "      <td>0.927715</td>\n",
              "      <td>0.002537</td>\n",
              "      <td>NEUTRAL</td>\n",
              "      <td>youtube_covid_comments_API_Reduce2.csv</td>\n",
              "      <td>OH so that's why they recently changed the definition of vaccine .</td>\n",
              "      <td>ih4xVzLQP24</td>\n",
              "    </tr>\n",
              "    <tr>\n",
              "      <th>999</th>\n",
              "      <td>0.037508</td>\n",
              "      <td>0.285854</td>\n",
              "      <td>0.657117</td>\n",
              "      <td>0.019521</td>\n",
              "      <td>NEUTRAL</td>\n",
              "      <td>youtube_covid_comments_API_Reduce2.csv</td>\n",
              "      <td>The reason why is simple: U can still get infected vaxed or not :grinning_face_with_big_eyes::grinning_face_with_big_eyes::grinning_face_with_big_eyes:</td>\n",
              "      <td>ih4xVzLQP24</td>\n",
              "    </tr>\n",
              "  </tbody>\n",
              "</table>\n",
              "</div>\n",
              "      <button class=\"colab-df-convert\" onclick=\"convertToInteractive('df-91915abc-26c6-4154-83e0-910c8e258d65')\"\n",
              "              title=\"Convert this dataframe to an interactive table.\"\n",
              "              style=\"display:none;\">\n",
              "        \n",
              "  <svg xmlns=\"http://www.w3.org/2000/svg\" height=\"24px\"viewBox=\"0 0 24 24\"\n",
              "       width=\"24px\">\n",
              "    <path d=\"M0 0h24v24H0V0z\" fill=\"none\"/>\n",
              "    <path d=\"M18.56 5.44l.94 2.06.94-2.06 2.06-.94-2.06-.94-.94-2.06-.94 2.06-2.06.94zm-11 1L8.5 8.5l.94-2.06 2.06-.94-2.06-.94L8.5 2.5l-.94 2.06-2.06.94zm10 10l.94 2.06.94-2.06 2.06-.94-2.06-.94-.94-2.06-.94 2.06-2.06.94z\"/><path d=\"M17.41 7.96l-1.37-1.37c-.4-.4-.92-.59-1.43-.59-.52 0-1.04.2-1.43.59L10.3 9.45l-7.72 7.72c-.78.78-.78 2.05 0 2.83L4 21.41c.39.39.9.59 1.41.59.51 0 1.02-.2 1.41-.59l7.78-7.78 2.81-2.81c.8-.78.8-2.07 0-2.86zM5.41 20L4 18.59l7.72-7.72 1.47 1.35L5.41 20z\"/>\n",
              "  </svg>\n",
              "      </button>\n",
              "      \n",
              "  <style>\n",
              "    .colab-df-container {\n",
              "      display:flex;\n",
              "      flex-wrap:wrap;\n",
              "      gap: 12px;\n",
              "    }\n",
              "\n",
              "    .colab-df-convert {\n",
              "      background-color: #E8F0FE;\n",
              "      border: none;\n",
              "      border-radius: 50%;\n",
              "      cursor: pointer;\n",
              "      display: none;\n",
              "      fill: #1967D2;\n",
              "      height: 32px;\n",
              "      padding: 0 0 0 0;\n",
              "      width: 32px;\n",
              "    }\n",
              "\n",
              "    .colab-df-convert:hover {\n",
              "      background-color: #E2EBFA;\n",
              "      box-shadow: 0px 1px 2px rgba(60, 64, 67, 0.3), 0px 1px 3px 1px rgba(60, 64, 67, 0.15);\n",
              "      fill: #174EA6;\n",
              "    }\n",
              "\n",
              "    [theme=dark] .colab-df-convert {\n",
              "      background-color: #3B4455;\n",
              "      fill: #D2E3FC;\n",
              "    }\n",
              "\n",
              "    [theme=dark] .colab-df-convert:hover {\n",
              "      background-color: #434B5C;\n",
              "      box-shadow: 0px 1px 3px 1px rgba(0, 0, 0, 0.15);\n",
              "      filter: drop-shadow(0px 1px 2px rgba(0, 0, 0, 0.3));\n",
              "      fill: #FFFFFF;\n",
              "    }\n",
              "  </style>\n",
              "\n",
              "      <script>\n",
              "        const buttonEl =\n",
              "          document.querySelector('#df-91915abc-26c6-4154-83e0-910c8e258d65 button.colab-df-convert');\n",
              "        buttonEl.style.display =\n",
              "          google.colab.kernel.accessAllowed ? 'block' : 'none';\n",
              "\n",
              "        async function convertToInteractive(key) {\n",
              "          const element = document.querySelector('#df-91915abc-26c6-4154-83e0-910c8e258d65');\n",
              "          const dataTable =\n",
              "            await google.colab.kernel.invokeFunction('convertToInteractive',\n",
              "                                                     [key], {});\n",
              "          if (!dataTable) return;\n",
              "\n",
              "          const docLinkHtml = 'Like what you see? Visit the ' +\n",
              "            '<a target=\"_blank\" href=https://colab.research.google.com/notebooks/data_table.ipynb>data table notebook</a>'\n",
              "            + ' to learn more about interactive tables.';\n",
              "          element.innerHTML = '';\n",
              "          dataTable['output_type'] = 'display_data';\n",
              "          await google.colab.output.renderOutput(dataTable, element);\n",
              "          const docLink = document.createElement('div');\n",
              "          docLink.innerHTML = docLinkHtml;\n",
              "          element.appendChild(docLink);\n",
              "        }\n",
              "      </script>\n",
              "    </div>\n",
              "  </div>\n",
              "  "
            ],
            "text/plain": [
              "      Positive  ...     Video ID\n",
              "Line            ...             \n",
              "995   0.027586  ...  ih4xVzLQP24\n",
              "996   0.052152  ...  ih4xVzLQP24\n",
              "997   0.031090  ...  ih4xVzLQP24\n",
              "998   0.011433  ...  ih4xVzLQP24\n",
              "999   0.037508  ...  ih4xVzLQP24\n",
              "\n",
              "[5 rows x 8 columns]"
            ]
          },
          "metadata": {},
          "execution_count": 251
        }
      ]
    },
    {
      "cell_type": "code",
      "source": [
        "df_keep['Youtube Comments'].iloc[999]"
      ],
      "metadata": {
        "colab": {
          "base_uri": "https://localhost:8080/",
          "height": 52
        },
        "id": "dFauEf889l1U",
        "outputId": "d988dbaa-d844-4064-ed65-29184b907340"
      },
      "execution_count": 252,
      "outputs": [
        {
          "output_type": "execute_result",
          "data": {
            "application/vnd.google.colaboratory.intrinsic+json": {
              "type": "string"
            },
            "text/plain": [
              "'The reason why is simple: U can still get infected vaxed or not :grinning_face_with_big_eyes::grinning_face_with_big_eyes::grinning_face_with_big_eyes:'"
            ]
          },
          "metadata": {},
          "execution_count": 252
        }
      ]
    },
    {
      "cell_type": "code",
      "metadata": {
        "id": "_sk1H14qnesw"
      },
      "source": [
        ""
      ],
      "execution_count": null,
      "outputs": []
    },
    {
      "cell_type": "markdown",
      "source": [
        "#### Analyze the Results"
      ],
      "metadata": {
        "id": "L_ei4rgWkOus"
      }
    },
    {
      "cell_type": "code",
      "source": [
        "colors = ['Grey', 'Pink', 'Tan', 'Green']\n",
        "sentiment_results.groupby('Sentiment').size().plot.bar(stacked=True, color = colors, width=0.8);"
      ],
      "metadata": {
        "colab": {
          "base_uri": "https://localhost:8080/",
          "height": 319
        },
        "id": "Y4dkoGmXkWt-",
        "outputId": "353eec66-c433-432f-cb5a-8688649ffa2a"
      },
      "execution_count": 253,
      "outputs": [
        {
          "output_type": "display_data",
          "data": {
            "image/png": "[encoded data removed]",
            "text/plain": [
              "<Figure size 432x288 with 1 Axes>"
            ]
          },
          "metadata": {
            "needs_background": "light"
          }
        }
      ]
    },
    {
      "cell_type": "code",
      "source": [
        "sentiment_results.groupby('Sentiment').size()/sentiment_results['Sentiment'].count()"
      ],
      "metadata": {
        "colab": {
          "base_uri": "https://localhost:8080/"
        },
        "id": "v9EUZCv0krLf",
        "outputId": "4433ef9f-0f34-4d30-a5f4-b4295dc80ca9"
      },
      "execution_count": 254,
      "outputs": [
        {
          "output_type": "execute_result",
          "data": {
            "text/plain": [
              "Sentiment\n",
              "MIXED       0.036960\n",
              "NEGATIVE    0.356819\n",
              "NEUTRAL     0.420070\n",
              "POSITIVE    0.186151\n",
              "dtype: float64"
            ]
          },
          "metadata": {},
          "execution_count": 254
        }
      ]
    },
    {
      "cell_type": "code",
      "source": [
        "# sentiment_results.groupby('Sentiment').size()\n",
        "sentiment_results['Sentiment'].count()\n",
        "# sentiment_results.count()"
      ],
      "metadata": {
        "colab": {
          "base_uri": "https://localhost:8080/"
        },
        "id": "cNNHkFvAldDQ",
        "outputId": "328e9090-e247-40d8-d580-88f487d77cbe"
      },
      "execution_count": 255,
      "outputs": [
        {
          "output_type": "execute_result",
          "data": {
            "text/plain": [
              "300788"
            ]
          },
          "metadata": {},
          "execution_count": 255
        }
      ]
    },
    {
      "cell_type": "code",
      "source": [
        "# sentiment_results.urls.unique()"
      ],
      "metadata": {
        "id": "JoJPiK_0lhBF"
      },
      "execution_count": null,
      "outputs": []
    },
    {
      "cell_type": "code",
      "source": [
        "#Zoom in to individual Videos\n",
        "\n",
        "# for url in sentiment_results.urls.unique():\n",
        "#   print(url)\n",
        "\n",
        "sentiment_results.groupby('Video ID').size().sort_values(ascending=False)"
      ],
      "metadata": {
        "colab": {
          "base_uri": "https://localhost:8080/"
        },
        "id": "AVUNKBGaDRKl",
        "outputId": "33e61b40-f9cd-45cf-bdc1-bf042df5c946"
      },
      "execution_count": 256,
      "outputs": [
        {
          "output_type": "execute_result",
          "data": {
            "text/plain": [
              "Video ID\n",
              "ZfFe4RngT-w    63372\n",
              "HxDXKB59JFg    63278\n",
              "BtN-goy9VOY    57826\n",
              "5DGwOJXSxqg    25223\n",
              "fudTj7i4gJA     8731\n",
              "LKT7fGL_Uh0     6595\n",
              "k9wRPOeUhls     6349\n",
              "DqSpzm2jsgw     5510\n",
              "e8FCiP2IXWM     4664\n",
              "T69-aH3s0vw     4522\n",
              "BSQrskqqIKE     4453\n",
              "fUcAhhqwGVw     4411\n",
              "b7pAc7-vTvo     4331\n",
              "MiqRBaEehIU     4306\n",
              "DCdxsnRF1Fk     4224\n",
              "A-1KmtpvM9M     3956\n",
              "ZL1z3Uju-I0     3956\n",
              "Ug9xQ7LQnsw     3769\n",
              "w2KlawRXjGM     3543\n",
              "1z_mBM3OWMM     3463\n",
              "ewFkYdEv2w0     3298\n",
              "s_3jKDRnF4c     3225\n",
              "UdQri8yLXFA     2886\n",
              "N4vfuuReV5c     1861\n",
              "4yfPs6pUjQI     1539\n",
              "ih4xVzLQP24     1497\n",
              "dtype: int64"
            ]
          },
          "metadata": {},
          "execution_count": 256
        }
      ]
    },
    {
      "cell_type": "code",
      "source": [
        "url = \"ZfFe4RngT-w\"\n",
        "\n",
        "sentiment_results[sentiment_results['Video ID']==url].groupby('Sentiment').size().plot.bar(stacked=True, color = colors, width=0.8);"
      ],
      "metadata": {
        "colab": {
          "base_uri": "https://localhost:8080/",
          "height": 319
        },
        "id": "zN94ZUPeDjZg",
        "outputId": "da4e030d-4c29-44e4-cb03-be5a15d89954"
      },
      "execution_count": 261,
      "outputs": [
        {
          "output_type": "display_data",
          "data": {
            "image/png": "[encoded data removed]",
            "text/plain": [
              "<Figure size 432x288 with 1 Axes>"
            ]
          },
          "metadata": {
            "needs_background": "light"
          }
        }
      ]
    },
    {
      "cell_type": "code",
      "source": [
        "url = \"b7pAc7-vTvo\"\n",
        "\n",
        "sentiment_results[sentiment_results['Video ID']==url].groupby('Sentiment').size().plot.bar(stacked=True, color = colors, width=0.8);"
      ],
      "metadata": {
        "colab": {
          "base_uri": "https://localhost:8080/",
          "height": 319
        },
        "id": "i1I4eokyD0GZ",
        "outputId": "82ab3b45-3853-4803-b0a3-7f53e7fdcdb3"
      },
      "execution_count": 262,
      "outputs": [
        {
          "output_type": "display_data",
          "data": {
            "image/png": "[encoded data removed]",
            "text/plain": [
              "<Figure size 432x288 with 1 Axes>"
            ]
          },
          "metadata": {
            "needs_background": "light"
          }
        }
      ]
    },
    {
      "cell_type": "code",
      "source": [
        "url = \"UdQri8yLXFA\"\n",
        "\n",
        "sentiment_results[sentiment_results['Video ID']==url].groupby('Sentiment').size().plot.bar(stacked=True, color = colors, width=0.8);"
      ],
      "metadata": {
        "colab": {
          "base_uri": "https://localhost:8080/",
          "height": 319
        },
        "id": "iIE7eoFCGLAg",
        "outputId": "8a083b42-d203-490e-a759-e921920a71a8"
      },
      "execution_count": 263,
      "outputs": [
        {
          "output_type": "display_data",
          "data": {
            "image/png": "[encoded data removed]",
            "text/plain": [
              "<Figure size 432x288 with 1 Axes>"
            ]
          },
          "metadata": {
            "needs_background": "light"
          }
        }
      ]
    },
    {
      "cell_type": "code",
      "source": [
        ""
      ],
      "metadata": {
        "id": "WDCE-shtGtjq"
      },
      "execution_count": null,
      "outputs": []
    }
  ]
}