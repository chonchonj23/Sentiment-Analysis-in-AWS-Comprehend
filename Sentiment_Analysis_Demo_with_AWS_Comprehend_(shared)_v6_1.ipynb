{
  "nbformat": 4,
  "nbformat_minor": 0,
  "metadata": {
    "kernelspec": {
      "display_name": "Python 3",
      "language": "python",
      "name": "python3"
    },
    "language_info": {
      "codemirror_mode": {
        "name": "ipython",
        "version": 3
      },
      "file_extension": ".py",
      "mimetype": "text/x-python",
      "name": "python",
      "nbconvert_exporter": "python",
      "pygments_lexer": "ipython3",
      "version": "3.7.9"
    },
    "colab": {
      "name": "Sentiment Analysis Demo with AWS Comprehend (shared) v6_1.ipynb",
      "provenance": [],
      "collapsed_sections": [
        "IwETc2CJwvAs"
      ]
    }
  },
  "cells": [
    {
      "cell_type": "markdown",
      "metadata": {
        "id": "Hzy1z5dEM99i"
      },
      "source": [
        "# AWS Comprehend Sentiment Analysis Using Python"
      ]
    },
    {
      "cell_type": "markdown",
      "metadata": {
        "id": "65fRGbDRM99m"
      },
      "source": [
        "This notebook shows how to use boto3 Amazon API to use Amazon Comprehend for real time analysis as well as scheduling analysis jobs.\n",
        "1. For boto3 to work you need to create an IAM User, receive `aws_access_key_id` and `aws_secret_access_key` and configure your credentials using AWS Command Line Interface (AWS CLI)\n",
        "2. Cost. If you are using free AWS tier, you can analyze 50K units a month free.  Every unit is 100 characters. In my example, every tweet is ~2 units. In the scheduled job I am analyzing 10K tweets at once, so the free tier runs out pretty fast, and then it's \\$1 per 10K. Be sure to check pricing before you proceed. https://aws.amazon.com/comprehend/pricing/\n",
        "3. Reference. Boto3 S3: https://boto3.amazonaws.com/v1/documentation/api/latest/reference/services/comprehend.html  Boto3 Comprehend: https://boto3.amazonaws.com/v1/documentation/api/latest/reference/services/s3.html"
      ]
    },
    {
      "cell_type": "code",
      "metadata": {
        "colab": {
          "base_uri": "https://localhost:8080/"
        },
        "id": "w_jz0rwwNWDa",
        "outputId": "6fe813e0-0e02-47a9-b435-9b0e62db13e4"
      },
      "source": [
        "pip install boto3 langdetect textblob"
      ],
      "execution_count": 1,
      "outputs": [
        {
          "output_type": "stream",
          "name": "stdout",
          "text": [
            "Collecting boto3\n",
            "  Downloading boto3-1.20.24-py3-none-any.whl (131 kB)\n",
            "\u001b[?25l\r\u001b[K     |██▌                             | 10 kB 27.0 MB/s eta 0:00:01\r\u001b[K     |█████                           | 20 kB 33.4 MB/s eta 0:00:01\r\u001b[K     |███████▌                        | 30 kB 26.0 MB/s eta 0:00:01\r\u001b[K     |██████████                      | 40 kB 19.3 MB/s eta 0:00:01\r\u001b[K     |████████████▍                   | 51 kB 8.0 MB/s eta 0:00:01\r\u001b[K     |███████████████                 | 61 kB 8.5 MB/s eta 0:00:01\r\u001b[K     |█████████████████▍              | 71 kB 7.4 MB/s eta 0:00:01\r\u001b[K     |███████████████████▉            | 81 kB 8.3 MB/s eta 0:00:01\r\u001b[K     |██████████████████████▍         | 92 kB 8.4 MB/s eta 0:00:01\r\u001b[K     |████████████████████████▉       | 102 kB 7.6 MB/s eta 0:00:01\r\u001b[K     |███████████████████████████▍    | 112 kB 7.6 MB/s eta 0:00:01\r\u001b[K     |█████████████████████████████▉  | 122 kB 7.6 MB/s eta 0:00:01\r\u001b[K     |████████████████████████████████| 131 kB 7.6 MB/s \n",
            "\u001b[?25hCollecting langdetect\n",
            "  Downloading langdetect-1.0.9.tar.gz (981 kB)\n",
            "\u001b[K     |████████████████████████████████| 981 kB 44.0 MB/s \n",
            "\u001b[?25hRequirement already satisfied: textblob in /usr/local/lib/python3.7/dist-packages (0.15.3)\n",
            "Collecting s3transfer<0.6.0,>=0.5.0\n",
            "  Downloading s3transfer-0.5.0-py3-none-any.whl (79 kB)\n",
            "\u001b[K     |████████████████████████████████| 79 kB 8.3 MB/s \n",
            "\u001b[?25hCollecting botocore<1.24.0,>=1.23.24\n",
            "  Downloading botocore-1.23.24-py3-none-any.whl (8.4 MB)\n",
            "\u001b[K     |████████████████████████████████| 8.4 MB 27.3 MB/s \n",
            "\u001b[?25hCollecting jmespath<1.0.0,>=0.7.1\n",
            "  Downloading jmespath-0.10.0-py2.py3-none-any.whl (24 kB)\n",
            "Collecting urllib3<1.27,>=1.25.4\n",
            "  Downloading urllib3-1.26.7-py2.py3-none-any.whl (138 kB)\n",
            "\u001b[K     |████████████████████████████████| 138 kB 76.8 MB/s \n",
            "\u001b[?25hRequirement already satisfied: python-dateutil<3.0.0,>=2.1 in /usr/local/lib/python3.7/dist-packages (from botocore<1.24.0,>=1.23.24->boto3) (2.8.2)\n",
            "Requirement already satisfied: six>=1.5 in /usr/local/lib/python3.7/dist-packages (from python-dateutil<3.0.0,>=2.1->botocore<1.24.0,>=1.23.24->boto3) (1.15.0)\n",
            "Requirement already satisfied: nltk>=3.1 in /usr/local/lib/python3.7/dist-packages (from textblob) (3.2.5)\n",
            "Building wheels for collected packages: langdetect\n",
            "  Building wheel for langdetect (setup.py) ... \u001b[?25l\u001b[?25hdone\n",
            "  Created wheel for langdetect: filename=langdetect-1.0.9-py3-none-any.whl size=993242 sha256=9af3997db25923f463e1ab24b83d83bc7cc7018701717bba967edc6c3c2f74b3\n",
            "  Stored in directory: /root/.cache/pip/wheels/c5/96/8a/f90c59ed25d75e50a8c10a1b1c2d4c402e4dacfa87f3aff36a\n",
            "Successfully built langdetect\n",
            "Installing collected packages: urllib3, jmespath, botocore, s3transfer, langdetect, boto3\n",
            "  Attempting uninstall: urllib3\n",
            "    Found existing installation: urllib3 1.24.3\n",
            "    Uninstalling urllib3-1.24.3:\n",
            "      Successfully uninstalled urllib3-1.24.3\n",
            "\u001b[31mERROR: pip's dependency resolver does not currently take into account all the packages that are installed. This behaviour is the source of the following dependency conflicts.\n",
            "requests 2.23.0 requires urllib3!=1.25.0,!=1.25.1,<1.26,>=1.21.1, but you have urllib3 1.26.7 which is incompatible.\n",
            "datascience 0.10.6 requires folium==0.2.1, but you have folium 0.8.3 which is incompatible.\u001b[0m\n",
            "Successfully installed boto3-1.20.24 botocore-1.23.24 jmespath-0.10.0 langdetect-1.0.9 s3transfer-0.5.0 urllib3-1.26.7\n"
          ]
        }
      ]
    },
    {
      "cell_type": "code",
      "source": [
        "!pip install emoji --upgrade"
      ],
      "metadata": {
        "colab": {
          "base_uri": "https://localhost:8080/"
        },
        "id": "bAWoDISpj4mg",
        "outputId": "9c6c35be-fa05-41a7-c05d-fee663ed4dcb"
      },
      "execution_count": 2,
      "outputs": [
        {
          "output_type": "stream",
          "name": "stdout",
          "text": [
            "Collecting emoji\n",
            "  Downloading emoji-1.6.1.tar.gz (170 kB)\n",
            "\u001b[?25l\r\u001b[K     |██                              | 10 kB 24.1 MB/s eta 0:00:01\r\u001b[K     |███▉                            | 20 kB 26.6 MB/s eta 0:00:01\r\u001b[K     |█████▉                          | 30 kB 20.4 MB/s eta 0:00:01\r\u001b[K     |███████▊                        | 40 kB 16.7 MB/s eta 0:00:01\r\u001b[K     |█████████▋                      | 51 kB 7.3 MB/s eta 0:00:01\r\u001b[K     |███████████▋                    | 61 kB 8.5 MB/s eta 0:00:01\r\u001b[K     |█████████████▌                  | 71 kB 7.7 MB/s eta 0:00:01\r\u001b[K     |███████████████▍                | 81 kB 8.5 MB/s eta 0:00:01\r\u001b[K     |█████████████████▍              | 92 kB 9.4 MB/s eta 0:00:01\r\u001b[K     |███████████████████▎            | 102 kB 7.2 MB/s eta 0:00:01\r\u001b[K     |█████████████████████▏          | 112 kB 7.2 MB/s eta 0:00:01\r\u001b[K     |███████████████████████▏        | 122 kB 7.2 MB/s eta 0:00:01\r\u001b[K     |█████████████████████████       | 133 kB 7.2 MB/s eta 0:00:01\r\u001b[K     |███████████████████████████     | 143 kB 7.2 MB/s eta 0:00:01\r\u001b[K     |█████████████████████████████   | 153 kB 7.2 MB/s eta 0:00:01\r\u001b[K     |██████████████████████████████▉ | 163 kB 7.2 MB/s eta 0:00:01\r\u001b[K     |████████████████████████████████| 170 kB 7.2 MB/s \n",
            "\u001b[?25hBuilding wheels for collected packages: emoji\n",
            "  Building wheel for emoji (setup.py) ... \u001b[?25l\u001b[?25hdone\n",
            "  Created wheel for emoji: filename=emoji-1.6.1-py3-none-any.whl size=169314 sha256=a20cea4e5063bec137387c0b447e44418c15edb64312610a20eca1db1ab67dc8\n",
            "  Stored in directory: /root/.cache/pip/wheels/ea/5f/d3/03d313ddb3c2a1a427bb4690f1621eea60fe6f2a30cc95940f\n",
            "Successfully built emoji\n",
            "Installing collected packages: emoji\n",
            "Successfully installed emoji-1.6.1\n"
          ]
        }
      ]
    },
    {
      "cell_type": "code",
      "metadata": {
        "id": "v3Tkq9m_M99n"
      },
      "source": [
        "import configparser\n",
        "import os\n",
        "\n",
        "from langdetect import detect\n",
        "\n",
        "import boto3\n",
        "\n",
        "import pandas as pd\n",
        "import json\n",
        "import tarfile  # for unzipping files\n",
        "\n",
        "from emoji import demojize\n",
        "\n",
        "from platform import python_version"
      ],
      "execution_count": 138,
      "outputs": []
    },
    {
      "cell_type": "code",
      "source": [
        "print(python_version())"
      ],
      "metadata": {
        "colab": {
          "base_uri": "https://localhost:8080/"
        },
        "id": "M0ZW91hJM7f0",
        "outputId": "ca329e0f-9eec-4468-ab7b-33e6db176536"
      },
      "execution_count": 4,
      "outputs": [
        {
          "output_type": "stream",
          "name": "stdout",
          "text": [
            "3.7.12\n"
          ]
        }
      ]
    },
    {
      "cell_type": "code",
      "source": [
        "pd.set_option('display.max_colwidth', None)"
      ],
      "metadata": {
        "id": "FDtfzSIFPhOQ"
      },
      "execution_count": 5,
      "outputs": []
    },
    {
      "cell_type": "code",
      "source": [
        "# https://github.com/chonchonj23/Scrapped_Comments_YouTube_Covid/blob/master/YouTube_comments.xlsx\n",
        "\n",
        "df_excel = pd.read_excel('YouTube_comments.xlsx', index_col=0)  "
      ],
      "metadata": {
        "id": "cv7MKFEGX5Kl"
      },
      "execution_count": 77,
      "outputs": []
    },
    {
      "cell_type": "code",
      "source": [
        "df_excel.count()"
      ],
      "metadata": {
        "colab": {
          "base_uri": "https://localhost:8080/"
        },
        "id": "43UjJ3w4ad5z",
        "outputId": "9963593a-e058-4bdb-f85f-5c227cf352c0"
      },
      "execution_count": 139,
      "outputs": [
        {
          "output_type": "execute_result",
          "data": {
            "text/plain": [
              "Search_Keywords    2917\n",
              "urls               2917\n",
              "Title              2910\n",
              "Comments           2909\n",
              "dtype: int64"
            ]
          },
          "metadata": {},
          "execution_count": 139
        }
      ]
    },
    {
      "cell_type": "code",
      "source": [
        "df_excel.head()"
      ],
      "metadata": {
        "colab": {
          "base_uri": "https://localhost:8080/",
          "height": 544
        },
        "id": "q03caAsUYAbk",
        "outputId": "e4e5bd45-2413-495c-dc3d-fe99018ea61a"
      },
      "execution_count": 78,
      "outputs": [
        {
          "output_type": "execute_result",
          "data": {
            "text/html": [
              "<div>\n",
              "<style scoped>\n",
              "    .dataframe tbody tr th:only-of-type {\n",
              "        vertical-align: middle;\n",
              "    }\n",
              "\n",
              "    .dataframe tbody tr th {\n",
              "        vertical-align: top;\n",
              "    }\n",
              "\n",
              "    .dataframe thead th {\n",
              "        text-align: right;\n",
              "    }\n",
              "</style>\n",
              "<table border=\"1\" class=\"dataframe\">\n",
              "  <thead>\n",
              "    <tr style=\"text-align: right;\">\n",
              "      <th></th>\n",
              "      <th>Search_Keywords</th>\n",
              "      <th>urls</th>\n",
              "      <th>Title</th>\n",
              "      <th>Comments</th>\n",
              "    </tr>\n",
              "  </thead>\n",
              "  <tbody>\n",
              "    <tr>\n",
              "      <th>0</th>\n",
              "      <td>MACAU COVID</td>\n",
              "      <td>https://www.youtube.com/watch?v=cKFQ3Tq1E1I</td>\n",
              "      <td>NaN</td>\n",
              "      <td>NaN</td>\n",
              "    </tr>\n",
              "    <tr>\n",
              "      <th>1</th>\n",
              "      <td>MACAU COVID</td>\n",
              "      <td>https://www.youtube.com/watch?v=8hxxdfprEsY</td>\n",
              "      <td>Macau turns into ghost town amid Wuhan virus cases</td>\n",
              "      <td>I guess this is a good sign isnt it?, at least it shows people have safety awareness and dont venture around while there is risk of infection. No praise for the local population?.</td>\n",
              "    </tr>\n",
              "    <tr>\n",
              "      <th>2</th>\n",
              "      <td>MACAU COVID</td>\n",
              "      <td>https://www.youtube.com/watch?v=8hxxdfprEsY</td>\n",
              "      <td>Macau turns into ghost town amid Wuhan virus cases</td>\n",
              "      <td>Still beautiful.</td>\n",
              "    </tr>\n",
              "    <tr>\n",
              "      <th>3</th>\n",
              "      <td>MACAU COVID</td>\n",
              "      <td>https://www.youtube.com/watch?v=8hxxdfprEsY</td>\n",
              "      <td>Macau turns into ghost town amid Wuhan virus cases</td>\n",
              "      <td>Macao drives on the left? Being a former Portuguese colony, I thought it would drive on the right, as China and Portugal do.</td>\n",
              "    </tr>\n",
              "    <tr>\n",
              "      <th>4</th>\n",
              "      <td>MACAU COVID</td>\n",
              "      <td>https://www.youtube.com/watch?v=8hxxdfprEsY</td>\n",
              "      <td>Macau turns into ghost town amid Wuhan virus cases</td>\n",
              "      <td>While large cities throughout the world will be less populated, people will return or frick to the cities.  This coronavirus incident marks a demographic shift in the world.  People will be more cautious of any physical contacrs.  Tourism - the sex industry, gambling in casinoes, shopping, even sn open marketplaces, etc. - all will be less crowded.  On the other hand, the on-line business activities will be boomed more than ever.  Definitely the entire world will change to a large extent.  This also means that many traditional celebrations, sports, theaters will change its course.  The thtill of oeople-to-people contact will be diminished.  Even if the cure for the coronavirus is found, the fear of the physical contact csnnot be erased from the psychological memory.  Gone are the good old days.</td>\n",
              "    </tr>\n",
              "  </tbody>\n",
              "</table>\n",
              "</div>"
            ],
            "text/plain": [
              "  Search_Keywords  ...                                                                                                                                                                                                                                                                                                                                                                                                                                                                                                                                                                                                                                                                                                                                                                                                                               Comments\n",
              "0     MACAU COVID  ...                                                                                                                                                                                                                                                                                                                                                                                                                                                                                                                                                                                                                                                                                                                                                                                                                                    NaN\n",
              "1     MACAU COVID  ...                                                                                                                                                                                                                                                                                                                                                                                                                                                                                                                                                                                                                                                    I guess this is a good sign isnt it?, at least it shows people have safety awareness and dont venture around while there is risk of infection. No praise for the local population?.\n",
              "2     MACAU COVID  ...                                                                                                                                                                                                                                                                                                                                                                                                                                                                                                                                                                                                                                                                                                                                                                                                                       Still beautiful.\n",
              "3     MACAU COVID  ...                                                                                                                                                                                                                                                                                                                                                                                                                                                                                                                                                                                                                                                                                                           Macao drives on the left? Being a former Portuguese colony, I thought it would drive on the right, as China and Portugal do.\n",
              "4     MACAU COVID  ...  While large cities throughout the world will be less populated, people will return or frick to the cities.  This coronavirus incident marks a demographic shift in the world.  People will be more cautious of any physical contacrs.  Tourism - the sex industry, gambling in casinoes, shopping, even sn open marketplaces, etc. - all will be less crowded.  On the other hand, the on-line business activities will be boomed more than ever.  Definitely the entire world will change to a large extent.  This also means that many traditional celebrations, sports, theaters will change its course.  The thtill of oeople-to-people contact will be diminished.  Even if the cure for the coronavirus is found, the fear of the physical contact csnnot be erased from the psychological memory.  Gone are the good old days.\n",
              "\n",
              "[5 rows x 4 columns]"
            ]
          },
          "metadata": {},
          "execution_count": 78
        }
      ]
    },
    {
      "cell_type": "code",
      "source": [
        "df_k = df_excel[df_excel['Comments'].notnull()]\n",
        "df = df_k.rename({'Comments': 'Youtube Comments'}, axis=1)\n",
        "df['Youtube Comments'] = df['Youtube Comments'].apply(lambda x: demojize(x))"
      ],
      "metadata": {
        "id": "QgGzFYtsZx_c"
      },
      "execution_count": 10,
      "outputs": []
    },
    {
      "cell_type": "code",
      "source": [
        "# df = df.reset_index()"
      ],
      "metadata": {
        "id": "O2N1fkNMcIsn"
      },
      "execution_count": 83,
      "outputs": []
    },
    {
      "cell_type": "code",
      "source": [
        "df.head(5)"
      ],
      "metadata": {
        "colab": {
          "base_uri": "https://localhost:8080/",
          "height": 680
        },
        "id": "WNpw8HWncf4G",
        "outputId": "992b266c-6aa3-417b-f26d-5266928170e5"
      },
      "execution_count": 84,
      "outputs": [
        {
          "output_type": "execute_result",
          "data": {
            "text/html": [
              "<div>\n",
              "<style scoped>\n",
              "    .dataframe tbody tr th:only-of-type {\n",
              "        vertical-align: middle;\n",
              "    }\n",
              "\n",
              "    .dataframe tbody tr th {\n",
              "        vertical-align: top;\n",
              "    }\n",
              "\n",
              "    .dataframe thead th {\n",
              "        text-align: right;\n",
              "    }\n",
              "</style>\n",
              "<table border=\"1\" class=\"dataframe\">\n",
              "  <thead>\n",
              "    <tr style=\"text-align: right;\">\n",
              "      <th></th>\n",
              "      <th>index</th>\n",
              "      <th>Search_Keywords</th>\n",
              "      <th>urls</th>\n",
              "      <th>Title</th>\n",
              "      <th>Youtube Comments</th>\n",
              "      <th>language</th>\n",
              "    </tr>\n",
              "  </thead>\n",
              "  <tbody>\n",
              "    <tr>\n",
              "      <th>0</th>\n",
              "      <td>1</td>\n",
              "      <td>MACAU COVID</td>\n",
              "      <td>https://www.youtube.com/watch?v=8hxxdfprEsY</td>\n",
              "      <td>Macau turns into ghost town amid Wuhan virus cases</td>\n",
              "      <td>I guess this is a good sign isnt it?, at least it shows people have safety awareness and dont venture around while there is risk of infection. No praise for the local population?.</td>\n",
              "      <td>True</td>\n",
              "    </tr>\n",
              "    <tr>\n",
              "      <th>1</th>\n",
              "      <td>2</td>\n",
              "      <td>MACAU COVID</td>\n",
              "      <td>https://www.youtube.com/watch?v=8hxxdfprEsY</td>\n",
              "      <td>Macau turns into ghost town amid Wuhan virus cases</td>\n",
              "      <td>Still beautiful.</td>\n",
              "      <td>True</td>\n",
              "    </tr>\n",
              "    <tr>\n",
              "      <th>2</th>\n",
              "      <td>3</td>\n",
              "      <td>MACAU COVID</td>\n",
              "      <td>https://www.youtube.com/watch?v=8hxxdfprEsY</td>\n",
              "      <td>Macau turns into ghost town amid Wuhan virus cases</td>\n",
              "      <td>Macao drives on the left? Being a former Portuguese colony, I thought it would drive on the right, as China and Portugal do.</td>\n",
              "      <td>True</td>\n",
              "    </tr>\n",
              "    <tr>\n",
              "      <th>3</th>\n",
              "      <td>4</td>\n",
              "      <td>MACAU COVID</td>\n",
              "      <td>https://www.youtube.com/watch?v=8hxxdfprEsY</td>\n",
              "      <td>Macau turns into ghost town amid Wuhan virus cases</td>\n",
              "      <td>While large cities throughout the world will be less populated, people will return or frick to the cities.  This coronavirus incident marks a demographic shift in the world.  People will be more cautious of any physical contacrs.  Tourism  the sex industry, gambling in casinoes, shopping, even sn open marketplaces, etc.  all will be less crowded.  On the other hand, the online business activities will be boomed more than ever.  Definitely the entire world will change to a large extent.  This also means that many traditional celebrations, sports, theaters will change its course.  The thtill of oeopletopeople contact will be diminished.  Even if the cure for the coronavirus is found, the fear of the physical contact csnnot be erased from the psychological memory.  Gone are the good old days.</td>\n",
              "      <td>True</td>\n",
              "    </tr>\n",
              "    <tr>\n",
              "      <th>4</th>\n",
              "      <td>5</td>\n",
              "      <td>MACAU COVID</td>\n",
              "      <td>https://www.youtube.com/watch?v=8hxxdfprEsY</td>\n",
              "      <td>Macau turns into ghost town amid Wuhan virus cases</td>\n",
              "      <td>I don't see why it is called a ghost town</td>\n",
              "      <td>True</td>\n",
              "    </tr>\n",
              "  </tbody>\n",
              "</table>\n",
              "</div>"
            ],
            "text/plain": [
              "   index  ... language\n",
              "0      1  ...     True\n",
              "1      2  ...     True\n",
              "2      3  ...     True\n",
              "3      4  ...     True\n",
              "4      5  ...     True\n",
              "\n",
              "[5 rows x 6 columns]"
            ]
          },
          "metadata": {},
          "execution_count": 84
        }
      ]
    },
    {
      "cell_type": "markdown",
      "source": [
        "## Another data source"
      ],
      "metadata": {
        "id": "IwETc2CJwvAs"
      }
    },
    {
      "cell_type": "code",
      "metadata": {
        "id": "EcZsgQb9M99o"
      },
      "source": [
        "# Comments extracted from Youtube videos via Youtube API \n",
        "# link_to_data = \"https://raw.githubusercontent.com/chonchonj23/Comments-data-from-Youtube-videos-related-to-COVID-19/main/Youtube_Comments_Combined_16Dec.csv\"\n",
        "\n",
        "link_to_data = \"https://raw.githubusercontent.com/chonchonj23/COVID-comments-in-Youtube/master/Youtube_COVID_Comments_16Dec_All_v2.csv\"\n",
        "\n",
        "df = pd.read_csv(link_to_data, header = 0, dtype = 'str', encoding = 'utf-8', lineterminator='\\n') "
      ],
      "execution_count": 5,
      "outputs": []
    },
    {
      "cell_type": "markdown",
      "source": [
        "## Continued"
      ],
      "metadata": {
        "id": "DX9Ek7Xlw79j"
      }
    },
    {
      "cell_type": "code",
      "source": [
        "df.count()"
      ],
      "metadata": {
        "colab": {
          "base_uri": "https://localhost:8080/"
        },
        "id": "1PhzuBLQirSN",
        "outputId": "9141bb31-f7c1-46d7-9545-bcf67bb4359d"
      },
      "execution_count": 11,
      "outputs": [
        {
          "output_type": "execute_result",
          "data": {
            "text/plain": [
              "Search_Keywords     2909\n",
              "urls                2909\n",
              "Title               2909\n",
              "Youtube Comments    2909\n",
              "dtype: int64"
            ]
          },
          "metadata": {},
          "execution_count": 11
        }
      ]
    },
    {
      "cell_type": "code",
      "source": [
        "# to identify English Comments\n",
        "\n",
        "def isEnglish(s):\n",
        "  try:\n",
        "      # s.isalpha()\n",
        "      # return s.isalpha()\n",
        "      s.isascii()\n",
        "      return s.isascii()\n",
        "\n",
        "  except Exception:\n",
        "      return False"
      ],
      "metadata": {
        "id": "N1fpc0yhDvV4"
      },
      "execution_count": 12,
      "outputs": []
    },
    {
      "cell_type": "code",
      "source": [
        "# isEnglish(\"’\")"
      ],
      "metadata": {
        "id": "2dkCnjIxZnUv"
      },
      "execution_count": 41,
      "outputs": []
    },
    {
      "cell_type": "code",
      "source": [
        "# isEnglish(\"I thought they were “vaccinated” when will y’all wake up. What’s the point of the vaccination if you’re just going to quarantine everyone\")"
      ],
      "metadata": {
        "id": "1VGkRrSzavIs"
      },
      "execution_count": null,
      "outputs": []
    },
    {
      "cell_type": "code",
      "source": [
        "df['Youtube Comments'] = df['Youtube Comments'].str.strip()\n",
        "\n",
        "df['language'] = df['Youtube Comments'].replace(\"’\", \"\", regex=True)\\\n",
        ".replace(\"1:1\", \"\", regex=True).replace(\"…\", \"\", regex=True).replace(\"”\", \"\", regex=True)\\\n",
        ".replace(\"’\", \"\", regex=True).replace(\"“\", \"\", regex=True)\\\n",
        ".replace(\"\\n\", \";\", regex=True).replace(\"\\t\", \";\", regex=True).replace(\"\\r\", \";\", regex=True).replace(\"\\v\", \";\", regex=True)\\\n",
        ".replace(\"-\", \"\", regex=True).replace(\"      \", \"\", regex=True)\\\n",
        ".apply(lambda x: isEnglish(x))"
      ],
      "metadata": {
        "id": "L7dMZtSU9_v1"
      },
      "execution_count": 85,
      "outputs": []
    },
    {
      "cell_type": "code",
      "source": [
        "# .replace(\"/n\", \";\", regex=True).replace(\"/t\", \";\", regex=True).replace(\"/r\", \";\", regex=True).replace(\"/v\", \";\", regex=True)\\\n",
        "\n",
        "df['Youtube Comments'] = df['Youtube Comments'].replace(\"’\", \"\", regex=True)\\\n",
        ".replace(\"1:1\", \"\", regex=True).replace(\"…\", \"\", regex=True).replace(\"”\", \"\", regex=True)\\\n",
        ".replace(\"’\", \"\", regex=True).replace(\"“\", \"\", regex=True)\\\n",
        ".replace(\"\\n\", \";\", regex=True).replace(\"\\t\", \";\", regex=True).replace(\"\\r\", \";\", regex=True).replace(\"\\v\", \";\", regex=True)\\\n",
        ".replace(\"-\", \"\", regex=True).replace(\"      \", \"\", regex=True)"
      ],
      "metadata": {
        "id": "Mw5phrcm-uNF"
      },
      "execution_count": 86,
      "outputs": []
    },
    {
      "cell_type": "code",
      "source": [
        "df.head(5)"
      ],
      "metadata": {
        "colab": {
          "base_uri": "https://localhost:8080/",
          "height": 680
        },
        "id": "njpJFBlE9gy1",
        "outputId": "0eca9661-18c8-429e-b967-5489529be90b"
      },
      "execution_count": 87,
      "outputs": [
        {
          "output_type": "execute_result",
          "data": {
            "text/html": [
              "<div>\n",
              "<style scoped>\n",
              "    .dataframe tbody tr th:only-of-type {\n",
              "        vertical-align: middle;\n",
              "    }\n",
              "\n",
              "    .dataframe tbody tr th {\n",
              "        vertical-align: top;\n",
              "    }\n",
              "\n",
              "    .dataframe thead th {\n",
              "        text-align: right;\n",
              "    }\n",
              "</style>\n",
              "<table border=\"1\" class=\"dataframe\">\n",
              "  <thead>\n",
              "    <tr style=\"text-align: right;\">\n",
              "      <th></th>\n",
              "      <th>index</th>\n",
              "      <th>Search_Keywords</th>\n",
              "      <th>urls</th>\n",
              "      <th>Title</th>\n",
              "      <th>Youtube Comments</th>\n",
              "      <th>language</th>\n",
              "    </tr>\n",
              "  </thead>\n",
              "  <tbody>\n",
              "    <tr>\n",
              "      <th>0</th>\n",
              "      <td>1</td>\n",
              "      <td>MACAU COVID</td>\n",
              "      <td>https://www.youtube.com/watch?v=8hxxdfprEsY</td>\n",
              "      <td>Macau turns into ghost town amid Wuhan virus cases</td>\n",
              "      <td>I guess this is a good sign isnt it?, at least it shows people have safety awareness and dont venture around while there is risk of infection. No praise for the local population?.</td>\n",
              "      <td>True</td>\n",
              "    </tr>\n",
              "    <tr>\n",
              "      <th>1</th>\n",
              "      <td>2</td>\n",
              "      <td>MACAU COVID</td>\n",
              "      <td>https://www.youtube.com/watch?v=8hxxdfprEsY</td>\n",
              "      <td>Macau turns into ghost town amid Wuhan virus cases</td>\n",
              "      <td>Still beautiful.</td>\n",
              "      <td>True</td>\n",
              "    </tr>\n",
              "    <tr>\n",
              "      <th>2</th>\n",
              "      <td>3</td>\n",
              "      <td>MACAU COVID</td>\n",
              "      <td>https://www.youtube.com/watch?v=8hxxdfprEsY</td>\n",
              "      <td>Macau turns into ghost town amid Wuhan virus cases</td>\n",
              "      <td>Macao drives on the left? Being a former Portuguese colony, I thought it would drive on the right, as China and Portugal do.</td>\n",
              "      <td>True</td>\n",
              "    </tr>\n",
              "    <tr>\n",
              "      <th>3</th>\n",
              "      <td>4</td>\n",
              "      <td>MACAU COVID</td>\n",
              "      <td>https://www.youtube.com/watch?v=8hxxdfprEsY</td>\n",
              "      <td>Macau turns into ghost town amid Wuhan virus cases</td>\n",
              "      <td>While large cities throughout the world will be less populated, people will return or frick to the cities.  This coronavirus incident marks a demographic shift in the world.  People will be more cautious of any physical contacrs.  Tourism  the sex industry, gambling in casinoes, shopping, even sn open marketplaces, etc.  all will be less crowded.  On the other hand, the online business activities will be boomed more than ever.  Definitely the entire world will change to a large extent.  This also means that many traditional celebrations, sports, theaters will change its course.  The thtill of oeopletopeople contact will be diminished.  Even if the cure for the coronavirus is found, the fear of the physical contact csnnot be erased from the psychological memory.  Gone are the good old days.</td>\n",
              "      <td>True</td>\n",
              "    </tr>\n",
              "    <tr>\n",
              "      <th>4</th>\n",
              "      <td>5</td>\n",
              "      <td>MACAU COVID</td>\n",
              "      <td>https://www.youtube.com/watch?v=8hxxdfprEsY</td>\n",
              "      <td>Macau turns into ghost town amid Wuhan virus cases</td>\n",
              "      <td>I don't see why it is called a ghost town</td>\n",
              "      <td>True</td>\n",
              "    </tr>\n",
              "  </tbody>\n",
              "</table>\n",
              "</div>"
            ],
            "text/plain": [
              "   index  ... language\n",
              "0      1  ...     True\n",
              "1      2  ...     True\n",
              "2      3  ...     True\n",
              "3      4  ...     True\n",
              "4      5  ...     True\n",
              "\n",
              "[5 rows x 6 columns]"
            ]
          },
          "metadata": {},
          "execution_count": 87
        }
      ]
    },
    {
      "cell_type": "code",
      "source": [
        "df[df['Youtube Comments'].str.contains(\"\\n\")]"
      ],
      "metadata": {
        "colab": {
          "base_uri": "https://localhost:8080/",
          "height": 49
        },
        "id": "cB5glm9L8jSK",
        "outputId": "7bc3aefa-9db7-408c-e9a0-8b5abbf0d567"
      },
      "execution_count": 16,
      "outputs": [
        {
          "output_type": "execute_result",
          "data": {
            "text/html": [
              "<div>\n",
              "<style scoped>\n",
              "    .dataframe tbody tr th:only-of-type {\n",
              "        vertical-align: middle;\n",
              "    }\n",
              "\n",
              "    .dataframe tbody tr th {\n",
              "        vertical-align: top;\n",
              "    }\n",
              "\n",
              "    .dataframe thead th {\n",
              "        text-align: right;\n",
              "    }\n",
              "</style>\n",
              "<table border=\"1\" class=\"dataframe\">\n",
              "  <thead>\n",
              "    <tr style=\"text-align: right;\">\n",
              "      <th></th>\n",
              "      <th>Search_Keywords</th>\n",
              "      <th>urls</th>\n",
              "      <th>Title</th>\n",
              "      <th>Youtube Comments</th>\n",
              "      <th>language</th>\n",
              "    </tr>\n",
              "  </thead>\n",
              "  <tbody>\n",
              "  </tbody>\n",
              "</table>\n",
              "</div>"
            ],
            "text/plain": [
              "Empty DataFrame\n",
              "Columns: [Search_Keywords, urls, Title, Youtube Comments, language]\n",
              "Index: []"
            ]
          },
          "metadata": {},
          "execution_count": 16
        }
      ]
    },
    {
      "cell_type": "code",
      "source": [
        "df[df['Youtube Comments'].str.contains(\"\\r\")]"
      ],
      "metadata": {
        "colab": {
          "base_uri": "https://localhost:8080/",
          "height": 49
        },
        "id": "9x8dp2869QhX",
        "outputId": "f652d01b-d9af-4598-db4c-c68a16fc1464"
      },
      "execution_count": 233,
      "outputs": [
        {
          "output_type": "execute_result",
          "data": {
            "text/html": [
              "<div>\n",
              "<style scoped>\n",
              "    .dataframe tbody tr th:only-of-type {\n",
              "        vertical-align: middle;\n",
              "    }\n",
              "\n",
              "    .dataframe tbody tr th {\n",
              "        vertical-align: top;\n",
              "    }\n",
              "\n",
              "    .dataframe thead th {\n",
              "        text-align: right;\n",
              "    }\n",
              "</style>\n",
              "<table border=\"1\" class=\"dataframe\">\n",
              "  <thead>\n",
              "    <tr style=\"text-align: right;\">\n",
              "      <th></th>\n",
              "      <th>Search_Keywords</th>\n",
              "      <th>urls</th>\n",
              "      <th>Title</th>\n",
              "      <th>Youtube Comments</th>\n",
              "      <th>language</th>\n",
              "    </tr>\n",
              "  </thead>\n",
              "  <tbody>\n",
              "  </tbody>\n",
              "</table>\n",
              "</div>"
            ],
            "text/plain": [
              "Empty DataFrame\n",
              "Columns: [Search_Keywords, urls, Title, Youtube Comments, language]\n",
              "Index: []"
            ]
          },
          "metadata": {},
          "execution_count": 233
        }
      ]
    },
    {
      "cell_type": "code",
      "source": [
        "df[df['Youtube Comments'].str.contains(\"\\v\")]"
      ],
      "metadata": {
        "colab": {
          "base_uri": "https://localhost:8080/",
          "height": 49
        },
        "id": "lLEdmjQx85la",
        "outputId": "5de84140-3729-4f48-cfe5-8a1c5f1c9370"
      },
      "execution_count": 234,
      "outputs": [
        {
          "output_type": "execute_result",
          "data": {
            "text/html": [
              "<div>\n",
              "<style scoped>\n",
              "    .dataframe tbody tr th:only-of-type {\n",
              "        vertical-align: middle;\n",
              "    }\n",
              "\n",
              "    .dataframe tbody tr th {\n",
              "        vertical-align: top;\n",
              "    }\n",
              "\n",
              "    .dataframe thead th {\n",
              "        text-align: right;\n",
              "    }\n",
              "</style>\n",
              "<table border=\"1\" class=\"dataframe\">\n",
              "  <thead>\n",
              "    <tr style=\"text-align: right;\">\n",
              "      <th></th>\n",
              "      <th>Search_Keywords</th>\n",
              "      <th>urls</th>\n",
              "      <th>Title</th>\n",
              "      <th>Youtube Comments</th>\n",
              "      <th>language</th>\n",
              "    </tr>\n",
              "  </thead>\n",
              "  <tbody>\n",
              "  </tbody>\n",
              "</table>\n",
              "</div>"
            ],
            "text/plain": [
              "Empty DataFrame\n",
              "Columns: [Search_Keywords, urls, Title, Youtube Comments, language]\n",
              "Index: []"
            ]
          },
          "metadata": {},
          "execution_count": 234
        }
      ]
    },
    {
      "cell_type": "code",
      "metadata": {
        "id": "kiSFGXXqRRi-"
      },
      "source": [
        "# df[300000:300005]"
      ],
      "execution_count": 44,
      "outputs": []
    },
    {
      "cell_type": "code",
      "source": [
        "df[df['language']==True].count()"
      ],
      "metadata": {
        "colab": {
          "base_uri": "https://localhost:8080/"
        },
        "id": "qAW9jWvgIaZl",
        "outputId": "910af09c-e6cb-4ca1-890e-42d2898f2a3a"
      },
      "execution_count": 88,
      "outputs": [
        {
          "output_type": "execute_result",
          "data": {
            "text/plain": [
              "index               2784\n",
              "Search_Keywords     2784\n",
              "urls                2784\n",
              "Title               2784\n",
              "Youtube Comments    2784\n",
              "language            2784\n",
              "dtype: int64"
            ]
          },
          "metadata": {},
          "execution_count": 88
        }
      ]
    },
    {
      "cell_type": "code",
      "source": [
        "df[df['language']==False].count()"
      ],
      "metadata": {
        "colab": {
          "base_uri": "https://localhost:8080/"
        },
        "id": "0CMGMMS3Hw5d",
        "outputId": "91f58f50-39e9-4d1b-9872-16cad09cabd2"
      },
      "execution_count": 89,
      "outputs": [
        {
          "output_type": "execute_result",
          "data": {
            "text/plain": [
              "index               125\n",
              "Search_Keywords     125\n",
              "urls                125\n",
              "Title               125\n",
              "Youtube Comments    125\n",
              "language            125\n",
              "dtype: int64"
            ]
          },
          "metadata": {},
          "execution_count": 89
        }
      ]
    },
    {
      "cell_type": "code",
      "source": [
        "df[df['language']==False].tail(4)"
      ],
      "metadata": {
        "colab": {
          "base_uri": "https://localhost:8080/",
          "height": 530
        },
        "id": "7kY9Yw-ISUj5",
        "outputId": "0d9e73cb-45ec-4ceb-9b46-ba71d80ddd30"
      },
      "execution_count": 90,
      "outputs": [
        {
          "output_type": "execute_result",
          "data": {
            "text/html": [
              "<div>\n",
              "<style scoped>\n",
              "    .dataframe tbody tr th:only-of-type {\n",
              "        vertical-align: middle;\n",
              "    }\n",
              "\n",
              "    .dataframe tbody tr th {\n",
              "        vertical-align: top;\n",
              "    }\n",
              "\n",
              "    .dataframe thead th {\n",
              "        text-align: right;\n",
              "    }\n",
              "</style>\n",
              "<table border=\"1\" class=\"dataframe\">\n",
              "  <thead>\n",
              "    <tr style=\"text-align: right;\">\n",
              "      <th></th>\n",
              "      <th>index</th>\n",
              "      <th>Search_Keywords</th>\n",
              "      <th>urls</th>\n",
              "      <th>Title</th>\n",
              "      <th>Youtube Comments</th>\n",
              "      <th>language</th>\n",
              "    </tr>\n",
              "  </thead>\n",
              "  <tbody>\n",
              "    <tr>\n",
              "      <th>2830</th>\n",
              "      <td>2836</td>\n",
              "      <td>MACAU COVID CASINO</td>\n",
              "      <td>https://www.youtube.com/watch?v=ayasTHA3MQo</td>\n",
              "      <td>Macau police arrest Suncity casino junket boss in crackdown on online gambling</td>\n",
              "      <td>ถึงเวลาปฎิวัติอุตสาหกรรมการพนัน;ในหม่าเก๊า ที่ส่งผลเสียให้ระบบการเงิน ทั้งภายในประเทศ และระหว่างประเทศ การฟอกเงิน ด้วยระบบดิจิทัลเสมือนจริง โดยอิงอาศัยรูปแบบของเกมส์ และการพนันต่างๆ มันผิดกฎหมายการเงินอย่างร้ายแรง;ส่งผลกระทบต่อระบบสากล;องค์กรตำรวจได้ผู้บังคับบัญชามีศักยภาพ ทำงานตรงเป้าหมายมากๆค่ะ</td>\n",
              "      <td>False</td>\n",
              "    </tr>\n",
              "    <tr>\n",
              "      <th>2834</th>\n",
              "      <td>2840</td>\n",
              "      <td>MACAU COVID CASINO</td>\n",
              "      <td>https://www.youtube.com/watch?v=ayasTHA3MQo</td>\n",
              "      <td>Macau police arrest Suncity casino junket boss in crackdown on online gambling</td>\n",
              "      <td>Firmen die Werbung bezahlen bei YouTube müssen verzweifelt sein  , jedes versuch etwas zu kuchen auf YouTube wird automatisch mit 20 bis 30 werbe versuche gekoppelt. Aber  von Firmen die meine Privatsphäre ausrauben mit Agresive Werbung  werbe ich niemals einkaufen  , NIEMALS .</td>\n",
              "      <td>False</td>\n",
              "    </tr>\n",
              "    <tr>\n",
              "      <th>2859</th>\n",
              "      <td>2865</td>\n",
              "      <td>MACAU COVID CASINO</td>\n",
              "      <td>https://www.youtube.com/watch?v=ayasTHA3MQo</td>\n",
              "      <td>Macau police arrest Suncity casino junket boss in crackdown on online gambling</td>\n",
              "      <td>小賭怡情大賭家破人亡?病態賭徒中國大陸有不少偷渡都要來賭博?澳門經濟依賴賭博愈病愈深?Little gamble joyful big gamble lost family dead relative ? Sick behaviour gambler full of Mainland China wanted to gamble needed illegal immigration ?Macau economic reliable with gamble industry more illness more deeper ?</td>\n",
              "      <td>False</td>\n",
              "    </tr>\n",
              "    <tr>\n",
              "      <th>2876</th>\n",
              "      <td>2882</td>\n",
              "      <td>MACAU COVID CASINO</td>\n",
              "      <td>https://www.youtube.com/watch?v=8hxxdfprEsY</td>\n",
              "      <td>Macau turns into ghost town amid Wuhan virus cases</td>\n",
              "      <td>#不能不明白 https://www.blogdog.in/post/thingstodoinhongkongamidcoronavirusfear</td>\n",
              "      <td>False</td>\n",
              "    </tr>\n",
              "  </tbody>\n",
              "</table>\n",
              "</div>"
            ],
            "text/plain": [
              "      index  ... language\n",
              "2830   2836  ...    False\n",
              "2834   2840  ...    False\n",
              "2859   2865  ...    False\n",
              "2876   2882  ...    False\n",
              "\n",
              "[4 rows x 6 columns]"
            ]
          },
          "metadata": {},
          "execution_count": 90
        }
      ]
    },
    {
      "cell_type": "code",
      "source": [
        "df_keep = df[df['language']==True]"
      ],
      "metadata": {
        "id": "rlEw9EZRWuTY"
      },
      "execution_count": 91,
      "outputs": []
    },
    {
      "cell_type": "code",
      "source": [
        "df_keep.count()"
      ],
      "metadata": {
        "colab": {
          "base_uri": "https://localhost:8080/"
        },
        "id": "ekeAXha5WudE",
        "outputId": "3374d53b-8a2b-4770-8c5b-e3f3543bae82"
      },
      "execution_count": 92,
      "outputs": [
        {
          "output_type": "execute_result",
          "data": {
            "text/plain": [
              "index               2784\n",
              "Search_Keywords     2784\n",
              "urls                2784\n",
              "Title               2784\n",
              "Youtube Comments    2784\n",
              "language            2784\n",
              "dtype: int64"
            ]
          },
          "metadata": {},
          "execution_count": 92
        }
      ]
    },
    {
      "cell_type": "code",
      "source": [
        "df_keep = df_keep.reset_index()"
      ],
      "metadata": {
        "id": "I28hLy0UAofL"
      },
      "execution_count": 93,
      "outputs": []
    },
    {
      "cell_type": "code",
      "source": [
        "df_keep.head()"
      ],
      "metadata": {
        "colab": {
          "base_uri": "https://localhost:8080/",
          "height": 765
        },
        "id": "kwQtkeTdAyyy",
        "outputId": "b1bf29b4-3bb0-47e6-d431-9be2970814a6"
      },
      "execution_count": 94,
      "outputs": [
        {
          "output_type": "execute_result",
          "data": {
            "text/html": [
              "<div>\n",
              "<style scoped>\n",
              "    .dataframe tbody tr th:only-of-type {\n",
              "        vertical-align: middle;\n",
              "    }\n",
              "\n",
              "    .dataframe tbody tr th {\n",
              "        vertical-align: top;\n",
              "    }\n",
              "\n",
              "    .dataframe thead th {\n",
              "        text-align: right;\n",
              "    }\n",
              "</style>\n",
              "<table border=\"1\" class=\"dataframe\">\n",
              "  <thead>\n",
              "    <tr style=\"text-align: right;\">\n",
              "      <th></th>\n",
              "      <th>level_0</th>\n",
              "      <th>index</th>\n",
              "      <th>Search_Keywords</th>\n",
              "      <th>urls</th>\n",
              "      <th>Title</th>\n",
              "      <th>Youtube Comments</th>\n",
              "      <th>language</th>\n",
              "    </tr>\n",
              "  </thead>\n",
              "  <tbody>\n",
              "    <tr>\n",
              "      <th>0</th>\n",
              "      <td>0</td>\n",
              "      <td>1</td>\n",
              "      <td>MACAU COVID</td>\n",
              "      <td>https://www.youtube.com/watch?v=8hxxdfprEsY</td>\n",
              "      <td>Macau turns into ghost town amid Wuhan virus cases</td>\n",
              "      <td>I guess this is a good sign isnt it?, at least it shows people have safety awareness and dont venture around while there is risk of infection. No praise for the local population?.</td>\n",
              "      <td>True</td>\n",
              "    </tr>\n",
              "    <tr>\n",
              "      <th>1</th>\n",
              "      <td>1</td>\n",
              "      <td>2</td>\n",
              "      <td>MACAU COVID</td>\n",
              "      <td>https://www.youtube.com/watch?v=8hxxdfprEsY</td>\n",
              "      <td>Macau turns into ghost town amid Wuhan virus cases</td>\n",
              "      <td>Still beautiful.</td>\n",
              "      <td>True</td>\n",
              "    </tr>\n",
              "    <tr>\n",
              "      <th>2</th>\n",
              "      <td>2</td>\n",
              "      <td>3</td>\n",
              "      <td>MACAU COVID</td>\n",
              "      <td>https://www.youtube.com/watch?v=8hxxdfprEsY</td>\n",
              "      <td>Macau turns into ghost town amid Wuhan virus cases</td>\n",
              "      <td>Macao drives on the left? Being a former Portuguese colony, I thought it would drive on the right, as China and Portugal do.</td>\n",
              "      <td>True</td>\n",
              "    </tr>\n",
              "    <tr>\n",
              "      <th>3</th>\n",
              "      <td>3</td>\n",
              "      <td>4</td>\n",
              "      <td>MACAU COVID</td>\n",
              "      <td>https://www.youtube.com/watch?v=8hxxdfprEsY</td>\n",
              "      <td>Macau turns into ghost town amid Wuhan virus cases</td>\n",
              "      <td>While large cities throughout the world will be less populated, people will return or frick to the cities.  This coronavirus incident marks a demographic shift in the world.  People will be more cautious of any physical contacrs.  Tourism  the sex industry, gambling in casinoes, shopping, even sn open marketplaces, etc.  all will be less crowded.  On the other hand, the online business activities will be boomed more than ever.  Definitely the entire world will change to a large extent.  This also means that many traditional celebrations, sports, theaters will change its course.  The thtill of oeopletopeople contact will be diminished.  Even if the cure for the coronavirus is found, the fear of the physical contact csnnot be erased from the psychological memory.  Gone are the good old days.</td>\n",
              "      <td>True</td>\n",
              "    </tr>\n",
              "    <tr>\n",
              "      <th>4</th>\n",
              "      <td>4</td>\n",
              "      <td>5</td>\n",
              "      <td>MACAU COVID</td>\n",
              "      <td>https://www.youtube.com/watch?v=8hxxdfprEsY</td>\n",
              "      <td>Macau turns into ghost town amid Wuhan virus cases</td>\n",
              "      <td>I don't see why it is called a ghost town</td>\n",
              "      <td>True</td>\n",
              "    </tr>\n",
              "  </tbody>\n",
              "</table>\n",
              "</div>"
            ],
            "text/plain": [
              "   level_0  ...  language\n",
              "0        0  ...      True\n",
              "1        1  ...      True\n",
              "2        2  ...      True\n",
              "3        3  ...      True\n",
              "4        4  ...      True\n",
              "\n",
              "[5 rows x 7 columns]"
            ]
          },
          "metadata": {},
          "execution_count": 94
        }
      ]
    },
    {
      "cell_type": "code",
      "source": [
        "# export data for uploading to S3 later\n",
        "\n",
        "local_file_name = 'youtube_covid_comments_only2.csv'\n",
        "\n",
        "df_output = df_keep['Youtube Comments']\n",
        "\n",
        "df_output.to_csv(local_file_name, encoding = 'utf-8', index = False, header = False)"
      ],
      "metadata": {
        "id": "h7OtOMucW3Gu"
      },
      "execution_count": 21,
      "outputs": []
    },
    {
      "cell_type": "code",
      "source": [
        "# check volume\n",
        "\n",
        "# df_chk = pd.read_csv(local_file_name, header = 0, dtype = 'str', encoding = 'utf-8', lineterminator='\\n') \n",
        "df_chk = pd.read_csv(local_file_name, header = None, names = ['Youtube Comments'], \n",
        "                     dtype = 'str', encoding = 'utf-8', lineterminator='\\n') "
      ],
      "metadata": {
        "id": "6VbILNdhNm8T"
      },
      "execution_count": 22,
      "outputs": []
    },
    {
      "cell_type": "code",
      "source": [
        "df_chk.count()"
      ],
      "metadata": {
        "colab": {
          "base_uri": "https://localhost:8080/"
        },
        "id": "iCBJ7DjYlijU",
        "outputId": "7d6d1a0c-e6df-4adb-8e7e-f339c06fc87c"
      },
      "execution_count": 23,
      "outputs": [
        {
          "output_type": "execute_result",
          "data": {
            "text/plain": [
              "Youtube Comments    2784\n",
              "dtype: int64"
            ]
          },
          "metadata": {},
          "execution_count": 23
        }
      ]
    },
    {
      "cell_type": "code",
      "source": [
        "df_chk[df_chk['Youtube Comments'].str.contains(\"\\r\")]"
      ],
      "metadata": {
        "colab": {
          "base_uri": "https://localhost:8080/",
          "height": 49
        },
        "id": "sT5OzFeT956H",
        "outputId": "4e6fb3be-4e4e-4bd4-ec22-710d3cfffed0"
      },
      "execution_count": 24,
      "outputs": [
        {
          "output_type": "execute_result",
          "data": {
            "text/html": [
              "<div>\n",
              "<style scoped>\n",
              "    .dataframe tbody tr th:only-of-type {\n",
              "        vertical-align: middle;\n",
              "    }\n",
              "\n",
              "    .dataframe tbody tr th {\n",
              "        vertical-align: top;\n",
              "    }\n",
              "\n",
              "    .dataframe thead th {\n",
              "        text-align: right;\n",
              "    }\n",
              "</style>\n",
              "<table border=\"1\" class=\"dataframe\">\n",
              "  <thead>\n",
              "    <tr style=\"text-align: right;\">\n",
              "      <th></th>\n",
              "      <th>Youtube Comments</th>\n",
              "    </tr>\n",
              "  </thead>\n",
              "  <tbody>\n",
              "  </tbody>\n",
              "</table>\n",
              "</div>"
            ],
            "text/plain": [
              "Empty DataFrame\n",
              "Columns: [Youtube Comments]\n",
              "Index: []"
            ]
          },
          "metadata": {},
          "execution_count": 24
        }
      ]
    },
    {
      "cell_type": "code",
      "source": [
        "df_chk[df_chk['Youtube Comments'].str.contains(\"\\n\")]"
      ],
      "metadata": {
        "colab": {
          "base_uri": "https://localhost:8080/",
          "height": 49
        },
        "id": "z3hp71pU_CrV",
        "outputId": "34a035ba-796c-401f-a0a1-a40d6a3e581c"
      },
      "execution_count": 25,
      "outputs": [
        {
          "output_type": "execute_result",
          "data": {
            "text/html": [
              "<div>\n",
              "<style scoped>\n",
              "    .dataframe tbody tr th:only-of-type {\n",
              "        vertical-align: middle;\n",
              "    }\n",
              "\n",
              "    .dataframe tbody tr th {\n",
              "        vertical-align: top;\n",
              "    }\n",
              "\n",
              "    .dataframe thead th {\n",
              "        text-align: right;\n",
              "    }\n",
              "</style>\n",
              "<table border=\"1\" class=\"dataframe\">\n",
              "  <thead>\n",
              "    <tr style=\"text-align: right;\">\n",
              "      <th></th>\n",
              "      <th>Youtube Comments</th>\n",
              "    </tr>\n",
              "  </thead>\n",
              "  <tbody>\n",
              "  </tbody>\n",
              "</table>\n",
              "</div>"
            ],
            "text/plain": [
              "Empty DataFrame\n",
              "Columns: [Youtube Comments]\n",
              "Index: []"
            ]
          },
          "metadata": {},
          "execution_count": 25
        }
      ]
    },
    {
      "cell_type": "code",
      "source": [
        "df_chk[df_chk['Youtube Comments'].str.contains(\"\\v\")]"
      ],
      "metadata": {
        "colab": {
          "base_uri": "https://localhost:8080/",
          "height": 49
        },
        "id": "0zIpfp1e_E9g",
        "outputId": "473ca7ad-872b-4840-cab2-248c7c78d544"
      },
      "execution_count": 26,
      "outputs": [
        {
          "output_type": "execute_result",
          "data": {
            "text/html": [
              "<div>\n",
              "<style scoped>\n",
              "    .dataframe tbody tr th:only-of-type {\n",
              "        vertical-align: middle;\n",
              "    }\n",
              "\n",
              "    .dataframe tbody tr th {\n",
              "        vertical-align: top;\n",
              "    }\n",
              "\n",
              "    .dataframe thead th {\n",
              "        text-align: right;\n",
              "    }\n",
              "</style>\n",
              "<table border=\"1\" class=\"dataframe\">\n",
              "  <thead>\n",
              "    <tr style=\"text-align: right;\">\n",
              "      <th></th>\n",
              "      <th>Youtube Comments</th>\n",
              "    </tr>\n",
              "  </thead>\n",
              "  <tbody>\n",
              "  </tbody>\n",
              "</table>\n",
              "</div>"
            ],
            "text/plain": [
              "Empty DataFrame\n",
              "Columns: [Youtube Comments]\n",
              "Index: []"
            ]
          },
          "metadata": {},
          "execution_count": 26
        }
      ]
    },
    {
      "cell_type": "code",
      "source": [
        "df_chk.head()"
      ],
      "metadata": {
        "colab": {
          "base_uri": "https://localhost:8080/",
          "height": 272
        },
        "id": "nSezi01E3Erc",
        "outputId": "b7d6f668-7ed5-4414-bfb2-974bcc2a119d"
      },
      "execution_count": 251,
      "outputs": [
        {
          "output_type": "execute_result",
          "data": {
            "text/html": [
              "<div>\n",
              "<style scoped>\n",
              "    .dataframe tbody tr th:only-of-type {\n",
              "        vertical-align: middle;\n",
              "    }\n",
              "\n",
              "    .dataframe tbody tr th {\n",
              "        vertical-align: top;\n",
              "    }\n",
              "\n",
              "    .dataframe thead th {\n",
              "        text-align: right;\n",
              "    }\n",
              "</style>\n",
              "<table border=\"1\" class=\"dataframe\">\n",
              "  <thead>\n",
              "    <tr style=\"text-align: right;\">\n",
              "      <th></th>\n",
              "      <th>Youtube Comments</th>\n",
              "    </tr>\n",
              "  </thead>\n",
              "  <tbody>\n",
              "    <tr>\n",
              "      <th>0</th>\n",
              "      <td>I guess this is a good sign isnt it?, at least it shows people have safety awareness and dont venture around while there is risk of infection. No praise for the local population?.</td>\n",
              "    </tr>\n",
              "    <tr>\n",
              "      <th>1</th>\n",
              "      <td>Still beautiful.</td>\n",
              "    </tr>\n",
              "    <tr>\n",
              "      <th>2</th>\n",
              "      <td>Macao drives on the left? Being a former Portuguese colony, I thought it would drive on the right, as China and Portugal do.</td>\n",
              "    </tr>\n",
              "    <tr>\n",
              "      <th>3</th>\n",
              "      <td>While large cities throughout the world will be less populated, people will return or frick to the cities.  This coronavirus incident marks a demographic shift in the world.  People will be more cautious of any physical contacrs.  Tourism  the sex industry, gambling in casinoes, shopping, even sn open marketplaces, etc.  all will be less crowded.  On the other hand, the online business activities will be boomed more than ever.  Definitely the entire world will change to a large extent.  This also means that many traditional celebrations, sports, theaters will change its course.  The thtill of oeopletopeople contact will be diminished.  Even if the cure for the coronavirus is found, the fear of the physical contact csnnot be erased from the psychological memory.  Gone are the good old days.</td>\n",
              "    </tr>\n",
              "    <tr>\n",
              "      <th>4</th>\n",
              "      <td>I don't see why it is called a ghost town</td>\n",
              "    </tr>\n",
              "  </tbody>\n",
              "</table>\n",
              "</div>"
            ],
            "text/plain": [
              "                                                                                                                                                                                                                                                                                                                                                                                                                                                                                                                                                                                                                                                                                                                                                                                                                   Youtube Comments\n",
              "0                                                                                                                                                                                                                                                                                                                                                                                                                                                                                                                                                                                                                                               I guess this is a good sign isnt it?, at least it shows people have safety awareness and dont venture around while there is risk of infection. No praise for the local population?.\n",
              "1                                                                                                                                                                                                                                                                                                                                                                                                                                                                                                                                                                                                                                                                                                                                                                                                                  Still beautiful.\n",
              "2                                                                                                                                                                                                                                                                                                                                                                                                                                                                                                                                                                                                                                                                                                      Macao drives on the left? Being a former Portuguese colony, I thought it would drive on the right, as China and Portugal do.\n",
              "3  While large cities throughout the world will be less populated, people will return or frick to the cities.  This coronavirus incident marks a demographic shift in the world.  People will be more cautious of any physical contacrs.  Tourism  the sex industry, gambling in casinoes, shopping, even sn open marketplaces, etc.  all will be less crowded.  On the other hand, the online business activities will be boomed more than ever.  Definitely the entire world will change to a large extent.  This also means that many traditional celebrations, sports, theaters will change its course.  The thtill of oeopletopeople contact will be diminished.  Even if the cure for the coronavirus is found, the fear of the physical contact csnnot be erased from the psychological memory.  Gone are the good old days.\n",
              "4                                                                                                                                                                                                                                                                                                                                                                                                                                                                                                                                                                                                                                                                                                                                                                                         I don't see why it is called a ghost town"
            ]
          },
          "metadata": {},
          "execution_count": 251
        }
      ]
    },
    {
      "cell_type": "markdown",
      "metadata": {
        "id": "CIdHEiNJM99q"
      },
      "source": [
        "## Real Time Single Record Processing"
      ]
    },
    {
      "cell_type": "markdown",
      "metadata": {
        "id": "32NjB1sMM99q"
      },
      "source": [
        "Using this type of processing you can analyze one piece of text of up to 5K bytes long."
      ]
    },
    {
      "cell_type": "code",
      "metadata": {
        "colab": {
          "base_uri": "https://localhost:8080/"
        },
        "id": "d-kBQOtmM99r",
        "outputId": "c47455fa-6eaf-4f78-d7e2-aa715ff615af"
      },
      "source": [
        "# Select a single tweet\n",
        "# text = df.loc[1].item()\n",
        "\n",
        "text = df_keep['Youtube Comments'].iloc[2500]\n",
        "print(text)"
      ],
      "execution_count": 32,
      "outputs": [
        {
          "output_type": "stream",
          "name": "stdout",
          "text": [
            "I am a Macau citizen and dead ass they give all Macau citizen 10000 dollars (in USD it is about 1.6 k dollars) every year and the best thing is every year they up it by 100 USD\n"
          ]
        }
      ]
    },
    {
      "cell_type": "code",
      "metadata": {
        "id": "GswdbnvaZaWp"
      },
      "source": [
        "config = configparser.ConfigParser()\n",
        "config.read_file(open('credentials_Chon_HKDL.cfg'))\n",
        "# config.read_file(open('credentials.cfg'))\n",
        "# config.read_file(open('your_aws_credentials.cfg'))\n",
        "\n",
        "os.environ[\"AWS_ACCESS_KEY_ID\"]= config['AWS']['AWS_ACCESS_KEY_ID']\n",
        "os.environ[\"AWS_SECRET_ACCESS_KEY\"]= config['AWS']['AWS_SECRET_ACCESS_KEY']"
      ],
      "execution_count": 33,
      "outputs": []
    },
    {
      "cell_type": "code",
      "metadata": {
        "id": "L4DFwvPBaXRS"
      },
      "source": [
        "# ad hoc check\n",
        "# os.environ[\"AWS_ACCESS_KEY_ID\"]"
      ],
      "execution_count": 34,
      "outputs": []
    },
    {
      "cell_type": "code",
      "metadata": {
        "id": "PCwtsEVnM99s"
      },
      "source": [
        "#initialize Comprehend module\n",
        "comprehend = boto3.client(service_name='comprehend', \n",
        "                          region_name='us-west-2',  \n",
        "                          aws_access_key_id=os.environ[\"AWS_ACCESS_KEY_ID\"],\n",
        "                          aws_secret_access_key=os.environ[\"AWS_SECRET_ACCESS_KEY\"] )"
      ],
      "execution_count": 35,
      "outputs": []
    },
    {
      "cell_type": "code",
      "metadata": {
        "colab": {
          "base_uri": "https://localhost:8080/"
        },
        "id": "hBZWx70RM99s",
        "outputId": "5f0f08b5-a8b2-4b03-d109-1315cd588aaf"
      },
      "source": [
        "# Run sentiment analysis\n",
        "sentiment_output = comprehend.detect_sentiment(Text=text, LanguageCode='en')\n",
        "# Output\n",
        "sentiment_output"
      ],
      "execution_count": 36,
      "outputs": [
        {
          "output_type": "execute_result",
          "data": {
            "text/plain": [
              "{'ResponseMetadata': {'HTTPHeaders': {'content-length': '156',\n",
              "   'content-type': 'application/x-amz-json-1.1',\n",
              "   'date': 'Fri, 17 Dec 2021 15:08:04 GMT',\n",
              "   'x-amzn-requestid': 'c48d172c-e589-449a-8b0c-6e607e8ef6dd'},\n",
              "  'HTTPStatusCode': 200,\n",
              "  'RequestId': 'c48d172c-e589-449a-8b0c-6e607e8ef6dd',\n",
              "  'RetryAttempts': 0},\n",
              " 'Sentiment': 'MIXED',\n",
              " 'SentimentScore': {'Mixed': 0.4026598334312439,\n",
              "  'Negative': 0.274492472410202,\n",
              "  'Neutral': 0.13114459812641144,\n",
              "  'Positive': 0.1917031705379486}}"
            ]
          },
          "metadata": {},
          "execution_count": 36
        }
      ]
    },
    {
      "cell_type": "code",
      "metadata": {
        "colab": {
          "base_uri": "https://localhost:8080/"
        },
        "id": "aEwlW7pe-lXg",
        "outputId": "b6d4a7cb-edd5-4cc7-cf9a-29e4c77bffec"
      },
      "source": [
        "# check orginal tweet\n",
        "print(text)"
      ],
      "execution_count": 37,
      "outputs": [
        {
          "output_type": "stream",
          "name": "stdout",
          "text": [
            "I am a Macau citizen and dead ass they give all Macau citizen 10000 dollars (in USD it is about 1.6 k dollars) every year and the best thing is every year they up it by 100 USD\n"
          ]
        }
      ]
    },
    {
      "cell_type": "code",
      "metadata": {
        "colab": {
          "base_uri": "https://localhost:8080/"
        },
        "id": "FouXK7EyueQg",
        "outputId": "99ab32b7-d9a2-4f81-fd95-50f5c45ea382"
      },
      "source": [
        "# check Dictionary elements in sentiment_batch\n",
        "keys_list = list(sentiment_output)\n",
        "\n",
        "for i in range(len(sentiment_output)):\n",
        "  a_key = keys_list[i]\n",
        "  print(a_key)"
      ],
      "execution_count": null,
      "outputs": [
        {
          "output_type": "stream",
          "name": "stdout",
          "text": [
            "Sentiment\n",
            "SentimentScore\n",
            "ResponseMetadata\n"
          ]
        }
      ]
    },
    {
      "cell_type": "code",
      "metadata": {
        "colab": {
          "base_uri": "https://localhost:8080/",
          "height": 35
        },
        "id": "YaSP24zU-M8Q",
        "outputId": "57ce2c25-3859-47be-df7f-fe9108e00262"
      },
      "source": [
        "#Get Sentiment prediction\n",
        "sentiment_output['Sentiment']"
      ],
      "execution_count": 147,
      "outputs": [
        {
          "output_type": "execute_result",
          "data": {
            "application/vnd.google.colaboratory.intrinsic+json": {
              "type": "string"
            },
            "text/plain": [
              "'MIXED'"
            ]
          },
          "metadata": {},
          "execution_count": 147
        }
      ]
    },
    {
      "cell_type": "code",
      "metadata": {
        "id": "zxlliHpAM99t",
        "colab": {
          "base_uri": "https://localhost:8080/"
        },
        "outputId": "b0a7e7ec-6c46-43cb-c38e-39492617ca92"
      },
      "source": [
        "#Get Sentiment Confidence Score\n",
        "sentiment_output['SentimentScore']"
      ],
      "execution_count": 148,
      "outputs": [
        {
          "output_type": "execute_result",
          "data": {
            "text/plain": [
              "{'Mixed': 0.4026598334312439,\n",
              " 'Negative': 0.274492472410202,\n",
              " 'Neutral': 0.13114459812641144,\n",
              " 'Positive': 0.1917031705379486}"
            ]
          },
          "metadata": {},
          "execution_count": 148
        }
      ]
    },
    {
      "cell_type": "markdown",
      "metadata": {
        "id": "V_0dZG3YM99u"
      },
      "source": [
        "## Real-Time Batch Processing"
      ]
    },
    {
      "cell_type": "markdown",
      "metadata": {
        "id": "EhN_K_gIM99u"
      },
      "source": [
        "Up to 25 documents of up to 5,000 bytes each, submitted in a list."
      ]
    },
    {
      "cell_type": "code",
      "metadata": {
        "id": "Blyk7pKMM99u"
      },
      "source": [
        "# Create a batch\n",
        "# text_list = list(df.walmart_tweets[75:100])\n",
        "text_list = list(df_keep['Youtube Comments'][2000:2025])\n",
        "\n",
        "#Run a sentiment batch\n",
        "sentiment_batch = comprehend.batch_detect_sentiment(TextList=text_list,\n",
        "                                                    LanguageCode='en')"
      ],
      "execution_count": 90,
      "outputs": []
    },
    {
      "cell_type": "code",
      "metadata": {
        "colab": {
          "base_uri": "https://localhost:8080/"
        },
        "id": "1zo_PjdM8nMR",
        "outputId": "690a8a9e-e9d3-4440-ff1e-a3d241d89e22"
      },
      "source": [
        "# print the first 10 documents in the batch\n",
        "for i in range(5):\n",
        "  print(text_list[i])"
      ],
      "execution_count": 91,
      "outputs": [
        {
          "output_type": "stream",
          "name": "stdout",
          "text": [
            "Excuse me will you report/watch indian protests against/versus CAA LAW (5 FEB,INDIA)   Request to Arirang news to cover indian conditions/situations by CAA LAW\n",
            "  PUBLIC IS DISCOMFORT\n",
            "Bring people to home and leave Chinese people there because they cause the problem by eating stupid staff. :pouting_face: Omg !!!\n",
            "I never knew that Chinese like to Gamble !\n",
            "People are dying and u guys r worried for the casino. Cumon.....\n",
            "Peasant wet market bat seller holed up somewhere in China thinking, \"What the Hell have I done?\"\n"
          ]
        }
      ]
    },
    {
      "cell_type": "code",
      "metadata": {
        "colab": {
          "base_uri": "https://localhost:8080/"
        },
        "id": "38GAO3H-tJD4",
        "outputId": "33f55497-717d-4bf6-c97b-87c2b50149f4"
      },
      "source": [
        "len(sentiment_batch)"
      ],
      "execution_count": 92,
      "outputs": [
        {
          "output_type": "execute_result",
          "data": {
            "text/plain": [
              "3"
            ]
          },
          "metadata": {},
          "execution_count": 92
        }
      ]
    },
    {
      "cell_type": "code",
      "metadata": {
        "colab": {
          "base_uri": "https://localhost:8080/"
        },
        "id": "9YCXD2q2ttD6",
        "outputId": "c6a73a2e-e6cf-4f71-8814-b0b37849ba9b"
      },
      "source": [
        "# check Dictionary elements in sentiment_batch\n",
        "keys_list = list(sentiment_batch)\n",
        "\n",
        "for i in range(len(sentiment_batch)):\n",
        "  a_key = keys_list[i]\n",
        "  print(a_key)"
      ],
      "execution_count": 209,
      "outputs": [
        {
          "output_type": "stream",
          "name": "stdout",
          "text": [
            "ResultList\n",
            "ErrorList\n",
            "ResponseMetadata\n"
          ]
        }
      ]
    },
    {
      "cell_type": "code",
      "metadata": {
        "colab": {
          "base_uri": "https://localhost:8080/"
        },
        "id": "DEYcGZxh_xrS",
        "outputId": "66246555-5992-4aa7-b75c-02a175847952"
      },
      "source": [
        "type(sentiment_batch['ResultList'])"
      ],
      "execution_count": 94,
      "outputs": [
        {
          "output_type": "execute_result",
          "data": {
            "text/plain": [
              "list"
            ]
          },
          "metadata": {},
          "execution_count": 94
        }
      ]
    },
    {
      "cell_type": "code",
      "metadata": {
        "colab": {
          "base_uri": "https://localhost:8080/"
        },
        "id": "gTAyvb3I__Ip",
        "outputId": "82c04073-7329-4d97-b94c-f524297eec55"
      },
      "source": [
        "len(sentiment_batch['ResultList'])"
      ],
      "execution_count": 93,
      "outputs": [
        {
          "output_type": "execute_result",
          "data": {
            "text/plain": [
              "25"
            ]
          },
          "metadata": {},
          "execution_count": 93
        }
      ]
    },
    {
      "cell_type": "code",
      "metadata": {
        "colab": {
          "base_uri": "https://localhost:8080/"
        },
        "id": "EkjzzoyDtFK3",
        "outputId": "43da524d-3e60-4447-f8c7-8b254590573b"
      },
      "source": [
        "len(sentiment_batch['ErrorList'])"
      ],
      "execution_count": 217,
      "outputs": [
        {
          "output_type": "execute_result",
          "data": {
            "text/plain": [
              "0"
            ]
          },
          "metadata": {},
          "execution_count": 217
        }
      ]
    },
    {
      "cell_type": "code",
      "metadata": {
        "colab": {
          "base_uri": "https://localhost:8080/"
        },
        "id": "4gZAp4guuWV8",
        "outputId": "0a8fb598-3a42-4ef6-fa6d-ecbc8ca078cd"
      },
      "source": [
        "len(sentiment_batch['ResponseMetadata'])"
      ],
      "execution_count": 218,
      "outputs": [
        {
          "output_type": "execute_result",
          "data": {
            "text/plain": [
              "4"
            ]
          },
          "metadata": {},
          "execution_count": 218
        }
      ]
    },
    {
      "cell_type": "code",
      "metadata": {
        "colab": {
          "base_uri": "https://localhost:8080/"
        },
        "id": "ZuSL0KiM_fd_",
        "outputId": "9c81a69a-006b-4c8d-8941-ea6da237e7a5"
      },
      "source": [
        "print(text_list[4])"
      ],
      "execution_count": 95,
      "outputs": [
        {
          "output_type": "stream",
          "name": "stdout",
          "text": [
            "Peasant wet market bat seller holed up somewhere in China thinking, \"What the Hell have I done?\"\n"
          ]
        }
      ]
    },
    {
      "cell_type": "code",
      "metadata": {
        "colab": {
          "base_uri": "https://localhost:8080/"
        },
        "id": "hh93XngKM99v",
        "outputId": "8f4a946a-ea2d-4889-c081-dda149e7345b"
      },
      "source": [
        "# Check the 5th document in batch submitted\n",
        "sentiment_batch['ResultList'][4]"
      ],
      "execution_count": 96,
      "outputs": [
        {
          "output_type": "execute_result",
          "data": {
            "text/plain": [
              "{'Index': 4,\n",
              " 'Sentiment': 'NEGATIVE',\n",
              " 'SentimentScore': {'Mixed': 0.0003691824385896325,\n",
              "  'Negative': 0.8612551689147949,\n",
              "  'Neutral': 0.13579010963439941,\n",
              "  'Positive': 0.002585510490462184}}"
            ]
          },
          "metadata": {},
          "execution_count": 96
        }
      ]
    },
    {
      "cell_type": "markdown",
      "metadata": {
        "id": "metwFZduM99w"
      },
      "source": [
        "Parse the results into a dataframe"
      ]
    },
    {
      "cell_type": "code",
      "metadata": {
        "id": "hvp4ulFgM99w"
      },
      "source": [
        "def parse_sentiment_batch(data):\n",
        "    df = pd.DataFrame([item['SentimentScore'] for item in data['ResultList']])\n",
        "    df['Sentiment'] = [item.get('Sentiment') for item in data['ResultList']]\n",
        "    df['Index'] = [item.get('Index') for item in data['ResultList']]\n",
        "    df.set_index('Index', inplace = True)\n",
        "    \n",
        "    return(df)"
      ],
      "execution_count": 136,
      "outputs": []
    },
    {
      "cell_type": "code",
      "metadata": {
        "colab": {
          "base_uri": "https://localhost:8080/",
          "height": 164
        },
        "id": "csf5hrofM99w",
        "outputId": "011f8dc3-97b6-40be-940b-26ff76692f13"
      },
      "source": [
        "parse_sentiment_batch(sentiment_batch).head()"
      ],
      "execution_count": 137,
      "outputs": [
        {
          "output_type": "error",
          "ename": "NameError",
          "evalue": "ignored",
          "traceback": [
            "\u001b[0;31m---------------------------------------------------------------------------\u001b[0m",
            "\u001b[0;31mNameError\u001b[0m                                 Traceback (most recent call last)",
            "\u001b[0;32m<ipython-input-137-45cf22645bfa>\u001b[0m in \u001b[0;36m<module>\u001b[0;34m()\u001b[0m\n\u001b[0;32m----> 1\u001b[0;31m \u001b[0mparse_sentiment_batch\u001b[0m\u001b[0;34m(\u001b[0m\u001b[0msentiment_batch\u001b[0m\u001b[0;34m)\u001b[0m\u001b[0;34m.\u001b[0m\u001b[0mhead\u001b[0m\u001b[0;34m(\u001b[0m\u001b[0;34m)\u001b[0m\u001b[0;34m\u001b[0m\u001b[0;34m\u001b[0m\u001b[0m\n\u001b[0m",
            "\u001b[0;31mNameError\u001b[0m: name 'sentiment_batch' is not defined"
          ]
        }
      ]
    },
    {
      "cell_type": "code",
      "source": [
        "# df.walmart_tweets[78]"
      ],
      "metadata": {
        "id": "V4KavzucSfQB"
      },
      "execution_count": 41,
      "outputs": []
    },
    {
      "cell_type": "code",
      "metadata": {
        "id": "l7FzmUwj0i9D"
      },
      "source": [
        "batch_results = parse_sentiment_batch(sentiment_batch)"
      ],
      "execution_count": 99,
      "outputs": []
    },
    {
      "cell_type": "code",
      "metadata": {
        "id": "qh26UpIs0Tm7"
      },
      "source": [
        "batch_results['Text'] = text_list"
      ],
      "execution_count": 100,
      "outputs": []
    },
    {
      "cell_type": "code",
      "metadata": {
        "colab": {
          "base_uri": "https://localhost:8080/",
          "height": 269
        },
        "id": "niDQx4741uht",
        "outputId": "5fa83f07-185e-4bf6-a4de-74f6c3fec3c8"
      },
      "source": [
        "batch_results.head()"
      ],
      "execution_count": 101,
      "outputs": [
        {
          "output_type": "execute_result",
          "data": {
            "text/html": [
              "<div>\n",
              "<style scoped>\n",
              "    .dataframe tbody tr th:only-of-type {\n",
              "        vertical-align: middle;\n",
              "    }\n",
              "\n",
              "    .dataframe tbody tr th {\n",
              "        vertical-align: top;\n",
              "    }\n",
              "\n",
              "    .dataframe thead th {\n",
              "        text-align: right;\n",
              "    }\n",
              "</style>\n",
              "<table border=\"1\" class=\"dataframe\">\n",
              "  <thead>\n",
              "    <tr style=\"text-align: right;\">\n",
              "      <th></th>\n",
              "      <th>Positive</th>\n",
              "      <th>Negative</th>\n",
              "      <th>Neutral</th>\n",
              "      <th>Mixed</th>\n",
              "      <th>Sentiment</th>\n",
              "      <th>Text</th>\n",
              "    </tr>\n",
              "    <tr>\n",
              "      <th>Index</th>\n",
              "      <th></th>\n",
              "      <th></th>\n",
              "      <th></th>\n",
              "      <th></th>\n",
              "      <th></th>\n",
              "      <th></th>\n",
              "    </tr>\n",
              "  </thead>\n",
              "  <tbody>\n",
              "    <tr>\n",
              "      <th>0</th>\n",
              "      <td>0.009532</td>\n",
              "      <td>0.162401</td>\n",
              "      <td>0.825694</td>\n",
              "      <td>0.002373</td>\n",
              "      <td>NEUTRAL</td>\n",
              "      <td>Excuse me will you report/watch indian protests against/versus CAA LAW (5 FEB,INDIA)   Request to Arirang news to cover indian conditions/situations by CAA LAW\\n  PUBLIC IS DISCOMFORT</td>\n",
              "    </tr>\n",
              "    <tr>\n",
              "      <th>1</th>\n",
              "      <td>0.005708</td>\n",
              "      <td>0.912839</td>\n",
              "      <td>0.068042</td>\n",
              "      <td>0.013412</td>\n",
              "      <td>NEGATIVE</td>\n",
              "      <td>Bring people to home and leave Chinese people there because they cause the problem by eating stupid staff. :pouting_face: Omg !!!</td>\n",
              "    </tr>\n",
              "    <tr>\n",
              "      <th>2</th>\n",
              "      <td>0.204757</td>\n",
              "      <td>0.183340</td>\n",
              "      <td>0.609889</td>\n",
              "      <td>0.002014</td>\n",
              "      <td>NEUTRAL</td>\n",
              "      <td>I never knew that Chinese like to Gamble !</td>\n",
              "    </tr>\n",
              "    <tr>\n",
              "      <th>3</th>\n",
              "      <td>0.005097</td>\n",
              "      <td>0.819282</td>\n",
              "      <td>0.151375</td>\n",
              "      <td>0.024246</td>\n",
              "      <td>NEGATIVE</td>\n",
              "      <td>People are dying and u guys r worried for the casino. Cumon.....</td>\n",
              "    </tr>\n",
              "    <tr>\n",
              "      <th>4</th>\n",
              "      <td>0.002586</td>\n",
              "      <td>0.861255</td>\n",
              "      <td>0.135790</td>\n",
              "      <td>0.000369</td>\n",
              "      <td>NEGATIVE</td>\n",
              "      <td>Peasant wet market bat seller holed up somewhere in China thinking, \"What the Hell have I done?\"</td>\n",
              "    </tr>\n",
              "  </tbody>\n",
              "</table>\n",
              "</div>"
            ],
            "text/plain": [
              "       Positive  ...                                                                                                                                                                                     Text\n",
              "Index            ...                                                                                                                                                                                         \n",
              "0      0.009532  ...  Excuse me will you report/watch indian protests against/versus CAA LAW (5 FEB,INDIA)   Request to Arirang news to cover indian conditions/situations by CAA LAW\\n  PUBLIC IS DISCOMFORT\n",
              "1      0.005708  ...                                                        Bring people to home and leave Chinese people there because they cause the problem by eating stupid staff. :pouting_face: Omg !!!\n",
              "2      0.204757  ...                                                                                                                                               I never knew that Chinese like to Gamble !\n",
              "3      0.005097  ...                                                                                                                         People are dying and u guys r worried for the casino. Cumon.....\n",
              "4      0.002586  ...                                                                                         Peasant wet market bat seller holed up somewhere in China thinking, \"What the Hell have I done?\"\n",
              "\n",
              "[5 rows x 6 columns]"
            ]
          },
          "metadata": {},
          "execution_count": 101
        }
      ]
    },
    {
      "cell_type": "markdown",
      "metadata": {
        "id": "y9XIU1TLM99x"
      },
      "source": [
        "## Asynchronous Processing"
      ]
    },
    {
      "cell_type": "markdown",
      "metadata": {
        "id": "Qk7thesfM99x"
      },
      "source": [
        "I highly recommend that you run at least one Comprehend job from the point and click interface, especially, if you are new to AWS. This way you can create a data access role (aka `data_access_role_arn`), and then you can simply copy the role name from the job description. \n",
        "\n",
        "You will need to create your S3 bucket through the web interface or through BOTO3 API.\n",
        "\n",
        "Note that I use different folders `s3://comprehend-api/input-data` and `s3://comprehend-api/results` for input data and results output. This way, your results are not going to get confused for inputs if you were to analyze all files in the folder."
      ]
    },
    {
      "cell_type": "markdown",
      "metadata": {
        "id": "RUfYTx1kM99x"
      },
      "source": [
        "#### Upload the data to S3"
      ]
    },
    {
      "cell_type": "code",
      "metadata": {
        "id": "1M4jNsNe9Y92"
      },
      "source": [
        "# define bucket varialbes\n",
        "local_file_name = 'youtube_covid_comments_only2.csv'\n",
        "\n",
        "# bucket_name = 'chon-hkdl-demo'\n",
        "bucket_name = 'chon-hkdl-private'\n",
        "\n",
        "aws_file_name = 'input-data-17Dec/scrapped_youtube_covid_comments_only2.csv'"
      ],
      "execution_count": 29,
      "outputs": []
    },
    {
      "cell_type": "code",
      "metadata": {
        "id": "TeY7M831M99y"
      },
      "source": [
        "# Upload file to specific location (only if data is not already there)\n",
        "\n",
        "s3 = boto3.client('s3')\n",
        "s3.upload_file(local_file_name, bucket_name, aws_file_name)"
      ],
      "execution_count": 253,
      "outputs": []
    },
    {
      "cell_type": "markdown",
      "metadata": {
        "id": "1MA18NE1M99y"
      },
      "source": [
        "#### Configure Sentiment Detection Job"
      ]
    },
    {
      "cell_type": "code",
      "metadata": {
        "id": "zx__--NvM99y"
      },
      "source": [
        "# Set these values before running the program\n",
        "# input_s3_url = 's3://YOUR_BUCKET_NAME/YOUR_BUCKET_FOLDER/FILE_NAME.csv' #folder, file or prefix\n",
        "input_s3_url = \"s3://chon-hkdl-private/input-data-17Dec/scrapped_youtube_covid_comments_only2.csv\"\n",
        "\n",
        "input_doc_format = 'ONE_DOC_PER_LINE'\n",
        "\n",
        "output_s3_url = 's3://chon-hkdl-private/results_17Dec_v6'\n",
        "\n",
        "# data_access_role_arn = \"arn:aws:iam::YOUR_ACCOUNT_NUMBER:role/service-role/YOUR_SERVICE_ROLE\"\n",
        "data_access_role_arn = \"arn:aws:iam::286289698935:role/ComprehendS3Role2\"\n",
        "\n",
        "\n",
        "# Set up job configuration\n",
        "input_data_config = {'S3Uri': input_s3_url, 'InputFormat': input_doc_format}\n",
        "output_data_config = {'S3Uri': output_s3_url}"
      ],
      "execution_count": 255,
      "outputs": []
    },
    {
      "cell_type": "markdown",
      "metadata": {
        "id": "Dq2Sxb8jM99y"
      },
      "source": [
        "#### Run the job"
      ]
    },
    {
      "cell_type": "code",
      "metadata": {
        "colab": {
          "base_uri": "https://localhost:8080/"
        },
        "id": "a9OAJAnkHiBX",
        "outputId": "09f37a0f-f197-4c17-adb2-967e59ad117f"
      },
      "source": [
        "# Start the client - Chon\n",
        "# comprehend = boto3.client('comprehend')\n",
        "\n",
        "comprehend = boto3.client(service_name='comprehend', \n",
        "                          region_name='us-west-2',\n",
        "                          aws_access_key_id=os.environ[\"AWS_ACCESS_KEY_ID\"],\n",
        "                          aws_secret_access_key=os.environ[\"AWS_SECRET_ACCESS_KEY\"] )\n",
        "\n",
        "\n",
        "# Begin a job to detect the topics in the document collection\n",
        "start_job_sentiment = comprehend.start_sentiment_detection_job(\n",
        "    InputDataConfig=input_data_config,\n",
        "    OutputDataConfig=output_data_config,\n",
        "    DataAccessRoleArn=data_access_role_arn,\n",
        "    LanguageCode='en',\n",
        "    JobName='Youtube_COVID_Comments')\n",
        "job_id = start_job_sentiment['JobId']\n",
        "print(f'Your Sentiment Detection JobID is: {job_id}')"
      ],
      "execution_count": 256,
      "outputs": [
        {
          "output_type": "stream",
          "name": "stdout",
          "text": [
            "Your Sentiment Detection JobID is: b841dd42927179a57826e4fbbf6abca0\n"
          ]
        }
      ]
    },
    {
      "cell_type": "markdown",
      "metadata": {
        "id": "8l4SPtovM99z"
      },
      "source": [
        "Your job runs asynchronously. **This may take several minutes to run.**\n",
        "When the status turns to COMPLETED, you can retrieve the results."
      ]
    },
    {
      "cell_type": "code",
      "metadata": {
        "colab": {
          "base_uri": "https://localhost:8080/"
        },
        "id": "0MSNSzSsIC4Y",
        "outputId": "d398da5d-6e26-4407-d75f-b8a728c18f63"
      },
      "source": [
        "# Retrieve information about the job - the job may take a while to run - Chon\n",
        "describe_result = comprehend.describe_sentiment_detection_job(JobId=job_id)\n",
        "job_status = describe_result['SentimentDetectionJobProperties']['JobStatus']\n",
        "print(f'Job Status: {job_status}')\n",
        "if job_status == 'FAILED':\n",
        "    print(f'Reason: {describe_result[\"SentimentDetectionJobProperties\"][\"Message\"]}')"
      ],
      "execution_count": 259,
      "outputs": [
        {
          "output_type": "stream",
          "name": "stdout",
          "text": [
            "Job Status: COMPLETED\n"
          ]
        }
      ]
    },
    {
      "cell_type": "code",
      "source": [
        "# Use job_id from previous run\n",
        "job_id = 'b841dd42927179a57826e4fbbf6abca0'"
      ],
      "metadata": {
        "id": "H6mNOYvUTiNO"
      },
      "execution_count": 30,
      "outputs": []
    },
    {
      "cell_type": "markdown",
      "metadata": {
        "id": "kG1V7Z93M990"
      },
      "source": [
        "#### Download the Results"
      ]
    },
    {
      "cell_type": "code",
      "metadata": {
        "colab": {
          "base_uri": "https://localhost:8080/",
          "height": 35
        },
        "id": "enqbUTgd9HKd",
        "outputId": "eaa78bd8-ab5c-4b14-961d-2ed0a9b754f3"
      },
      "source": [
        "#  The results are located here\n",
        "results_S3Url = comprehend.describe_sentiment_detection_job(\n",
        "    JobId=job_id)['SentimentDetectionJobProperties']['OutputDataConfig']['S3Uri']\n",
        "\n",
        "# Your Output S3 Url\n",
        "results_S3Url"
      ],
      "execution_count": 38,
      "outputs": [
        {
          "output_type": "execute_result",
          "data": {
            "application/vnd.google.colaboratory.intrinsic+json": {
              "type": "string"
            },
            "text/plain": [
              "'s3://chon-hkdl-private/results_17Dec_v6/286289698935-SENTIMENT-b841dd42927179a57826e4fbbf6abca0/output/output.tar.gz'"
            ]
          },
          "metadata": {},
          "execution_count": 38
        }
      ]
    },
    {
      "cell_type": "markdown",
      "metadata": {
        "id": "RxTS1sf0M990"
      },
      "source": [
        "If you don't know where your results are, get a listing of your bucket"
      ]
    },
    {
      "cell_type": "code",
      "metadata": {
        "id": "pfQAzmUsM990"
      },
      "source": [
        "# List all files and folders in the bucket\n",
        "def s3_bucket_list_obj(bucket):\n",
        "    s3 = boto3.resource('s3')\n",
        "    bucket = s3.Bucket(bucket)\n",
        "    for obj in bucket.objects.all():\n",
        "        print(obj.key)"
      ],
      "execution_count": 39,
      "outputs": []
    },
    {
      "cell_type": "code",
      "metadata": {
        "colab": {
          "base_uri": "https://localhost:8080/"
        },
        "id": "dLYpaRbB9RFe",
        "outputId": "0e65138c-e708-42e4-e6c4-9d6916218086"
      },
      "source": [
        "# List all files\n",
        "s3_bucket_list_obj(bucket_name)"
      ],
      "execution_count": 40,
      "outputs": [
        {
          "output_type": "stream",
          "name": "stdout",
          "text": [
            "input-data-17Dec/scrapped_youtube_covid_comments.csv\n",
            "input-data-17Dec/scrapped_youtube_covid_comments_only.csv\n",
            "input-data-17Dec/scrapped_youtube_covid_comments_only2.csv\n",
            "input-data-17Dec/scrapped_youtube_covid_comments_v2.csv\n",
            "results_17Dec_v3/.write_access_check_file.temp\n",
            "results_17Dec_v3/286289698935-SENTIMENT-1e37037b05665f38ed3f7b873414f0f1/output/output.tar.gz\n",
            "results_17Dec_v4/.write_access_check_file.temp\n",
            "results_17Dec_v4/286289698935-SENTIMENT-34b2e20874fa47d335a407df24662f03/output/output.tar.gz\n",
            "results_17Dec_v5/.write_access_check_file.temp\n",
            "results_17Dec_v5/286289698935-SENTIMENT-5cba097c08e856531d9b75144c8867d2/output/output.tar.gz\n",
            "results_17Dec_v6/.write_access_check_file.temp\n",
            "results_17Dec_v6/286289698935-SENTIMENT-b841dd42927179a57826e4fbbf6abca0/output/output.tar.gz\n"
          ]
        }
      ]
    },
    {
      "cell_type": "markdown",
      "metadata": {
        "id": "JdnkZ2g2M990"
      },
      "source": [
        "Download the results, which in our case, to Colab"
      ]
    },
    {
      "cell_type": "code",
      "metadata": {
        "colab": {
          "base_uri": "https://localhost:8080/"
        },
        "id": "-RwZXk0y9xiD",
        "outputId": "74d0bfd2-a70b-4ec0-ab38-9743e3207f2d"
      },
      "source": [
        "print(results_S3Url)"
      ],
      "execution_count": 41,
      "outputs": [
        {
          "output_type": "stream",
          "name": "stdout",
          "text": [
            "s3://chon-hkdl-private/results_17Dec_v6/286289698935-SENTIMENT-b841dd42927179a57826e4fbbf6abca0/output/output.tar.gz\n"
          ]
        }
      ]
    },
    {
      "cell_type": "code",
      "metadata": {
        "id": "ORBJ6CS2M991"
      },
      "source": [
        "# Give your local results file a name; after download, there should be a file called \"sentiment.tar.gz\" in Colab\n",
        "results_name = 'sentiment'\n",
        "\n",
        "# local_results_filename = 'Comprehend/outputs/' + results_name + '.tar.gz'\n",
        "local_results_filename = results_name + '.tar.gz'\n",
        "\n",
        "s3_name = 's3://' + bucket_name + '/'\n",
        "results_aws_filename = results_S3Url.replace(s3_name, '')\n",
        "\n",
        "# Download results\n",
        "s3 = boto3.client('s3')\n",
        "s3.download_file(bucket_name,\n",
        "                 results_aws_filename, \n",
        "                 local_results_filename)"
      ],
      "execution_count": 42,
      "outputs": []
    },
    {
      "cell_type": "code",
      "source": [
        "print(results_aws_filename)"
      ],
      "metadata": {
        "colab": {
          "base_uri": "https://localhost:8080/"
        },
        "id": "Jt36qWxyrn3D",
        "outputId": "6f28a6ca-62f5-47a7-e66a-7290e1dc7720"
      },
      "execution_count": 43,
      "outputs": [
        {
          "output_type": "stream",
          "name": "stdout",
          "text": [
            "results_17Dec_v6/286289698935-SENTIMENT-b841dd42927179a57826e4fbbf6abca0/output/output.tar.gz\n"
          ]
        }
      ]
    },
    {
      "cell_type": "markdown",
      "metadata": {
        "id": "l1lQshOhM991"
      },
      "source": [
        "#### Process the results"
      ]
    },
    {
      "cell_type": "code",
      "metadata": {
        "id": "cxd7m0uaM991"
      },
      "source": [
        "# Unzip the file \n",
        "# Output filename would just be 'output' without filename extension\n",
        "def extract_targz(targz_file, output_path = ''):\n",
        "    if targz_file.endswith(\"tar.gz\"):\n",
        "        tar = tarfile.open(targz_file, \"r:gz\")\n",
        "        tar.extractall(path = output_path)\n",
        "        tar.close()\n",
        "    elif targz_file.endswith(\"tar\"):\n",
        "        tar = tarfile.open(targz_file, \"r:\")\n",
        "        tar.extractall(path = output_path)\n",
        "        tar.close()"
      ],
      "execution_count": 44,
      "outputs": []
    },
    {
      "cell_type": "code",
      "metadata": {
        "id": "bV5ITAb2M991"
      },
      "source": [
        "# creates a temp file is called 'output'\n",
        "results_name = 'sentiment'\n",
        "# local_results_filename = 'Comprehend/outputs/' + results_name + '.tar.gz'\n",
        "local_results_filename =  results_name + '.tar.gz'\n",
        "\n",
        "output_path = 'Comprehend/outputs/extracted'  #subfolders Comprehend/outputs/extracted will be created in Colab in our case\n",
        "# output_path = 'Comprehend/outputs/extracted_2'\n",
        "extract_targz(local_results_filename, output_path)"
      ],
      "execution_count": 45,
      "outputs": []
    },
    {
      "cell_type": "markdown",
      "metadata": {
        "id": "Ddke16nUM991"
      },
      "source": [
        "Read the results"
      ]
    },
    {
      "cell_type": "code",
      "metadata": {
        "colab": {
          "base_uri": "https://localhost:8080/"
        },
        "id": "iP3hCrvYM991",
        "outputId": "a8190f25-0e8a-4c26-9a06-d9b8ca8a98ec"
      },
      "source": [
        "# Read JSON into a list of dictionary   \n",
        "input_file = output_path + '/output'\n",
        "results = [json.loads(line) for line in open(input_file, 'r')]\n",
        "print('Number of records in the output:',len(results))"
      ],
      "execution_count": 46,
      "outputs": [
        {
          "output_type": "stream",
          "name": "stdout",
          "text": [
            "Number of records in the output: 2784\n"
          ]
        }
      ]
    },
    {
      "cell_type": "code",
      "source": [
        "df_keep.count()"
      ],
      "metadata": {
        "colab": {
          "base_uri": "https://localhost:8080/"
        },
        "id": "1USTmwgwsFCu",
        "outputId": "e651b498-a365-45d4-d8e9-e12b2f61e776"
      },
      "execution_count": 47,
      "outputs": [
        {
          "output_type": "execute_result",
          "data": {
            "text/plain": [
              "Search_Keywords     2784\n",
              "urls                2784\n",
              "Title               2784\n",
              "Youtube Comments    2784\n",
              "language            2784\n",
              "dtype: int64"
            ]
          },
          "metadata": {},
          "execution_count": 47
        }
      ]
    },
    {
      "cell_type": "code",
      "source": [
        "type(results)"
      ],
      "metadata": {
        "colab": {
          "base_uri": "https://localhost:8080/"
        },
        "id": "9DOvHmBUtQFv",
        "outputId": "db9f4cf4-1c4f-4cad-e6d9-35c5a08fa44a"
      },
      "execution_count": 140,
      "outputs": [
        {
          "output_type": "execute_result",
          "data": {
            "text/plain": [
              "list"
            ]
          },
          "metadata": {},
          "execution_count": 140
        }
      ]
    },
    {
      "cell_type": "code",
      "source": [
        "type(results[99])"
      ],
      "metadata": {
        "colab": {
          "base_uri": "https://localhost:8080/"
        },
        "id": "XDubnsM6tZCn",
        "outputId": "0ef181d4-e821-4ea6-d296-825f9c648b54"
      },
      "execution_count": 141,
      "outputs": [
        {
          "output_type": "execute_result",
          "data": {
            "text/plain": [
              "dict"
            ]
          },
          "metadata": {},
          "execution_count": 141
        }
      ]
    },
    {
      "cell_type": "code",
      "source": [
        "len(results)"
      ],
      "metadata": {
        "colab": {
          "base_uri": "https://localhost:8080/"
        },
        "id": "wUkEYjvptVkt",
        "outputId": "21dd9f4d-b85b-4888-fbf1-035c7d1f921b"
      },
      "execution_count": 49,
      "outputs": [
        {
          "output_type": "execute_result",
          "data": {
            "text/plain": [
              "2784"
            ]
          },
          "metadata": {},
          "execution_count": 49
        }
      ]
    },
    {
      "cell_type": "markdown",
      "metadata": {
        "id": "kUOtY6xkM992"
      },
      "source": [
        "This is how the output looks like. Note that often the records are not in the same order that they were sent in."
      ]
    },
    {
      "cell_type": "code",
      "metadata": {
        "colab": {
          "base_uri": "https://localhost:8080/"
        },
        "id": "af0pa1WmM992",
        "outputId": "97f6a3f0-49fb-4491-85d3-b8f740358b84"
      },
      "source": [
        "results[15]"
      ],
      "execution_count": 48,
      "outputs": [
        {
          "output_type": "execute_result",
          "data": {
            "text/plain": [
              "{'File': 'scrapped_youtube_covid_comments_only2.csv',\n",
              " 'Line': 45,\n",
              " 'Sentiment': 'NEUTRAL',\n",
              " 'SentimentScore': {'Mixed': 0.0006715249037370086,\n",
              "  'Negative': 0.043208785355091095,\n",
              "  'Neutral': 0.8975278735160828,\n",
              "  'Positive': 0.05859178677201271}}"
            ]
          },
          "metadata": {},
          "execution_count": 48
        }
      ]
    },
    {
      "cell_type": "code",
      "metadata": {
        "id": "NBWuEcdSM992"
      },
      "source": [
        "# This function parses sentiment data into a dataframe\n",
        "# def parse_sentiment(data):\n",
        "#     df = pd.DataFrame([item['SentimentScore'] for item in data])\n",
        "#     df['File'] = [item.get('File') for item in data]\n",
        "#     df['Sentiment'] = [item.get('Sentiment') for item in data]\n",
        "#     df['Line'] = [item.get('Line') for item in data]\n",
        "#     df.set_index('Line', inplace = True)\n",
        "    \n",
        "#     return(df)"
      ],
      "execution_count": 50,
      "outputs": []
    },
    {
      "cell_type": "code",
      "source": [
        "def parse_sentiment(data):\n",
        "    df = pd.DataFrame([item['SentimentScore'] for item in data])\n",
        "    df['File'] = [item.get('File') for item in data]\n",
        "    df['Sentiment'] = [item.get('Sentiment') for item in data]\n",
        "    df['Line'] = [item.get('Line') for item in data]\n",
        "    df.set_index('Line', inplace = True)\n",
        "    \n",
        "    column_names = [ 'Positive', 'Negative', 'Neutral', 'Mixed', 'Sentiment', 'File' ]\n",
        "    df = df.reindex(columns=column_names)\n",
        "\n",
        "    return(df)"
      ],
      "metadata": {
        "id": "GyXIv_Vu8lnJ"
      },
      "execution_count": 142,
      "outputs": []
    },
    {
      "cell_type": "code",
      "metadata": {
        "id": "P-bFRoH-M992"
      },
      "source": [
        "# convert Results into Dataframe\n",
        "# Let's sort and index the dataframe by line\n",
        "sentiment_results = parse_sentiment(results).sort_index()"
      ],
      "execution_count": 143,
      "outputs": []
    },
    {
      "cell_type": "code",
      "metadata": {
        "colab": {
          "base_uri": "https://localhost:8080/",
          "height": 266
        },
        "id": "3v3_2YnqM992",
        "outputId": "282d2968-dc45-4a0b-89f6-d9c520680b2f"
      },
      "source": [
        "sentiment_results.head(6)"
      ],
      "execution_count": 96,
      "outputs": [
        {
          "output_type": "execute_result",
          "data": {
            "text/html": [
              "<div>\n",
              "<style scoped>\n",
              "    .dataframe tbody tr th:only-of-type {\n",
              "        vertical-align: middle;\n",
              "    }\n",
              "\n",
              "    .dataframe tbody tr th {\n",
              "        vertical-align: top;\n",
              "    }\n",
              "\n",
              "    .dataframe thead th {\n",
              "        text-align: right;\n",
              "    }\n",
              "</style>\n",
              "<table border=\"1\" class=\"dataframe\">\n",
              "  <thead>\n",
              "    <tr style=\"text-align: right;\">\n",
              "      <th></th>\n",
              "      <th>Positive</th>\n",
              "      <th>Negative</th>\n",
              "      <th>Neutral</th>\n",
              "      <th>Mixed</th>\n",
              "      <th>Sentiment</th>\n",
              "      <th>File</th>\n",
              "    </tr>\n",
              "    <tr>\n",
              "      <th>Line</th>\n",
              "      <th></th>\n",
              "      <th></th>\n",
              "      <th></th>\n",
              "      <th></th>\n",
              "      <th></th>\n",
              "      <th></th>\n",
              "    </tr>\n",
              "  </thead>\n",
              "  <tbody>\n",
              "    <tr>\n",
              "      <th>0</th>\n",
              "      <td>0.037343</td>\n",
              "      <td>0.158000</td>\n",
              "      <td>0.130153</td>\n",
              "      <td>0.674504</td>\n",
              "      <td>MIXED</td>\n",
              "      <td>scrapped_youtube_covid_comments_only2.csv</td>\n",
              "    </tr>\n",
              "    <tr>\n",
              "      <th>1</th>\n",
              "      <td>0.995447</td>\n",
              "      <td>0.000157</td>\n",
              "      <td>0.001355</td>\n",
              "      <td>0.003040</td>\n",
              "      <td>POSITIVE</td>\n",
              "      <td>scrapped_youtube_covid_comments_only2.csv</td>\n",
              "    </tr>\n",
              "    <tr>\n",
              "      <th>2</th>\n",
              "      <td>0.038441</td>\n",
              "      <td>0.053885</td>\n",
              "      <td>0.907608</td>\n",
              "      <td>0.000065</td>\n",
              "      <td>NEUTRAL</td>\n",
              "      <td>scrapped_youtube_covid_comments_only2.csv</td>\n",
              "    </tr>\n",
              "    <tr>\n",
              "      <th>3</th>\n",
              "      <td>0.059411</td>\n",
              "      <td>0.036693</td>\n",
              "      <td>0.161282</td>\n",
              "      <td>0.742614</td>\n",
              "      <td>MIXED</td>\n",
              "      <td>scrapped_youtube_covid_comments_only2.csv</td>\n",
              "    </tr>\n",
              "    <tr>\n",
              "      <th>4</th>\n",
              "      <td>0.013596</td>\n",
              "      <td>0.478283</td>\n",
              "      <td>0.456378</td>\n",
              "      <td>0.051742</td>\n",
              "      <td>NEGATIVE</td>\n",
              "      <td>scrapped_youtube_covid_comments_only2.csv</td>\n",
              "    </tr>\n",
              "    <tr>\n",
              "      <th>5</th>\n",
              "      <td>0.640076</td>\n",
              "      <td>0.020303</td>\n",
              "      <td>0.035802</td>\n",
              "      <td>0.303819</td>\n",
              "      <td>POSITIVE</td>\n",
              "      <td>scrapped_youtube_covid_comments_only2.csv</td>\n",
              "    </tr>\n",
              "  </tbody>\n",
              "</table>\n",
              "</div>"
            ],
            "text/plain": [
              "      Positive  Negative  ...  Sentiment                                       File\n",
              "Line                      ...                                                      \n",
              "0     0.037343  0.158000  ...      MIXED  scrapped_youtube_covid_comments_only2.csv\n",
              "1     0.995447  0.000157  ...   POSITIVE  scrapped_youtube_covid_comments_only2.csv\n",
              "2     0.038441  0.053885  ...    NEUTRAL  scrapped_youtube_covid_comments_only2.csv\n",
              "3     0.059411  0.036693  ...      MIXED  scrapped_youtube_covid_comments_only2.csv\n",
              "4     0.013596  0.478283  ...   NEGATIVE  scrapped_youtube_covid_comments_only2.csv\n",
              "5     0.640076  0.020303  ...   POSITIVE  scrapped_youtube_covid_comments_only2.csv\n",
              "\n",
              "[6 rows x 6 columns]"
            ]
          },
          "metadata": {},
          "execution_count": 96
        }
      ]
    },
    {
      "cell_type": "code",
      "metadata": {
        "colab": {
          "base_uri": "https://localhost:8080/",
          "height": 266
        },
        "id": "kkappY1uXEh3",
        "outputId": "834eef79-9fea-49c2-fbdd-3416f3415672"
      },
      "source": [
        "sentiment_results.iloc[500:506]"
      ],
      "execution_count": 97,
      "outputs": [
        {
          "output_type": "execute_result",
          "data": {
            "text/html": [
              "<div>\n",
              "<style scoped>\n",
              "    .dataframe tbody tr th:only-of-type {\n",
              "        vertical-align: middle;\n",
              "    }\n",
              "\n",
              "    .dataframe tbody tr th {\n",
              "        vertical-align: top;\n",
              "    }\n",
              "\n",
              "    .dataframe thead th {\n",
              "        text-align: right;\n",
              "    }\n",
              "</style>\n",
              "<table border=\"1\" class=\"dataframe\">\n",
              "  <thead>\n",
              "    <tr style=\"text-align: right;\">\n",
              "      <th></th>\n",
              "      <th>Positive</th>\n",
              "      <th>Negative</th>\n",
              "      <th>Neutral</th>\n",
              "      <th>Mixed</th>\n",
              "      <th>Sentiment</th>\n",
              "      <th>File</th>\n",
              "    </tr>\n",
              "    <tr>\n",
              "      <th>Line</th>\n",
              "      <th></th>\n",
              "      <th></th>\n",
              "      <th></th>\n",
              "      <th></th>\n",
              "      <th></th>\n",
              "      <th></th>\n",
              "    </tr>\n",
              "  </thead>\n",
              "  <tbody>\n",
              "    <tr>\n",
              "      <th>500</th>\n",
              "      <td>0.136216</td>\n",
              "      <td>0.015026</td>\n",
              "      <td>0.848630</td>\n",
              "      <td>0.000128</td>\n",
              "      <td>NEUTRAL</td>\n",
              "      <td>scrapped_youtube_covid_comments_only2.csv</td>\n",
              "    </tr>\n",
              "    <tr>\n",
              "      <th>501</th>\n",
              "      <td>0.045969</td>\n",
              "      <td>0.171399</td>\n",
              "      <td>0.030857</td>\n",
              "      <td>0.751775</td>\n",
              "      <td>MIXED</td>\n",
              "      <td>scrapped_youtube_covid_comments_only2.csv</td>\n",
              "    </tr>\n",
              "    <tr>\n",
              "      <th>502</th>\n",
              "      <td>0.982561</td>\n",
              "      <td>0.004685</td>\n",
              "      <td>0.012517</td>\n",
              "      <td>0.000238</td>\n",
              "      <td>POSITIVE</td>\n",
              "      <td>scrapped_youtube_covid_comments_only2.csv</td>\n",
              "    </tr>\n",
              "    <tr>\n",
              "      <th>503</th>\n",
              "      <td>0.863152</td>\n",
              "      <td>0.105813</td>\n",
              "      <td>0.015464</td>\n",
              "      <td>0.015571</td>\n",
              "      <td>POSITIVE</td>\n",
              "      <td>scrapped_youtube_covid_comments_only2.csv</td>\n",
              "    </tr>\n",
              "    <tr>\n",
              "      <th>504</th>\n",
              "      <td>0.663567</td>\n",
              "      <td>0.059080</td>\n",
              "      <td>0.233360</td>\n",
              "      <td>0.043993</td>\n",
              "      <td>POSITIVE</td>\n",
              "      <td>scrapped_youtube_covid_comments_only2.csv</td>\n",
              "    </tr>\n",
              "    <tr>\n",
              "      <th>505</th>\n",
              "      <td>0.983667</td>\n",
              "      <td>0.000913</td>\n",
              "      <td>0.014668</td>\n",
              "      <td>0.000752</td>\n",
              "      <td>POSITIVE</td>\n",
              "      <td>scrapped_youtube_covid_comments_only2.csv</td>\n",
              "    </tr>\n",
              "  </tbody>\n",
              "</table>\n",
              "</div>"
            ],
            "text/plain": [
              "      Positive  Negative  ...  Sentiment                                       File\n",
              "Line                      ...                                                      \n",
              "500   0.136216  0.015026  ...    NEUTRAL  scrapped_youtube_covid_comments_only2.csv\n",
              "501   0.045969  0.171399  ...      MIXED  scrapped_youtube_covid_comments_only2.csv\n",
              "502   0.982561  0.004685  ...   POSITIVE  scrapped_youtube_covid_comments_only2.csv\n",
              "503   0.863152  0.105813  ...   POSITIVE  scrapped_youtube_covid_comments_only2.csv\n",
              "504   0.663567  0.059080  ...   POSITIVE  scrapped_youtube_covid_comments_only2.csv\n",
              "505   0.983667  0.000913  ...   POSITIVE  scrapped_youtube_covid_comments_only2.csv\n",
              "\n",
              "[6 rows x 6 columns]"
            ]
          },
          "metadata": {},
          "execution_count": 97
        }
      ]
    },
    {
      "cell_type": "code",
      "source": [
        "df_keep.head()"
      ],
      "metadata": {
        "colab": {
          "base_uri": "https://localhost:8080/",
          "height": 765
        },
        "id": "qN6iSemt5ffi",
        "outputId": "a7c1b6e9-ff4e-4ef7-de27-37d9740ced83"
      },
      "execution_count": 98,
      "outputs": [
        {
          "output_type": "execute_result",
          "data": {
            "text/html": [
              "<div>\n",
              "<style scoped>\n",
              "    .dataframe tbody tr th:only-of-type {\n",
              "        vertical-align: middle;\n",
              "    }\n",
              "\n",
              "    .dataframe tbody tr th {\n",
              "        vertical-align: top;\n",
              "    }\n",
              "\n",
              "    .dataframe thead th {\n",
              "        text-align: right;\n",
              "    }\n",
              "</style>\n",
              "<table border=\"1\" class=\"dataframe\">\n",
              "  <thead>\n",
              "    <tr style=\"text-align: right;\">\n",
              "      <th></th>\n",
              "      <th>level_0</th>\n",
              "      <th>index</th>\n",
              "      <th>Search_Keywords</th>\n",
              "      <th>urls</th>\n",
              "      <th>Title</th>\n",
              "      <th>Youtube Comments</th>\n",
              "      <th>language</th>\n",
              "    </tr>\n",
              "  </thead>\n",
              "  <tbody>\n",
              "    <tr>\n",
              "      <th>0</th>\n",
              "      <td>0</td>\n",
              "      <td>1</td>\n",
              "      <td>MACAU COVID</td>\n",
              "      <td>https://www.youtube.com/watch?v=8hxxdfprEsY</td>\n",
              "      <td>Macau turns into ghost town amid Wuhan virus cases</td>\n",
              "      <td>I guess this is a good sign isnt it?, at least it shows people have safety awareness and dont venture around while there is risk of infection. No praise for the local population?.</td>\n",
              "      <td>True</td>\n",
              "    </tr>\n",
              "    <tr>\n",
              "      <th>1</th>\n",
              "      <td>1</td>\n",
              "      <td>2</td>\n",
              "      <td>MACAU COVID</td>\n",
              "      <td>https://www.youtube.com/watch?v=8hxxdfprEsY</td>\n",
              "      <td>Macau turns into ghost town amid Wuhan virus cases</td>\n",
              "      <td>Still beautiful.</td>\n",
              "      <td>True</td>\n",
              "    </tr>\n",
              "    <tr>\n",
              "      <th>2</th>\n",
              "      <td>2</td>\n",
              "      <td>3</td>\n",
              "      <td>MACAU COVID</td>\n",
              "      <td>https://www.youtube.com/watch?v=8hxxdfprEsY</td>\n",
              "      <td>Macau turns into ghost town amid Wuhan virus cases</td>\n",
              "      <td>Macao drives on the left? Being a former Portuguese colony, I thought it would drive on the right, as China and Portugal do.</td>\n",
              "      <td>True</td>\n",
              "    </tr>\n",
              "    <tr>\n",
              "      <th>3</th>\n",
              "      <td>3</td>\n",
              "      <td>4</td>\n",
              "      <td>MACAU COVID</td>\n",
              "      <td>https://www.youtube.com/watch?v=8hxxdfprEsY</td>\n",
              "      <td>Macau turns into ghost town amid Wuhan virus cases</td>\n",
              "      <td>While large cities throughout the world will be less populated, people will return or frick to the cities.  This coronavirus incident marks a demographic shift in the world.  People will be more cautious of any physical contacrs.  Tourism  the sex industry, gambling in casinoes, shopping, even sn open marketplaces, etc.  all will be less crowded.  On the other hand, the online business activities will be boomed more than ever.  Definitely the entire world will change to a large extent.  This also means that many traditional celebrations, sports, theaters will change its course.  The thtill of oeopletopeople contact will be diminished.  Even if the cure for the coronavirus is found, the fear of the physical contact csnnot be erased from the psychological memory.  Gone are the good old days.</td>\n",
              "      <td>True</td>\n",
              "    </tr>\n",
              "    <tr>\n",
              "      <th>4</th>\n",
              "      <td>4</td>\n",
              "      <td>5</td>\n",
              "      <td>MACAU COVID</td>\n",
              "      <td>https://www.youtube.com/watch?v=8hxxdfprEsY</td>\n",
              "      <td>Macau turns into ghost town amid Wuhan virus cases</td>\n",
              "      <td>I don't see why it is called a ghost town</td>\n",
              "      <td>True</td>\n",
              "    </tr>\n",
              "  </tbody>\n",
              "</table>\n",
              "</div>"
            ],
            "text/plain": [
              "   level_0  ...  language\n",
              "0        0  ...      True\n",
              "1        1  ...      True\n",
              "2        2  ...      True\n",
              "3        3  ...      True\n",
              "4        4  ...      True\n",
              "\n",
              "[5 rows x 7 columns]"
            ]
          },
          "metadata": {},
          "execution_count": 98
        }
      ]
    },
    {
      "cell_type": "markdown",
      "metadata": {
        "id": "qFpyUQt4M992"
      },
      "source": [
        "#### Results Validation"
      ]
    },
    {
      "cell_type": "markdown",
      "metadata": {
        "id": "hXTY7gIqM993"
      },
      "source": [
        "Let's take a look at a record and validate that the results were similar (they won't be exactly the same), and that we sorted the dataframe correctly."
      ]
    },
    {
      "cell_type": "code",
      "source": [
        "record_no = 999\n",
        "print('TWEET TEXT:\\n', df_keep['Youtube Comments'].iloc[record_no])"
      ],
      "metadata": {
        "colab": {
          "base_uri": "https://localhost:8080/"
        },
        "id": "0hKE2tKmDE4z",
        "outputId": "8b54709d-bff1-478b-c7e2-ab32fb933f55"
      },
      "execution_count": 99,
      "outputs": [
        {
          "output_type": "stream",
          "name": "stdout",
          "text": [
            "TWEET TEXT:\n",
            " The reason I will visit Macao will be because of the colonial city, I dont care about casino's!\n"
          ]
        }
      ]
    },
    {
      "cell_type": "code",
      "metadata": {
        "colab": {
          "base_uri": "https://localhost:8080/"
        },
        "id": "VCvad13VM993",
        "outputId": "7689d7e5-2281-432f-e3a8-31ebc23be45d"
      },
      "source": [
        "# boto3 reference\n",
        "# https://boto3.amazonaws.com/v1/documentation/api/latest/reference/services/comprehend.html\n",
        "\n",
        "nl = \"\\n\"\n",
        "record_no = 100\n",
        "# Tweet text\n",
        "# print('TWEET TEXT:\\n', df.loc[record_no].item())\n",
        "print('TWEET TEXT:\\n', df_keep['Youtube Comments'].iloc[record_no])\n",
        "\n",
        "# Real Time Results\n",
        "print('\\nREAL TIME RESULTS of Sentiment Scores:') \n",
        "# print(comprehend.detect_sentiment(Text=df.loc[record_no].item(), LanguageCode='en')['SentimentScore'])\n",
        "# print(f\"{comprehend.detect_sentiment(Text=df.loc[record_no].item(), LanguageCode='en')['SentimentScore']}\"\n",
        "#       f\"{nl}\")\n",
        "\n",
        "print(f\"{comprehend.detect_sentiment(Text=df_keep['Youtube Comments'].iloc[record_no], LanguageCode='en')['SentimentScore']}\"\n",
        "      f\"{nl}\")\n",
        "\n",
        "\n",
        "print('REAL TIME RESULTS of Sentiment Prediction:') \n",
        "# print(f\"{comprehend.detect_sentiment(Text=df.loc[record_no].item(), LanguageCode='en')['Sentiment']}\")\n",
        "print(f\"{comprehend.detect_sentiment(Text=df_keep['Youtube Comments'].iloc[record_no], LanguageCode='en')['Sentiment']}\")\n",
        "\n",
        "# Job Resutls\n",
        "print('\\nASYNCHRONOUS RESULTS:')\n",
        "print(sentiment_results.loc[record_no])"
      ],
      "execution_count": 100,
      "outputs": [
        {
          "output_type": "stream",
          "name": "stdout",
          "text": [
            "TWEET TEXT:\n",
            " Great video I just did a video on how we are being misled\n",
            "\n",
            "REAL TIME RESULTS of Sentiment Scores:\n",
            "{'Positive': 0.23583178222179413, 'Negative': 0.030124951153993607, 'Neutral': 0.020934006199240685, 'Mixed': 0.7131092548370361}\n",
            "\n",
            "REAL TIME RESULTS of Sentiment Prediction:\n",
            "MIXED\n",
            "\n",
            "ASYNCHRONOUS RESULTS:\n",
            "Positive                                      0.235832\n",
            "Negative                                      0.030125\n",
            "Neutral                                       0.020934\n",
            "Mixed                                         0.713109\n",
            "Sentiment                                        MIXED\n",
            "File         scrapped_youtube_covid_comments_only2.csv\n",
            "Name: 100, dtype: object\n"
          ]
        }
      ]
    },
    {
      "cell_type": "markdown",
      "metadata": {
        "id": "Y_mM0Q8dM993"
      },
      "source": [
        "#### Save the results file"
      ]
    },
    {
      "cell_type": "code",
      "metadata": {
        "id": "mEV02Oq8M993"
      },
      "source": [
        "output_name = 'Comprehend/outputs/sentiment_results_Youtube_Comments_Scrapped.xlsx'\n",
        "# sentiment_results['Text'] = df.walmart_tweets\n",
        "\n",
        "sentiment_results['Text'] = df_keep['Youtube Comments']\n",
        "\n",
        "sentiment_results['urls'] = df_keep['urls']"
      ],
      "execution_count": 112,
      "outputs": []
    },
    {
      "cell_type": "code",
      "metadata": {
        "id": "UE5TwbOgnHes"
      },
      "source": [
        "sentiment_results.to_excel(output_name, encoding = 'utf-8')"
      ],
      "execution_count": 109,
      "outputs": []
    },
    {
      "cell_type": "code",
      "source": [
        "df_keep['Youtube Comments'].iloc[0]"
      ],
      "metadata": {
        "colab": {
          "base_uri": "https://localhost:8080/",
          "height": 52
        },
        "id": "ZqupYX-C-gQv",
        "outputId": "ce81d760-0806-41c5-b8b7-147c030461fa"
      },
      "execution_count": 102,
      "outputs": [
        {
          "output_type": "execute_result",
          "data": {
            "application/vnd.google.colaboratory.intrinsic+json": {
              "type": "string"
            },
            "text/plain": [
              "'I guess this is a good sign isnt it?, at least it shows people have safety awareness and dont venture around while there is risk of infection. No praise for the local population?.'"
            ]
          },
          "metadata": {},
          "execution_count": 102
        }
      ]
    },
    {
      "cell_type": "code",
      "source": [
        "# df_keep.head()"
      ],
      "metadata": {
        "id": "sMjIfc4q_Lbw"
      },
      "execution_count": 105,
      "outputs": []
    },
    {
      "cell_type": "code",
      "source": [
        "sentiment_results.head()"
      ],
      "metadata": {
        "colab": {
          "base_uri": "https://localhost:8080/",
          "height": 473
        },
        "id": "RFK7wHrF-U1t",
        "outputId": "2f3cdaa3-2bdd-4c0a-cc05-a34faa6ea898"
      },
      "execution_count": 104,
      "outputs": [
        {
          "output_type": "execute_result",
          "data": {
            "text/html": [
              "<div>\n",
              "<style scoped>\n",
              "    .dataframe tbody tr th:only-of-type {\n",
              "        vertical-align: middle;\n",
              "    }\n",
              "\n",
              "    .dataframe tbody tr th {\n",
              "        vertical-align: top;\n",
              "    }\n",
              "\n",
              "    .dataframe thead th {\n",
              "        text-align: right;\n",
              "    }\n",
              "</style>\n",
              "<table border=\"1\" class=\"dataframe\">\n",
              "  <thead>\n",
              "    <tr style=\"text-align: right;\">\n",
              "      <th></th>\n",
              "      <th>Positive</th>\n",
              "      <th>Negative</th>\n",
              "      <th>Neutral</th>\n",
              "      <th>Mixed</th>\n",
              "      <th>Sentiment</th>\n",
              "      <th>File</th>\n",
              "      <th>Text</th>\n",
              "    </tr>\n",
              "    <tr>\n",
              "      <th>Line</th>\n",
              "      <th></th>\n",
              "      <th></th>\n",
              "      <th></th>\n",
              "      <th></th>\n",
              "      <th></th>\n",
              "      <th></th>\n",
              "      <th></th>\n",
              "    </tr>\n",
              "  </thead>\n",
              "  <tbody>\n",
              "    <tr>\n",
              "      <th>0</th>\n",
              "      <td>0.037343</td>\n",
              "      <td>0.158000</td>\n",
              "      <td>0.130153</td>\n",
              "      <td>0.674504</td>\n",
              "      <td>MIXED</td>\n",
              "      <td>scrapped_youtube_covid_comments_only2.csv</td>\n",
              "      <td>I guess this is a good sign isnt it?, at least it shows people have safety awareness and dont venture around while there is risk of infection. No praise for the local population?.</td>\n",
              "    </tr>\n",
              "    <tr>\n",
              "      <th>1</th>\n",
              "      <td>0.995447</td>\n",
              "      <td>0.000157</td>\n",
              "      <td>0.001355</td>\n",
              "      <td>0.003040</td>\n",
              "      <td>POSITIVE</td>\n",
              "      <td>scrapped_youtube_covid_comments_only2.csv</td>\n",
              "      <td>Still beautiful.</td>\n",
              "    </tr>\n",
              "    <tr>\n",
              "      <th>2</th>\n",
              "      <td>0.038441</td>\n",
              "      <td>0.053885</td>\n",
              "      <td>0.907608</td>\n",
              "      <td>0.000065</td>\n",
              "      <td>NEUTRAL</td>\n",
              "      <td>scrapped_youtube_covid_comments_only2.csv</td>\n",
              "      <td>Macao drives on the left? Being a former Portuguese colony, I thought it would drive on the right, as China and Portugal do.</td>\n",
              "    </tr>\n",
              "    <tr>\n",
              "      <th>3</th>\n",
              "      <td>0.059411</td>\n",
              "      <td>0.036693</td>\n",
              "      <td>0.161282</td>\n",
              "      <td>0.742614</td>\n",
              "      <td>MIXED</td>\n",
              "      <td>scrapped_youtube_covid_comments_only2.csv</td>\n",
              "      <td>While large cities throughout the world will be less populated, people will return or frick to the cities.  This coronavirus incident marks a demographic shift in the world.  People will be more cautious of any physical contacrs.  Tourism  the sex industry, gambling in casinoes, shopping, even sn open marketplaces, etc.  all will be less crowded.  On the other hand, the online business activities will be boomed more than ever.  Definitely the entire world will change to a large extent.  This also means that many traditional celebrations, sports, theaters will change its course.  The thtill of oeopletopeople contact will be diminished.  Even if the cure for the coronavirus is found, the fear of the physical contact csnnot be erased from the psychological memory.  Gone are the good old days.</td>\n",
              "    </tr>\n",
              "    <tr>\n",
              "      <th>4</th>\n",
              "      <td>0.013596</td>\n",
              "      <td>0.478283</td>\n",
              "      <td>0.456378</td>\n",
              "      <td>0.051742</td>\n",
              "      <td>NEGATIVE</td>\n",
              "      <td>scrapped_youtube_covid_comments_only2.csv</td>\n",
              "      <td>I don't see why it is called a ghost town</td>\n",
              "    </tr>\n",
              "  </tbody>\n",
              "</table>\n",
              "</div>"
            ],
            "text/plain": [
              "      Positive  ...                                                                                                                                                                                                                                                                                                                                                                                                                                                                                                                                                                                                                                                                                                                                                                                                                              Text\n",
              "Line            ...                                                                                                                                                                                                                                                                                                                                                                                                                                                                                                                                                                                                                                                                                                                                                                                                                                  \n",
              "0     0.037343  ...                                                                                                                                                                                                                                                                                                                                                                                                                                                                                                                                                                                                                                               I guess this is a good sign isnt it?, at least it shows people have safety awareness and dont venture around while there is risk of infection. No praise for the local population?.\n",
              "1     0.995447  ...                                                                                                                                                                                                                                                                                                                                                                                                                                                                                                                                                                                                                                                                                                                                                                                                                  Still beautiful.\n",
              "2     0.038441  ...                                                                                                                                                                                                                                                                                                                                                                                                                                                                                                                                                                                                                                                                                                      Macao drives on the left? Being a former Portuguese colony, I thought it would drive on the right, as China and Portugal do.\n",
              "3     0.059411  ...  While large cities throughout the world will be less populated, people will return or frick to the cities.  This coronavirus incident marks a demographic shift in the world.  People will be more cautious of any physical contacrs.  Tourism  the sex industry, gambling in casinoes, shopping, even sn open marketplaces, etc.  all will be less crowded.  On the other hand, the online business activities will be boomed more than ever.  Definitely the entire world will change to a large extent.  This also means that many traditional celebrations, sports, theaters will change its course.  The thtill of oeopletopeople contact will be diminished.  Even if the cure for the coronavirus is found, the fear of the physical contact csnnot be erased from the psychological memory.  Gone are the good old days.\n",
              "4     0.013596  ...                                                                                                                                                                                                                                                                                                                                                                                                                                                                                                                                                                                                                                                                                                                                                                                         I don't see why it is called a ghost town\n",
              "\n",
              "[5 rows x 7 columns]"
            ]
          },
          "metadata": {},
          "execution_count": 104
        }
      ]
    },
    {
      "cell_type": "code",
      "metadata": {
        "colab": {
          "base_uri": "https://localhost:8080/",
          "height": 303
        },
        "id": "VkNQmFk_MwI9",
        "outputId": "92e95ca5-1586-42e4-c02c-2216ecf667ad"
      },
      "source": [
        "sentiment_results.iloc[995:1000]"
      ],
      "execution_count": 106,
      "outputs": [
        {
          "output_type": "execute_result",
          "data": {
            "text/html": [
              "<div>\n",
              "<style scoped>\n",
              "    .dataframe tbody tr th:only-of-type {\n",
              "        vertical-align: middle;\n",
              "    }\n",
              "\n",
              "    .dataframe tbody tr th {\n",
              "        vertical-align: top;\n",
              "    }\n",
              "\n",
              "    .dataframe thead th {\n",
              "        text-align: right;\n",
              "    }\n",
              "</style>\n",
              "<table border=\"1\" class=\"dataframe\">\n",
              "  <thead>\n",
              "    <tr style=\"text-align: right;\">\n",
              "      <th></th>\n",
              "      <th>Positive</th>\n",
              "      <th>Negative</th>\n",
              "      <th>Neutral</th>\n",
              "      <th>Mixed</th>\n",
              "      <th>Sentiment</th>\n",
              "      <th>File</th>\n",
              "      <th>Text</th>\n",
              "    </tr>\n",
              "    <tr>\n",
              "      <th>Line</th>\n",
              "      <th></th>\n",
              "      <th></th>\n",
              "      <th></th>\n",
              "      <th></th>\n",
              "      <th></th>\n",
              "      <th></th>\n",
              "      <th></th>\n",
              "    </tr>\n",
              "  </thead>\n",
              "  <tbody>\n",
              "    <tr>\n",
              "      <th>995</th>\n",
              "      <td>0.011716</td>\n",
              "      <td>0.774919</td>\n",
              "      <td>0.211049</td>\n",
              "      <td>0.002316</td>\n",
              "      <td>NEGATIVE</td>\n",
              "      <td>scrapped_youtube_covid_comments_only2.csv</td>\n",
              "      <td>I was wondering why there were son many chinese people in monaco, then I noticed that I heavily misread the title!</td>\n",
              "    </tr>\n",
              "    <tr>\n",
              "      <th>996</th>\n",
              "      <td>0.258444</td>\n",
              "      <td>0.439574</td>\n",
              "      <td>0.291792</td>\n",
              "      <td>0.010190</td>\n",
              "      <td>NEGATIVE</td>\n",
              "      <td>scrapped_youtube_covid_comments_only2.csv</td>\n",
              "      <td>Almost everything here is  manufactured. Billions of dollars is emphasised !</td>\n",
              "    </tr>\n",
              "    <tr>\n",
              "      <th>997</th>\n",
              "      <td>0.231914</td>\n",
              "      <td>0.005814</td>\n",
              "      <td>0.762072</td>\n",
              "      <td>0.000200</td>\n",
              "      <td>NEUTRAL</td>\n",
              "      <td>scrapped_youtube_covid_comments_only2.csv</td>\n",
              "      <td>I will visit once I am in Asia later this year.</td>\n",
              "    </tr>\n",
              "    <tr>\n",
              "      <th>998</th>\n",
              "      <td>0.289576</td>\n",
              "      <td>0.055305</td>\n",
              "      <td>0.116678</td>\n",
              "      <td>0.538440</td>\n",
              "      <td>MIXED</td>\n",
              "      <td>scrapped_youtube_covid_comments_only2.csv</td>\n",
              "      <td>Its funny how they only stayed in the cotai strip area and still talked about history but never went to coloane or hac sa...</td>\n",
              "    </tr>\n",
              "    <tr>\n",
              "      <th>999</th>\n",
              "      <td>0.090833</td>\n",
              "      <td>0.225845</td>\n",
              "      <td>0.679583</td>\n",
              "      <td>0.003739</td>\n",
              "      <td>NEUTRAL</td>\n",
              "      <td>scrapped_youtube_covid_comments_only2.csv</td>\n",
              "      <td>The reason I will visit Macao will be because of the colonial city, I dont care about casino's!</td>\n",
              "    </tr>\n",
              "  </tbody>\n",
              "</table>\n",
              "</div>"
            ],
            "text/plain": [
              "      Positive  ...                                                                                                                          Text\n",
              "Line            ...                                                                                                                              \n",
              "995   0.011716  ...            I was wondering why there were son many chinese people in monaco, then I noticed that I heavily misread the title!\n",
              "996   0.258444  ...                                                  Almost everything here is  manufactured. Billions of dollars is emphasised !\n",
              "997   0.231914  ...                                                                               I will visit once I am in Asia later this year.\n",
              "998   0.289576  ...  Its funny how they only stayed in the cotai strip area and still talked about history but never went to coloane or hac sa...\n",
              "999   0.090833  ...                               The reason I will visit Macao will be because of the colonial city, I dont care about casino's!\n",
              "\n",
              "[5 rows x 7 columns]"
            ]
          },
          "metadata": {},
          "execution_count": 106
        }
      ]
    },
    {
      "cell_type": "code",
      "source": [
        "df_keep['Youtube Comments'].iloc[999]"
      ],
      "metadata": {
        "colab": {
          "base_uri": "https://localhost:8080/",
          "height": 35
        },
        "id": "dFauEf889l1U",
        "outputId": "1d1746f5-9cbd-4631-d59b-097153f0836d"
      },
      "execution_count": 107,
      "outputs": [
        {
          "output_type": "execute_result",
          "data": {
            "application/vnd.google.colaboratory.intrinsic+json": {
              "type": "string"
            },
            "text/plain": [
              "\"The reason I will visit Macao will be because of the colonial city, I dont care about casino's!\""
            ]
          },
          "metadata": {},
          "execution_count": 107
        }
      ]
    },
    {
      "cell_type": "code",
      "metadata": {
        "id": "_sk1H14qnesw"
      },
      "source": [
        ""
      ],
      "execution_count": null,
      "outputs": []
    },
    {
      "cell_type": "markdown",
      "source": [
        "#### Analyze the Results"
      ],
      "metadata": {
        "id": "L_ei4rgWkOus"
      }
    },
    {
      "cell_type": "code",
      "source": [
        "colors = ['Grey', 'Pink', 'Tan', 'Green']\n",
        "sentiment_results.groupby('Sentiment').size().plot.bar(stacked=True, color = colors, width=0.8);"
      ],
      "metadata": {
        "colab": {
          "base_uri": "https://localhost:8080/",
          "height": 319
        },
        "id": "Y4dkoGmXkWt-",
        "outputId": "bbd71530-2a29-45f6-be7f-3029a215b61e"
      },
      "execution_count": 127,
      "outputs": [
        {
          "output_type": "display_data",
          "data": {
            "image/png": "[encoded data removed]",
            "text/plain": [
              "<Figure size 432x288 with 1 Axes>"
            ]
          },
          "metadata": {
            "needs_background": "light"
          }
        }
      ]
    },
    {
      "cell_type": "code",
      "source": [
        "sentiment_results.groupby('Sentiment').size()/sentiment_results['Sentiment'].count()"
      ],
      "metadata": {
        "colab": {
          "base_uri": "https://localhost:8080/"
        },
        "id": "v9EUZCv0krLf",
        "outputId": "1ebaa0bc-e46c-4307-c2c2-306732d75ca4"
      },
      "execution_count": 111,
      "outputs": [
        {
          "output_type": "execute_result",
          "data": {
            "text/plain": [
              "Sentiment\n",
              "MIXED       0.055316\n",
              "NEGATIVE    0.295618\n",
              "NEUTRAL     0.396193\n",
              "POSITIVE    0.252874\n",
              "dtype: float64"
            ]
          },
          "metadata": {},
          "execution_count": 111
        }
      ]
    },
    {
      "cell_type": "code",
      "source": [
        "# sentiment_results.groupby('Sentiment').size()\n",
        "sentiment_results['Sentiment'].count()\n",
        "# sentiment_results.count()"
      ],
      "metadata": {
        "colab": {
          "base_uri": "https://localhost:8080/"
        },
        "id": "cNNHkFvAldDQ",
        "outputId": "ec4fe9f9-6d10-47f8-e0b0-10cf6f9f916d"
      },
      "execution_count": 297,
      "outputs": [
        {
          "output_type": "execute_result",
          "data": {
            "text/plain": [
              "2784"
            ]
          },
          "metadata": {},
          "execution_count": 297
        }
      ]
    },
    {
      "cell_type": "code",
      "source": [
        "# sentiment_results.urls.unique()"
      ],
      "metadata": {
        "id": "JoJPiK_0lhBF"
      },
      "execution_count": 115,
      "outputs": []
    },
    {
      "cell_type": "code",
      "source": [
        "#Zoom in to individual Videos\n",
        "\n",
        "# for url in sentiment_results.urls.unique():\n",
        "#   print(url)\n",
        "\n",
        "sentiment_results.groupby('urls').size().sort_values(ascending=False)"
      ],
      "metadata": {
        "colab": {
          "base_uri": "https://localhost:8080/"
        },
        "id": "AVUNKBGaDRKl",
        "outputId": "e9a2760c-9de2-4f7a-deb2-f812977ff4b9"
      },
      "execution_count": 131,
      "outputs": [
        {
          "output_type": "execute_result",
          "data": {
            "text/plain": [
              "urls\n",
              "https://www.youtube.com/watch?v=HMaDV4p1Tho    498\n",
              "https://www.youtube.com/watch?v=bXbEsKaAdUE    339\n",
              "https://www.youtube.com/watch?v=dStITCgn73w    327\n",
              "https://www.youtube.com/watch?v=6ubscmDpZJc    291\n",
              "https://www.youtube.com/watch?v=Lzw-BLdxiBM    253\n",
              "https://www.youtube.com/watch?v=5DGwOJXSxqg    237\n",
              "https://www.youtube.com/watch?v=38_wYKXRvOE    202\n",
              "https://www.youtube.com/watch?v=LHgwJoQrNtw    169\n",
              "https://www.youtube.com/watch?v=qiW81dDqILE    121\n",
              "https://www.youtube.com/watch?v=ayasTHA3MQo     58\n",
              "https://www.youtube.com/watch?v=wMPy1Fro4Z4     56\n",
              "https://www.youtube.com/watch?v=8hxxdfprEsY     38\n",
              "https://www.youtube.com/watch?v=blIMNHEXzks     31\n",
              "https://www.youtube.com/watch?v=IS5__3Wc_Ps     30\n",
              "https://www.youtube.com/watch?v=OTMNNcLP1Uo     18\n",
              "https://www.youtube.com/watch?v=jOJHTn7HeXw     15\n",
              "https://www.youtube.com/watch?v=mJm4LUNKpqE     14\n",
              "https://www.youtube.com/watch?v=5ZCuXcooIBg     13\n",
              "https://www.youtube.com/watch?v=pioJrR3Hfwo     12\n",
              "https://www.youtube.com/watch?v=im1AakAttF0     10\n",
              "https://www.youtube.com/watch?v=3IluQ632h9g      7\n",
              "https://www.youtube.com/watch?v=zReBZnVs_2U      6\n",
              "https://www.youtube.com/watch?v=vix1c-pbJv8      6\n",
              "https://www.youtube.com/watch?v=5MpHl-En2GE      6\n",
              "https://www.youtube.com/watch?v=vF9TIEM24Yc      6\n",
              "https://www.youtube.com/watch?v=Ea6nkxC6Hzg      5\n",
              "https://www.youtube.com/watch?v=4rRQ9aNUz74      4\n",
              "https://www.youtube.com/watch?v=D0ErlY_Lix4      3\n",
              "https://www.youtube.com/watch?v=bC7sQt_rf2U      3\n",
              "https://www.youtube.com/watch?v=J_kzvAesJJ8      2\n",
              "https://www.youtube.com/watch?v=NMEGOvXDcGo      2\n",
              "https://www.youtube.com/watch?v=F3KCUYd0JVY      1\n",
              "https://www.youtube.com/watch?v=Jn21dyxnlMI      1\n",
              "dtype: int64"
            ]
          },
          "metadata": {},
          "execution_count": 131
        }
      ]
    },
    {
      "cell_type": "code",
      "source": [
        "url = \"https://www.youtube.com/watch?v=HMaDV4p1Tho\"\n",
        "\n",
        "sentiment_results[sentiment_results['urls']==url].groupby('Sentiment').size().plot.bar(stacked=True, color = colors);"
      ],
      "metadata": {
        "colab": {
          "base_uri": "https://localhost:8080/",
          "height": 319
        },
        "id": "zN94ZUPeDjZg",
        "outputId": "8a816afa-a49c-4b08-cb9c-ce3d77d0924b"
      },
      "execution_count": 132,
      "outputs": [
        {
          "output_type": "display_data",
          "data": {
            "image/png": "[encoded data removed]",
            "text/plain": [
              "<Figure size 432x288 with 1 Axes>"
            ]
          },
          "metadata": {
            "needs_background": "light"
          }
        }
      ]
    },
    {
      "cell_type": "code",
      "source": [
        "url = \"https://www.youtube.com/watch?v=Jn21dyxnlMI\"\n",
        "\n",
        "sentiment_results[sentiment_results['urls']==url].groupby('Sentiment').size().plot.bar(stacked=True, color = colors);"
      ],
      "metadata": {
        "colab": {
          "base_uri": "https://localhost:8080/",
          "height": 314
        },
        "id": "i1I4eokyD0GZ",
        "outputId": "528e1647-7377-4b29-f1c9-6eae4d97c1ac"
      },
      "execution_count": 133,
      "outputs": [
        {
          "output_type": "display_data",
          "data": {
            "image/png": "[encoded data removed]",
            "text/plain": [
              "<Figure size 432x288 with 1 Axes>"
            ]
          },
          "metadata": {
            "needs_background": "light"
          }
        }
      ]
    },
    {
      "cell_type": "code",
      "source": [
        "url = \"https://www.youtube.com/watch?v=38_wYKXRvOE\"\n",
        "\n",
        "sentiment_results[sentiment_results['urls']==url].groupby('Sentiment').size().plot.bar(stacked=True, color = colors);"
      ],
      "metadata": {
        "colab": {
          "base_uri": "https://localhost:8080/",
          "height": 319
        },
        "id": "iIE7eoFCGLAg",
        "outputId": "6ff63886-ff11-4dda-fc75-ae2fe4436cdc"
      },
      "execution_count": 134,
      "outputs": [
        {
          "output_type": "display_data",
          "data": {
            "image/png": "[encoded data removed]",
            "text/plain": [
              "<Figure size 432x288 with 1 Axes>"
            ]
          },
          "metadata": {
            "needs_background": "light"
          }
        }
      ]
    },
    {
      "cell_type": "code",
      "source": [
        ""
      ],
      "metadata": {
        "id": "WDCE-shtGtjq"
      },
      "execution_count": null,
      "outputs": []
    }
  ]
}